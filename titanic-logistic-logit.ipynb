{
 "cells": [
  {
   "cell_type": "code",
   "execution_count": 1,
   "id": "9100c232",
   "metadata": {
    "_cell_guid": "b1076dfc-b9ad-4769-8c92-a6c4dae69d19",
    "_uuid": "8f2839f25d086af736a60e9eeb907d3b93b6e0e5",
    "execution": {
     "iopub.execute_input": "2024-11-28T13:10:31.434269Z",
     "iopub.status.busy": "2024-11-28T13:10:31.433731Z",
     "iopub.status.idle": "2024-11-28T13:10:32.265181Z",
     "shell.execute_reply": "2024-11-28T13:10:32.263964Z"
    },
    "papermill": {
     "duration": 0.856226,
     "end_time": "2024-11-28T13:10:32.267836",
     "exception": false,
     "start_time": "2024-11-28T13:10:31.411610",
     "status": "completed"
    },
    "tags": []
   },
   "outputs": [
    {
     "name": "stdout",
     "output_type": "stream",
     "text": [
      "/kaggle/input/titanic/train.csv\n",
      "/kaggle/input/titanic/test.csv\n",
      "/kaggle/input/titanic/gender_submission.csv\n"
     ]
    }
   ],
   "source": [
    "# This Python 3 environment comes with many helpful analytics libraries installed\n",
    "# It is defined by the kaggle/python Docker image: https://github.com/kaggle/docker-python\n",
    "# For example, here's several helpful packages to load\n",
    "\n",
    "import numpy as np # linear algebra\n",
    "import pandas as pd # data processing, CSV file I/O (e.g. pd.read_csv)\n",
    "\n",
    "# Input data files are available in the read-only \"../input/\" directory\n",
    "# For example, running this (by clicking run or pressing Shift+Enter) will list all files under the input directory\n",
    "\n",
    "import os\n",
    "for dirname, _, filenames in os.walk('/kaggle/input'):\n",
    "    for filename in filenames:\n",
    "        print(os.path.join(dirname, filename))\n",
    "\n",
    "# You can write up to 20GB to the current directory (/kaggle/working/) that gets preserved as output when you create a version using \"Save & Run All\" \n",
    "# You can also write temporary files to /kaggle/temp/, but they won't be saved outside of the current session"
   ]
  },
  {
   "cell_type": "markdown",
   "id": "068316e3",
   "metadata": {
    "papermill": {
     "duration": 0.017475,
     "end_time": "2024-11-28T13:10:32.305216",
     "exception": false,
     "start_time": "2024-11-28T13:10:32.287741",
     "status": "completed"
    },
    "tags": []
   },
   "source": [
    "pd.option_context('mode.use_inf_as_na', True)\n",
    "pd.option_context('mode.use_inf_as_na', True)"
   ]
  },
  {
   "cell_type": "code",
   "execution_count": 2,
   "id": "5a82e73a",
   "metadata": {
    "execution": {
     "iopub.execute_input": "2024-11-28T13:10:32.343847Z",
     "iopub.status.busy": "2024-11-28T13:10:32.342662Z",
     "iopub.status.idle": "2024-11-28T13:10:32.350644Z",
     "shell.execute_reply": "2024-11-28T13:10:32.349637Z"
    },
    "papermill": {
     "duration": 0.029138,
     "end_time": "2024-11-28T13:10:32.352664",
     "exception": false,
     "start_time": "2024-11-28T13:10:32.323526",
     "status": "completed"
    },
    "tags": []
   },
   "outputs": [
    {
     "data": {
      "text/plain": [
       "<pandas._config.config.option_context at 0x79c505f3b340>"
      ]
     },
     "execution_count": 2,
     "metadata": {},
     "output_type": "execute_result"
    }
   ],
   "source": [
    "pd.option_context('mode.use_inf_as_na', True)\n",
    "pd.option_context('mode.use_inf_as_na', True)"
   ]
  },
  {
   "cell_type": "markdown",
   "id": "d5c5e89b",
   "metadata": {
    "papermill": {
     "duration": 0.017959,
     "end_time": "2024-11-28T13:10:32.388659",
     "exception": false,
     "start_time": "2024-11-28T13:10:32.370700",
     "status": "completed"
    },
    "tags": []
   },
   "source": [
    "# Reading the DataFrame"
   ]
  },
  {
   "cell_type": "code",
   "execution_count": 3,
   "id": "4b897045",
   "metadata": {
    "execution": {
     "iopub.execute_input": "2024-11-28T13:10:32.425802Z",
     "iopub.status.busy": "2024-11-28T13:10:32.425453Z",
     "iopub.status.idle": "2024-11-28T13:10:32.462961Z",
     "shell.execute_reply": "2024-11-28T13:10:32.461978Z"
    },
    "papermill": {
     "duration": 0.058432,
     "end_time": "2024-11-28T13:10:32.465038",
     "exception": false,
     "start_time": "2024-11-28T13:10:32.406606",
     "status": "completed"
    },
    "tags": []
   },
   "outputs": [
    {
     "data": {
      "text/html": [
       "<div>\n",
       "<style scoped>\n",
       "    .dataframe tbody tr th:only-of-type {\n",
       "        vertical-align: middle;\n",
       "    }\n",
       "\n",
       "    .dataframe tbody tr th {\n",
       "        vertical-align: top;\n",
       "    }\n",
       "\n",
       "    .dataframe thead th {\n",
       "        text-align: right;\n",
       "    }\n",
       "</style>\n",
       "<table border=\"1\" class=\"dataframe\">\n",
       "  <thead>\n",
       "    <tr style=\"text-align: right;\">\n",
       "      <th></th>\n",
       "      <th>PassengerId</th>\n",
       "      <th>Survived</th>\n",
       "      <th>Pclass</th>\n",
       "      <th>Name</th>\n",
       "      <th>Sex</th>\n",
       "      <th>Age</th>\n",
       "      <th>SibSp</th>\n",
       "      <th>Parch</th>\n",
       "      <th>Ticket</th>\n",
       "      <th>Fare</th>\n",
       "      <th>Cabin</th>\n",
       "      <th>Embarked</th>\n",
       "    </tr>\n",
       "  </thead>\n",
       "  <tbody>\n",
       "    <tr>\n",
       "      <th>0</th>\n",
       "      <td>1</td>\n",
       "      <td>0</td>\n",
       "      <td>3</td>\n",
       "      <td>Braund, Mr. Owen Harris</td>\n",
       "      <td>male</td>\n",
       "      <td>22.0</td>\n",
       "      <td>1</td>\n",
       "      <td>0</td>\n",
       "      <td>A/5 21171</td>\n",
       "      <td>7.2500</td>\n",
       "      <td>NaN</td>\n",
       "      <td>S</td>\n",
       "    </tr>\n",
       "    <tr>\n",
       "      <th>1</th>\n",
       "      <td>2</td>\n",
       "      <td>1</td>\n",
       "      <td>1</td>\n",
       "      <td>Cumings, Mrs. John Bradley (Florence Briggs Th...</td>\n",
       "      <td>female</td>\n",
       "      <td>38.0</td>\n",
       "      <td>1</td>\n",
       "      <td>0</td>\n",
       "      <td>PC 17599</td>\n",
       "      <td>71.2833</td>\n",
       "      <td>C85</td>\n",
       "      <td>C</td>\n",
       "    </tr>\n",
       "    <tr>\n",
       "      <th>2</th>\n",
       "      <td>3</td>\n",
       "      <td>1</td>\n",
       "      <td>3</td>\n",
       "      <td>Heikkinen, Miss. Laina</td>\n",
       "      <td>female</td>\n",
       "      <td>26.0</td>\n",
       "      <td>0</td>\n",
       "      <td>0</td>\n",
       "      <td>STON/O2. 3101282</td>\n",
       "      <td>7.9250</td>\n",
       "      <td>NaN</td>\n",
       "      <td>S</td>\n",
       "    </tr>\n",
       "    <tr>\n",
       "      <th>3</th>\n",
       "      <td>4</td>\n",
       "      <td>1</td>\n",
       "      <td>1</td>\n",
       "      <td>Futrelle, Mrs. Jacques Heath (Lily May Peel)</td>\n",
       "      <td>female</td>\n",
       "      <td>35.0</td>\n",
       "      <td>1</td>\n",
       "      <td>0</td>\n",
       "      <td>113803</td>\n",
       "      <td>53.1000</td>\n",
       "      <td>C123</td>\n",
       "      <td>S</td>\n",
       "    </tr>\n",
       "    <tr>\n",
       "      <th>4</th>\n",
       "      <td>5</td>\n",
       "      <td>0</td>\n",
       "      <td>3</td>\n",
       "      <td>Allen, Mr. William Henry</td>\n",
       "      <td>male</td>\n",
       "      <td>35.0</td>\n",
       "      <td>0</td>\n",
       "      <td>0</td>\n",
       "      <td>373450</td>\n",
       "      <td>8.0500</td>\n",
       "      <td>NaN</td>\n",
       "      <td>S</td>\n",
       "    </tr>\n",
       "  </tbody>\n",
       "</table>\n",
       "</div>"
      ],
      "text/plain": [
       "   PassengerId  Survived  Pclass  \\\n",
       "0            1         0       3   \n",
       "1            2         1       1   \n",
       "2            3         1       3   \n",
       "3            4         1       1   \n",
       "4            5         0       3   \n",
       "\n",
       "                                                Name     Sex   Age  SibSp  \\\n",
       "0                            Braund, Mr. Owen Harris    male  22.0      1   \n",
       "1  Cumings, Mrs. John Bradley (Florence Briggs Th...  female  38.0      1   \n",
       "2                             Heikkinen, Miss. Laina  female  26.0      0   \n",
       "3       Futrelle, Mrs. Jacques Heath (Lily May Peel)  female  35.0      1   \n",
       "4                           Allen, Mr. William Henry    male  35.0      0   \n",
       "\n",
       "   Parch            Ticket     Fare Cabin Embarked  \n",
       "0      0         A/5 21171   7.2500   NaN        S  \n",
       "1      0          PC 17599  71.2833   C85        C  \n",
       "2      0  STON/O2. 3101282   7.9250   NaN        S  \n",
       "3      0            113803  53.1000  C123        S  \n",
       "4      0            373450   8.0500   NaN        S  "
      ]
     },
     "execution_count": 3,
     "metadata": {},
     "output_type": "execute_result"
    }
   ],
   "source": [
    "train_data = pd.read_csv(\"/kaggle/input/titanic/train.csv\")\n",
    "train_data.head()"
   ]
  },
  {
   "cell_type": "code",
   "execution_count": 4,
   "id": "db7d1571",
   "metadata": {
    "execution": {
     "iopub.execute_input": "2024-11-28T13:10:32.503207Z",
     "iopub.status.busy": "2024-11-28T13:10:32.502778Z",
     "iopub.status.idle": "2024-11-28T13:10:32.520066Z",
     "shell.execute_reply": "2024-11-28T13:10:32.519087Z"
    },
    "papermill": {
     "duration": 0.038924,
     "end_time": "2024-11-28T13:10:32.522306",
     "exception": false,
     "start_time": "2024-11-28T13:10:32.483382",
     "status": "completed"
    },
    "tags": []
   },
   "outputs": [
    {
     "data": {
      "text/html": [
       "<div>\n",
       "<style scoped>\n",
       "    .dataframe tbody tr th:only-of-type {\n",
       "        vertical-align: middle;\n",
       "    }\n",
       "\n",
       "    .dataframe tbody tr th {\n",
       "        vertical-align: top;\n",
       "    }\n",
       "\n",
       "    .dataframe thead th {\n",
       "        text-align: right;\n",
       "    }\n",
       "</style>\n",
       "<table border=\"1\" class=\"dataframe\">\n",
       "  <thead>\n",
       "    <tr style=\"text-align: right;\">\n",
       "      <th></th>\n",
       "      <th>Survived</th>\n",
       "      <th>Pclass</th>\n",
       "      <th>Name</th>\n",
       "      <th>Sex</th>\n",
       "      <th>Age</th>\n",
       "      <th>SibSp</th>\n",
       "      <th>Parch</th>\n",
       "      <th>Ticket</th>\n",
       "      <th>Fare</th>\n",
       "      <th>Cabin</th>\n",
       "      <th>Embarked</th>\n",
       "    </tr>\n",
       "    <tr>\n",
       "      <th>PassengerId</th>\n",
       "      <th></th>\n",
       "      <th></th>\n",
       "      <th></th>\n",
       "      <th></th>\n",
       "      <th></th>\n",
       "      <th></th>\n",
       "      <th></th>\n",
       "      <th></th>\n",
       "      <th></th>\n",
       "      <th></th>\n",
       "      <th></th>\n",
       "    </tr>\n",
       "  </thead>\n",
       "  <tbody>\n",
       "    <tr>\n",
       "      <th>1</th>\n",
       "      <td>0</td>\n",
       "      <td>3</td>\n",
       "      <td>Braund, Mr. Owen Harris</td>\n",
       "      <td>male</td>\n",
       "      <td>22.0</td>\n",
       "      <td>1</td>\n",
       "      <td>0</td>\n",
       "      <td>A/5 21171</td>\n",
       "      <td>7.2500</td>\n",
       "      <td>NaN</td>\n",
       "      <td>S</td>\n",
       "    </tr>\n",
       "    <tr>\n",
       "      <th>2</th>\n",
       "      <td>1</td>\n",
       "      <td>1</td>\n",
       "      <td>Cumings, Mrs. John Bradley (Florence Briggs Th...</td>\n",
       "      <td>female</td>\n",
       "      <td>38.0</td>\n",
       "      <td>1</td>\n",
       "      <td>0</td>\n",
       "      <td>PC 17599</td>\n",
       "      <td>71.2833</td>\n",
       "      <td>C85</td>\n",
       "      <td>C</td>\n",
       "    </tr>\n",
       "    <tr>\n",
       "      <th>3</th>\n",
       "      <td>1</td>\n",
       "      <td>3</td>\n",
       "      <td>Heikkinen, Miss. Laina</td>\n",
       "      <td>female</td>\n",
       "      <td>26.0</td>\n",
       "      <td>0</td>\n",
       "      <td>0</td>\n",
       "      <td>STON/O2. 3101282</td>\n",
       "      <td>7.9250</td>\n",
       "      <td>NaN</td>\n",
       "      <td>S</td>\n",
       "    </tr>\n",
       "    <tr>\n",
       "      <th>4</th>\n",
       "      <td>1</td>\n",
       "      <td>1</td>\n",
       "      <td>Futrelle, Mrs. Jacques Heath (Lily May Peel)</td>\n",
       "      <td>female</td>\n",
       "      <td>35.0</td>\n",
       "      <td>1</td>\n",
       "      <td>0</td>\n",
       "      <td>113803</td>\n",
       "      <td>53.1000</td>\n",
       "      <td>C123</td>\n",
       "      <td>S</td>\n",
       "    </tr>\n",
       "    <tr>\n",
       "      <th>5</th>\n",
       "      <td>0</td>\n",
       "      <td>3</td>\n",
       "      <td>Allen, Mr. William Henry</td>\n",
       "      <td>male</td>\n",
       "      <td>35.0</td>\n",
       "      <td>0</td>\n",
       "      <td>0</td>\n",
       "      <td>373450</td>\n",
       "      <td>8.0500</td>\n",
       "      <td>NaN</td>\n",
       "      <td>S</td>\n",
       "    </tr>\n",
       "  </tbody>\n",
       "</table>\n",
       "</div>"
      ],
      "text/plain": [
       "             Survived  Pclass  \\\n",
       "PassengerId                     \n",
       "1                   0       3   \n",
       "2                   1       1   \n",
       "3                   1       3   \n",
       "4                   1       1   \n",
       "5                   0       3   \n",
       "\n",
       "                                                          Name     Sex   Age  \\\n",
       "PassengerId                                                                    \n",
       "1                                      Braund, Mr. Owen Harris    male  22.0   \n",
       "2            Cumings, Mrs. John Bradley (Florence Briggs Th...  female  38.0   \n",
       "3                                       Heikkinen, Miss. Laina  female  26.0   \n",
       "4                 Futrelle, Mrs. Jacques Heath (Lily May Peel)  female  35.0   \n",
       "5                                     Allen, Mr. William Henry    male  35.0   \n",
       "\n",
       "             SibSp  Parch            Ticket     Fare Cabin Embarked  \n",
       "PassengerId                                                          \n",
       "1                1      0         A/5 21171   7.2500   NaN        S  \n",
       "2                1      0          PC 17599  71.2833   C85        C  \n",
       "3                0      0  STON/O2. 3101282   7.9250   NaN        S  \n",
       "4                1      0            113803  53.1000  C123        S  \n",
       "5                0      0            373450   8.0500   NaN        S  "
      ]
     },
     "execution_count": 4,
     "metadata": {},
     "output_type": "execute_result"
    }
   ],
   "source": [
    "train_data.set_index('PassengerId', inplace=True)\n",
    "train_data.head()"
   ]
  },
  {
   "cell_type": "code",
   "execution_count": 5,
   "id": "137fa90a",
   "metadata": {
    "execution": {
     "iopub.execute_input": "2024-11-28T13:10:32.560928Z",
     "iopub.status.busy": "2024-11-28T13:10:32.560231Z",
     "iopub.status.idle": "2024-11-28T13:10:32.572084Z",
     "shell.execute_reply": "2024-11-28T13:10:32.571024Z"
    },
    "papermill": {
     "duration": 0.033973,
     "end_time": "2024-11-28T13:10:32.574689",
     "exception": false,
     "start_time": "2024-11-28T13:10:32.540716",
     "status": "completed"
    },
    "tags": []
   },
   "outputs": [],
   "source": [
    "test_data = pd.read_csv(\"/kaggle/input/titanic/test.csv\")"
   ]
  },
  {
   "cell_type": "code",
   "execution_count": 6,
   "id": "654099bc",
   "metadata": {
    "execution": {
     "iopub.execute_input": "2024-11-28T13:10:32.613376Z",
     "iopub.status.busy": "2024-11-28T13:10:32.612530Z",
     "iopub.status.idle": "2024-11-28T13:10:32.622743Z",
     "shell.execute_reply": "2024-11-28T13:10:32.621773Z"
    },
    "papermill": {
     "duration": 0.031677,
     "end_time": "2024-11-28T13:10:32.624869",
     "exception": false,
     "start_time": "2024-11-28T13:10:32.593192",
     "status": "completed"
    },
    "tags": []
   },
   "outputs": [
    {
     "name": "stdout",
     "output_type": "stream",
     "text": [
      "% of women survived 74.2\n"
     ]
    }
   ],
   "source": [
    "train_female = train_data.loc[train_data.Sex == \"female\"][\"Survived\"]\n",
    "rate_women = round((sum(train_female)/len(train_female))*100,2)\n",
    "print(\"% of women survived\", rate_women)"
   ]
  },
  {
   "cell_type": "code",
   "execution_count": 7,
   "id": "5897ad67",
   "metadata": {
    "execution": {
     "iopub.execute_input": "2024-11-28T13:10:32.663275Z",
     "iopub.status.busy": "2024-11-28T13:10:32.662874Z",
     "iopub.status.idle": "2024-11-28T13:10:32.670515Z",
     "shell.execute_reply": "2024-11-28T13:10:32.669429Z"
    },
    "papermill": {
     "duration": 0.029314,
     "end_time": "2024-11-28T13:10:32.672575",
     "exception": false,
     "start_time": "2024-11-28T13:10:32.643261",
     "status": "completed"
    },
    "tags": []
   },
   "outputs": [
    {
     "name": "stdout",
     "output_type": "stream",
     "text": [
      "% of women survived 18.89\n"
     ]
    }
   ],
   "source": [
    "train_male = train_data.loc[train_data.Sex == \"male\"][\"Survived\"]\n",
    "rate_men = round((sum(train_male)/len(train_male))*100,2)\n",
    "print(\"% of women survived\", rate_men)"
   ]
  },
  {
   "cell_type": "markdown",
   "id": "a6feccf4",
   "metadata": {
    "papermill": {
     "duration": 0.018451,
     "end_time": "2024-11-28T13:10:32.709297",
     "exception": false,
     "start_time": "2024-11-28T13:10:32.690846",
     "status": "completed"
    },
    "tags": []
   },
   "source": [
    "# EDA"
   ]
  },
  {
   "cell_type": "code",
   "execution_count": 8,
   "id": "7818f8eb",
   "metadata": {
    "execution": {
     "iopub.execute_input": "2024-11-28T13:10:32.747986Z",
     "iopub.status.busy": "2024-11-28T13:10:32.747571Z",
     "iopub.status.idle": "2024-11-28T13:10:32.776524Z",
     "shell.execute_reply": "2024-11-28T13:10:32.775580Z"
    },
    "papermill": {
     "duration": 0.050908,
     "end_time": "2024-11-28T13:10:32.778618",
     "exception": false,
     "start_time": "2024-11-28T13:10:32.727710",
     "status": "completed"
    },
    "tags": []
   },
   "outputs": [
    {
     "data": {
      "text/html": [
       "<div>\n",
       "<style scoped>\n",
       "    .dataframe tbody tr th:only-of-type {\n",
       "        vertical-align: middle;\n",
       "    }\n",
       "\n",
       "    .dataframe tbody tr th {\n",
       "        vertical-align: top;\n",
       "    }\n",
       "\n",
       "    .dataframe thead th {\n",
       "        text-align: right;\n",
       "    }\n",
       "</style>\n",
       "<table border=\"1\" class=\"dataframe\">\n",
       "  <thead>\n",
       "    <tr style=\"text-align: right;\">\n",
       "      <th></th>\n",
       "      <th>Survived</th>\n",
       "      <th>Pclass</th>\n",
       "      <th>Age</th>\n",
       "      <th>SibSp</th>\n",
       "      <th>Parch</th>\n",
       "      <th>Fare</th>\n",
       "    </tr>\n",
       "  </thead>\n",
       "  <tbody>\n",
       "    <tr>\n",
       "      <th>count</th>\n",
       "      <td>891.000000</td>\n",
       "      <td>891.000000</td>\n",
       "      <td>714.000000</td>\n",
       "      <td>891.000000</td>\n",
       "      <td>891.000000</td>\n",
       "      <td>891.000000</td>\n",
       "    </tr>\n",
       "    <tr>\n",
       "      <th>mean</th>\n",
       "      <td>0.383838</td>\n",
       "      <td>2.308642</td>\n",
       "      <td>29.699118</td>\n",
       "      <td>0.523008</td>\n",
       "      <td>0.381594</td>\n",
       "      <td>32.204208</td>\n",
       "    </tr>\n",
       "    <tr>\n",
       "      <th>std</th>\n",
       "      <td>0.486592</td>\n",
       "      <td>0.836071</td>\n",
       "      <td>14.526497</td>\n",
       "      <td>1.102743</td>\n",
       "      <td>0.806057</td>\n",
       "      <td>49.693429</td>\n",
       "    </tr>\n",
       "    <tr>\n",
       "      <th>min</th>\n",
       "      <td>0.000000</td>\n",
       "      <td>1.000000</td>\n",
       "      <td>0.420000</td>\n",
       "      <td>0.000000</td>\n",
       "      <td>0.000000</td>\n",
       "      <td>0.000000</td>\n",
       "    </tr>\n",
       "    <tr>\n",
       "      <th>25%</th>\n",
       "      <td>0.000000</td>\n",
       "      <td>2.000000</td>\n",
       "      <td>20.125000</td>\n",
       "      <td>0.000000</td>\n",
       "      <td>0.000000</td>\n",
       "      <td>7.910400</td>\n",
       "    </tr>\n",
       "    <tr>\n",
       "      <th>50%</th>\n",
       "      <td>0.000000</td>\n",
       "      <td>3.000000</td>\n",
       "      <td>28.000000</td>\n",
       "      <td>0.000000</td>\n",
       "      <td>0.000000</td>\n",
       "      <td>14.454200</td>\n",
       "    </tr>\n",
       "    <tr>\n",
       "      <th>75%</th>\n",
       "      <td>1.000000</td>\n",
       "      <td>3.000000</td>\n",
       "      <td>38.000000</td>\n",
       "      <td>1.000000</td>\n",
       "      <td>0.000000</td>\n",
       "      <td>31.000000</td>\n",
       "    </tr>\n",
       "    <tr>\n",
       "      <th>max</th>\n",
       "      <td>1.000000</td>\n",
       "      <td>3.000000</td>\n",
       "      <td>80.000000</td>\n",
       "      <td>8.000000</td>\n",
       "      <td>6.000000</td>\n",
       "      <td>512.329200</td>\n",
       "    </tr>\n",
       "  </tbody>\n",
       "</table>\n",
       "</div>"
      ],
      "text/plain": [
       "         Survived      Pclass         Age       SibSp       Parch        Fare\n",
       "count  891.000000  891.000000  714.000000  891.000000  891.000000  891.000000\n",
       "mean     0.383838    2.308642   29.699118    0.523008    0.381594   32.204208\n",
       "std      0.486592    0.836071   14.526497    1.102743    0.806057   49.693429\n",
       "min      0.000000    1.000000    0.420000    0.000000    0.000000    0.000000\n",
       "25%      0.000000    2.000000   20.125000    0.000000    0.000000    7.910400\n",
       "50%      0.000000    3.000000   28.000000    0.000000    0.000000   14.454200\n",
       "75%      1.000000    3.000000   38.000000    1.000000    0.000000   31.000000\n",
       "max      1.000000    3.000000   80.000000    8.000000    6.000000  512.329200"
      ]
     },
     "execution_count": 8,
     "metadata": {},
     "output_type": "execute_result"
    }
   ],
   "source": [
    "train_data.describe()"
   ]
  },
  {
   "cell_type": "code",
   "execution_count": 9,
   "id": "3fb741e7",
   "metadata": {
    "execution": {
     "iopub.execute_input": "2024-11-28T13:10:32.817772Z",
     "iopub.status.busy": "2024-11-28T13:10:32.817378Z",
     "iopub.status.idle": "2024-11-28T13:10:32.843306Z",
     "shell.execute_reply": "2024-11-28T13:10:32.842151Z"
    },
    "papermill": {
     "duration": 0.04819,
     "end_time": "2024-11-28T13:10:32.845675",
     "exception": false,
     "start_time": "2024-11-28T13:10:32.797485",
     "status": "completed"
    },
    "tags": []
   },
   "outputs": [
    {
     "name": "stdout",
     "output_type": "stream",
     "text": [
      "<class 'pandas.core.frame.DataFrame'>\n",
      "Index: 891 entries, 1 to 891\n",
      "Data columns (total 11 columns):\n",
      " #   Column    Non-Null Count  Dtype  \n",
      "---  ------    --------------  -----  \n",
      " 0   Survived  891 non-null    int64  \n",
      " 1   Pclass    891 non-null    int64  \n",
      " 2   Name      891 non-null    object \n",
      " 3   Sex       891 non-null    object \n",
      " 4   Age       714 non-null    float64\n",
      " 5   SibSp     891 non-null    int64  \n",
      " 6   Parch     891 non-null    int64  \n",
      " 7   Ticket    891 non-null    object \n",
      " 8   Fare      891 non-null    float64\n",
      " 9   Cabin     204 non-null    object \n",
      " 10  Embarked  889 non-null    object \n",
      "dtypes: float64(2), int64(4), object(5)\n",
      "memory usage: 83.5+ KB\n"
     ]
    }
   ],
   "source": [
    "train_data.info()"
   ]
  },
  {
   "cell_type": "code",
   "execution_count": 10,
   "id": "d77cad0e",
   "metadata": {
    "execution": {
     "iopub.execute_input": "2024-11-28T13:10:32.884825Z",
     "iopub.status.busy": "2024-11-28T13:10:32.884474Z",
     "iopub.status.idle": "2024-11-28T13:10:32.898185Z",
     "shell.execute_reply": "2024-11-28T13:10:32.897187Z"
    },
    "papermill": {
     "duration": 0.035815,
     "end_time": "2024-11-28T13:10:32.900330",
     "exception": false,
     "start_time": "2024-11-28T13:10:32.864515",
     "status": "completed"
    },
    "tags": []
   },
   "outputs": [
    {
     "data": {
      "text/html": [
       "<div>\n",
       "<style scoped>\n",
       "    .dataframe tbody tr th:only-of-type {\n",
       "        vertical-align: middle;\n",
       "    }\n",
       "\n",
       "    .dataframe tbody tr th {\n",
       "        vertical-align: top;\n",
       "    }\n",
       "\n",
       "    .dataframe thead th {\n",
       "        text-align: right;\n",
       "    }\n",
       "</style>\n",
       "<table border=\"1\" class=\"dataframe\">\n",
       "  <thead>\n",
       "    <tr style=\"text-align: right;\">\n",
       "      <th></th>\n",
       "      <th>Name</th>\n",
       "      <th>Sex</th>\n",
       "      <th>Ticket</th>\n",
       "      <th>Cabin</th>\n",
       "      <th>Embarked</th>\n",
       "    </tr>\n",
       "    <tr>\n",
       "      <th>PassengerId</th>\n",
       "      <th></th>\n",
       "      <th></th>\n",
       "      <th></th>\n",
       "      <th></th>\n",
       "      <th></th>\n",
       "    </tr>\n",
       "  </thead>\n",
       "  <tbody>\n",
       "    <tr>\n",
       "      <th>1</th>\n",
       "      <td>Braund, Mr. Owen Harris</td>\n",
       "      <td>male</td>\n",
       "      <td>A/5 21171</td>\n",
       "      <td>NaN</td>\n",
       "      <td>S</td>\n",
       "    </tr>\n",
       "    <tr>\n",
       "      <th>2</th>\n",
       "      <td>Cumings, Mrs. John Bradley (Florence Briggs Th...</td>\n",
       "      <td>female</td>\n",
       "      <td>PC 17599</td>\n",
       "      <td>C85</td>\n",
       "      <td>C</td>\n",
       "    </tr>\n",
       "    <tr>\n",
       "      <th>3</th>\n",
       "      <td>Heikkinen, Miss. Laina</td>\n",
       "      <td>female</td>\n",
       "      <td>STON/O2. 3101282</td>\n",
       "      <td>NaN</td>\n",
       "      <td>S</td>\n",
       "    </tr>\n",
       "    <tr>\n",
       "      <th>4</th>\n",
       "      <td>Futrelle, Mrs. Jacques Heath (Lily May Peel)</td>\n",
       "      <td>female</td>\n",
       "      <td>113803</td>\n",
       "      <td>C123</td>\n",
       "      <td>S</td>\n",
       "    </tr>\n",
       "    <tr>\n",
       "      <th>5</th>\n",
       "      <td>Allen, Mr. William Henry</td>\n",
       "      <td>male</td>\n",
       "      <td>373450</td>\n",
       "      <td>NaN</td>\n",
       "      <td>S</td>\n",
       "    </tr>\n",
       "    <tr>\n",
       "      <th>...</th>\n",
       "      <td>...</td>\n",
       "      <td>...</td>\n",
       "      <td>...</td>\n",
       "      <td>...</td>\n",
       "      <td>...</td>\n",
       "    </tr>\n",
       "    <tr>\n",
       "      <th>887</th>\n",
       "      <td>Montvila, Rev. Juozas</td>\n",
       "      <td>male</td>\n",
       "      <td>211536</td>\n",
       "      <td>NaN</td>\n",
       "      <td>S</td>\n",
       "    </tr>\n",
       "    <tr>\n",
       "      <th>888</th>\n",
       "      <td>Graham, Miss. Margaret Edith</td>\n",
       "      <td>female</td>\n",
       "      <td>112053</td>\n",
       "      <td>B42</td>\n",
       "      <td>S</td>\n",
       "    </tr>\n",
       "    <tr>\n",
       "      <th>889</th>\n",
       "      <td>Johnston, Miss. Catherine Helen \"Carrie\"</td>\n",
       "      <td>female</td>\n",
       "      <td>W./C. 6607</td>\n",
       "      <td>NaN</td>\n",
       "      <td>S</td>\n",
       "    </tr>\n",
       "    <tr>\n",
       "      <th>890</th>\n",
       "      <td>Behr, Mr. Karl Howell</td>\n",
       "      <td>male</td>\n",
       "      <td>111369</td>\n",
       "      <td>C148</td>\n",
       "      <td>C</td>\n",
       "    </tr>\n",
       "    <tr>\n",
       "      <th>891</th>\n",
       "      <td>Dooley, Mr. Patrick</td>\n",
       "      <td>male</td>\n",
       "      <td>370376</td>\n",
       "      <td>NaN</td>\n",
       "      <td>Q</td>\n",
       "    </tr>\n",
       "  </tbody>\n",
       "</table>\n",
       "<p>891 rows × 5 columns</p>\n",
       "</div>"
      ],
      "text/plain": [
       "                                                          Name     Sex  \\\n",
       "PassengerId                                                              \n",
       "1                                      Braund, Mr. Owen Harris    male   \n",
       "2            Cumings, Mrs. John Bradley (Florence Briggs Th...  female   \n",
       "3                                       Heikkinen, Miss. Laina  female   \n",
       "4                 Futrelle, Mrs. Jacques Heath (Lily May Peel)  female   \n",
       "5                                     Allen, Mr. William Henry    male   \n",
       "...                                                        ...     ...   \n",
       "887                                      Montvila, Rev. Juozas    male   \n",
       "888                               Graham, Miss. Margaret Edith  female   \n",
       "889                   Johnston, Miss. Catherine Helen \"Carrie\"  female   \n",
       "890                                      Behr, Mr. Karl Howell    male   \n",
       "891                                        Dooley, Mr. Patrick    male   \n",
       "\n",
       "                       Ticket Cabin Embarked  \n",
       "PassengerId                                   \n",
       "1                   A/5 21171   NaN        S  \n",
       "2                    PC 17599   C85        C  \n",
       "3            STON/O2. 3101282   NaN        S  \n",
       "4                      113803  C123        S  \n",
       "5                      373450   NaN        S  \n",
       "...                       ...   ...      ...  \n",
       "887                    211536   NaN        S  \n",
       "888                    112053   B42        S  \n",
       "889                W./C. 6607   NaN        S  \n",
       "890                    111369  C148        C  \n",
       "891                    370376   NaN        Q  \n",
       "\n",
       "[891 rows x 5 columns]"
      ]
     },
     "execution_count": 10,
     "metadata": {},
     "output_type": "execute_result"
    }
   ],
   "source": [
    "category_column = train_data.select_dtypes(include=['object', 'category']).columns\n",
    "train_data[category_column]"
   ]
  },
  {
   "cell_type": "code",
   "execution_count": 11,
   "id": "b0d16ba5",
   "metadata": {
    "execution": {
     "iopub.execute_input": "2024-11-28T13:10:32.940334Z",
     "iopub.status.busy": "2024-11-28T13:10:32.939882Z",
     "iopub.status.idle": "2024-11-28T13:10:32.955375Z",
     "shell.execute_reply": "2024-11-28T13:10:32.954348Z"
    },
    "papermill": {
     "duration": 0.037994,
     "end_time": "2024-11-28T13:10:32.957550",
     "exception": false,
     "start_time": "2024-11-28T13:10:32.919556",
     "status": "completed"
    },
    "tags": []
   },
   "outputs": [
    {
     "data": {
      "text/html": [
       "<div>\n",
       "<style scoped>\n",
       "    .dataframe tbody tr th:only-of-type {\n",
       "        vertical-align: middle;\n",
       "    }\n",
       "\n",
       "    .dataframe tbody tr th {\n",
       "        vertical-align: top;\n",
       "    }\n",
       "\n",
       "    .dataframe thead th {\n",
       "        text-align: right;\n",
       "    }\n",
       "</style>\n",
       "<table border=\"1\" class=\"dataframe\">\n",
       "  <thead>\n",
       "    <tr style=\"text-align: right;\">\n",
       "      <th></th>\n",
       "      <th>Survived</th>\n",
       "      <th>Pclass</th>\n",
       "      <th>Age</th>\n",
       "      <th>SibSp</th>\n",
       "      <th>Parch</th>\n",
       "      <th>Fare</th>\n",
       "    </tr>\n",
       "    <tr>\n",
       "      <th>PassengerId</th>\n",
       "      <th></th>\n",
       "      <th></th>\n",
       "      <th></th>\n",
       "      <th></th>\n",
       "      <th></th>\n",
       "      <th></th>\n",
       "    </tr>\n",
       "  </thead>\n",
       "  <tbody>\n",
       "    <tr>\n",
       "      <th>1</th>\n",
       "      <td>0</td>\n",
       "      <td>3</td>\n",
       "      <td>22.0</td>\n",
       "      <td>1</td>\n",
       "      <td>0</td>\n",
       "      <td>7.2500</td>\n",
       "    </tr>\n",
       "    <tr>\n",
       "      <th>2</th>\n",
       "      <td>1</td>\n",
       "      <td>1</td>\n",
       "      <td>38.0</td>\n",
       "      <td>1</td>\n",
       "      <td>0</td>\n",
       "      <td>71.2833</td>\n",
       "    </tr>\n",
       "    <tr>\n",
       "      <th>3</th>\n",
       "      <td>1</td>\n",
       "      <td>3</td>\n",
       "      <td>26.0</td>\n",
       "      <td>0</td>\n",
       "      <td>0</td>\n",
       "      <td>7.9250</td>\n",
       "    </tr>\n",
       "    <tr>\n",
       "      <th>4</th>\n",
       "      <td>1</td>\n",
       "      <td>1</td>\n",
       "      <td>35.0</td>\n",
       "      <td>1</td>\n",
       "      <td>0</td>\n",
       "      <td>53.1000</td>\n",
       "    </tr>\n",
       "    <tr>\n",
       "      <th>5</th>\n",
       "      <td>0</td>\n",
       "      <td>3</td>\n",
       "      <td>35.0</td>\n",
       "      <td>0</td>\n",
       "      <td>0</td>\n",
       "      <td>8.0500</td>\n",
       "    </tr>\n",
       "    <tr>\n",
       "      <th>...</th>\n",
       "      <td>...</td>\n",
       "      <td>...</td>\n",
       "      <td>...</td>\n",
       "      <td>...</td>\n",
       "      <td>...</td>\n",
       "      <td>...</td>\n",
       "    </tr>\n",
       "    <tr>\n",
       "      <th>887</th>\n",
       "      <td>0</td>\n",
       "      <td>2</td>\n",
       "      <td>27.0</td>\n",
       "      <td>0</td>\n",
       "      <td>0</td>\n",
       "      <td>13.0000</td>\n",
       "    </tr>\n",
       "    <tr>\n",
       "      <th>888</th>\n",
       "      <td>1</td>\n",
       "      <td>1</td>\n",
       "      <td>19.0</td>\n",
       "      <td>0</td>\n",
       "      <td>0</td>\n",
       "      <td>30.0000</td>\n",
       "    </tr>\n",
       "    <tr>\n",
       "      <th>889</th>\n",
       "      <td>0</td>\n",
       "      <td>3</td>\n",
       "      <td>NaN</td>\n",
       "      <td>1</td>\n",
       "      <td>2</td>\n",
       "      <td>23.4500</td>\n",
       "    </tr>\n",
       "    <tr>\n",
       "      <th>890</th>\n",
       "      <td>1</td>\n",
       "      <td>1</td>\n",
       "      <td>26.0</td>\n",
       "      <td>0</td>\n",
       "      <td>0</td>\n",
       "      <td>30.0000</td>\n",
       "    </tr>\n",
       "    <tr>\n",
       "      <th>891</th>\n",
       "      <td>0</td>\n",
       "      <td>3</td>\n",
       "      <td>32.0</td>\n",
       "      <td>0</td>\n",
       "      <td>0</td>\n",
       "      <td>7.7500</td>\n",
       "    </tr>\n",
       "  </tbody>\n",
       "</table>\n",
       "<p>891 rows × 6 columns</p>\n",
       "</div>"
      ],
      "text/plain": [
       "             Survived  Pclass   Age  SibSp  Parch     Fare\n",
       "PassengerId                                               \n",
       "1                   0       3  22.0      1      0   7.2500\n",
       "2                   1       1  38.0      1      0  71.2833\n",
       "3                   1       3  26.0      0      0   7.9250\n",
       "4                   1       1  35.0      1      0  53.1000\n",
       "5                   0       3  35.0      0      0   8.0500\n",
       "...               ...     ...   ...    ...    ...      ...\n",
       "887                 0       2  27.0      0      0  13.0000\n",
       "888                 1       1  19.0      0      0  30.0000\n",
       "889                 0       3   NaN      1      2  23.4500\n",
       "890                 1       1  26.0      0      0  30.0000\n",
       "891                 0       3  32.0      0      0   7.7500\n",
       "\n",
       "[891 rows x 6 columns]"
      ]
     },
     "execution_count": 11,
     "metadata": {},
     "output_type": "execute_result"
    }
   ],
   "source": [
    "non_category_column = train_data.select_dtypes(exclude=['object', 'category']).columns\n",
    "train_data[non_category_column]"
   ]
  },
  {
   "cell_type": "markdown",
   "id": "e3744d5b",
   "metadata": {
    "papermill": {
     "duration": 0.018851,
     "end_time": "2024-11-28T13:10:32.995669",
     "exception": false,
     "start_time": "2024-11-28T13:10:32.976818",
     "status": "completed"
    },
    "tags": []
   },
   "source": [
    "## checking missing value"
   ]
  },
  {
   "cell_type": "code",
   "execution_count": 12,
   "id": "f79cd128",
   "metadata": {
    "execution": {
     "iopub.execute_input": "2024-11-28T13:10:33.035988Z",
     "iopub.status.busy": "2024-11-28T13:10:33.035283Z",
     "iopub.status.idle": "2024-11-28T13:10:33.043423Z",
     "shell.execute_reply": "2024-11-28T13:10:33.042496Z"
    },
    "papermill": {
     "duration": 0.030726,
     "end_time": "2024-11-28T13:10:33.045438",
     "exception": false,
     "start_time": "2024-11-28T13:10:33.014712",
     "status": "completed"
    },
    "tags": []
   },
   "outputs": [
    {
     "data": {
      "text/plain": [
       "Survived      0\n",
       "Pclass        0\n",
       "Name          0\n",
       "Sex           0\n",
       "Age         177\n",
       "SibSp         0\n",
       "Parch         0\n",
       "Ticket        0\n",
       "Fare          0\n",
       "Cabin       687\n",
       "Embarked      2\n",
       "dtype: int64"
      ]
     },
     "execution_count": 12,
     "metadata": {},
     "output_type": "execute_result"
    }
   ],
   "source": [
    "\n",
    "train_data.isnull().sum()"
   ]
  },
  {
   "cell_type": "code",
   "execution_count": 13,
   "id": "66309ca3",
   "metadata": {
    "execution": {
     "iopub.execute_input": "2024-11-28T13:10:33.085816Z",
     "iopub.status.busy": "2024-11-28T13:10:33.085080Z",
     "iopub.status.idle": "2024-11-28T13:10:33.094342Z",
     "shell.execute_reply": "2024-11-28T13:10:33.093269Z"
    },
    "papermill": {
     "duration": 0.031594,
     "end_time": "2024-11-28T13:10:33.096332",
     "exception": false,
     "start_time": "2024-11-28T13:10:33.064738",
     "status": "completed"
    },
    "tags": []
   },
   "outputs": [
    {
     "data": {
      "text/plain": [
       "Survived     0.0000\n",
       "Pclass       0.0000\n",
       "Name         0.0000\n",
       "Sex          0.0000\n",
       "Age         19.8653\n",
       "SibSp        0.0000\n",
       "Parch        0.0000\n",
       "Ticket       0.0000\n",
       "Fare         0.0000\n",
       "Cabin       77.1044\n",
       "Embarked     0.2245\n",
       "dtype: float64"
      ]
     },
     "execution_count": 13,
     "metadata": {},
     "output_type": "execute_result"
    }
   ],
   "source": [
    "# checking % of missing value\n",
    "round(((train_data.isnull().sum())/len(train_data.index))*100,4)"
   ]
  },
  {
   "cell_type": "code",
   "execution_count": 14,
   "id": "a5d8d27e",
   "metadata": {
    "execution": {
     "iopub.execute_input": "2024-11-28T13:10:33.188184Z",
     "iopub.status.busy": "2024-11-28T13:10:33.187286Z",
     "iopub.status.idle": "2024-11-28T13:10:33.194406Z",
     "shell.execute_reply": "2024-11-28T13:10:33.193436Z"
    },
    "papermill": {
     "duration": 0.080514,
     "end_time": "2024-11-28T13:10:33.196485",
     "exception": false,
     "start_time": "2024-11-28T13:10:33.115971",
     "status": "completed"
    },
    "tags": []
   },
   "outputs": [],
   "source": [
    "# drop column where Nan more than 50%\n",
    "train_data.dropna(thresh=len(train_data)/2,axis=1,inplace=True)"
   ]
  },
  {
   "cell_type": "code",
   "execution_count": 15,
   "id": "a8cd50e3",
   "metadata": {
    "execution": {
     "iopub.execute_input": "2024-11-28T13:10:33.237465Z",
     "iopub.status.busy": "2024-11-28T13:10:33.237098Z",
     "iopub.status.idle": "2024-11-28T13:10:33.243559Z",
     "shell.execute_reply": "2024-11-28T13:10:33.242778Z"
    },
    "papermill": {
     "duration": 0.029441,
     "end_time": "2024-11-28T13:10:33.245607",
     "exception": false,
     "start_time": "2024-11-28T13:10:33.216166",
     "status": "completed"
    },
    "tags": []
   },
   "outputs": [],
   "source": [
    "# removing rows where Nan present\n",
    "train_data.dropna(axis=0,inplace=True)"
   ]
  },
  {
   "cell_type": "code",
   "execution_count": 16,
   "id": "3e56da1a",
   "metadata": {
    "execution": {
     "iopub.execute_input": "2024-11-28T13:10:33.286095Z",
     "iopub.status.busy": "2024-11-28T13:10:33.285714Z",
     "iopub.status.idle": "2024-11-28T13:10:33.294195Z",
     "shell.execute_reply": "2024-11-28T13:10:33.293224Z"
    },
    "papermill": {
     "duration": 0.03092,
     "end_time": "2024-11-28T13:10:33.296107",
     "exception": false,
     "start_time": "2024-11-28T13:10:33.265187",
     "status": "completed"
    },
    "tags": []
   },
   "outputs": [
    {
     "data": {
      "text/plain": [
       "Survived    0\n",
       "Pclass      0\n",
       "Name        0\n",
       "Sex         0\n",
       "Age         0\n",
       "SibSp       0\n",
       "Parch       0\n",
       "Ticket      0\n",
       "Fare        0\n",
       "Embarked    0\n",
       "dtype: int64"
      ]
     },
     "execution_count": 16,
     "metadata": {},
     "output_type": "execute_result"
    }
   ],
   "source": [
    "(train_data.isnull().sum())"
   ]
  },
  {
   "cell_type": "code",
   "execution_count": 17,
   "id": "31d44480",
   "metadata": {
    "execution": {
     "iopub.execute_input": "2024-11-28T13:10:33.337516Z",
     "iopub.status.busy": "2024-11-28T13:10:33.336845Z",
     "iopub.status.idle": "2024-11-28T13:10:33.346084Z",
     "shell.execute_reply": "2024-11-28T13:10:33.345139Z"
    },
    "papermill": {
     "duration": 0.032368,
     "end_time": "2024-11-28T13:10:33.348024",
     "exception": false,
     "start_time": "2024-11-28T13:10:33.315656",
     "status": "completed"
    },
    "tags": []
   },
   "outputs": [
    {
     "data": {
      "text/plain": [
       "Survived    0.0\n",
       "Pclass      0.0\n",
       "Name        0.0\n",
       "Sex         0.0\n",
       "Age         0.0\n",
       "SibSp       0.0\n",
       "Parch       0.0\n",
       "Ticket      0.0\n",
       "Fare        0.0\n",
       "Embarked    0.0\n",
       "dtype: float64"
      ]
     },
     "execution_count": 17,
     "metadata": {},
     "output_type": "execute_result"
    }
   ],
   "source": [
    "round(((train_data.isnull().sum())/len(train_data.index))*100,4)"
   ]
  },
  {
   "cell_type": "code",
   "execution_count": 18,
   "id": "b775116f",
   "metadata": {
    "execution": {
     "iopub.execute_input": "2024-11-28T13:10:33.389285Z",
     "iopub.status.busy": "2024-11-28T13:10:33.388450Z",
     "iopub.status.idle": "2024-11-28T13:10:34.908184Z",
     "shell.execute_reply": "2024-11-28T13:10:34.907293Z"
    },
    "papermill": {
     "duration": 1.542951,
     "end_time": "2024-11-28T13:10:34.910630",
     "exception": false,
     "start_time": "2024-11-28T13:10:33.367679",
     "status": "completed"
    },
    "tags": []
   },
   "outputs": [],
   "source": [
    "import matplotlib.pyplot as plt\n",
    "import seaborn as sns"
   ]
  },
  {
   "cell_type": "markdown",
   "id": "48f0da0a",
   "metadata": {
    "papermill": {
     "duration": 0.019506,
     "end_time": "2024-11-28T13:10:34.950113",
     "exception": false,
     "start_time": "2024-11-28T13:10:34.930607",
     "status": "completed"
    },
    "tags": []
   },
   "source": [
    "## check for outliers"
   ]
  },
  {
   "cell_type": "code",
   "execution_count": 19,
   "id": "60c35107",
   "metadata": {
    "execution": {
     "iopub.execute_input": "2024-11-28T13:10:34.991512Z",
     "iopub.status.busy": "2024-11-28T13:10:34.991037Z",
     "iopub.status.idle": "2024-11-28T13:10:35.278698Z",
     "shell.execute_reply": "2024-11-28T13:10:35.277655Z"
    },
    "papermill": {
     "duration": 0.310922,
     "end_time": "2024-11-28T13:10:35.280903",
     "exception": false,
     "start_time": "2024-11-28T13:10:34.969981",
     "status": "completed"
    },
    "tags": []
   },
   "outputs": [
    {
     "data": {
      "image/png": "[encoded data removed]",
      "text/plain": [
       "<Figure size 640x480 with 1 Axes>"
      ]
     },
     "metadata": {},
     "output_type": "display_data"
    }
   ],
   "source": [
    "sns.boxplot(data=train_data[non_category_column])\n",
    "plt.title('Box plot for numerical category column with outliers')\n",
    "plt.xlabel('Numerical categorical column')\n",
    "plt.show()"
   ]
  },
  {
   "cell_type": "markdown",
   "id": "61d6ad5a",
   "metadata": {
    "papermill": {
     "duration": 0.019594,
     "end_time": "2024-11-28T13:10:35.320681",
     "exception": false,
     "start_time": "2024-11-28T13:10:35.301087",
     "status": "completed"
    },
    "tags": []
   },
   "source": [
    "## removing outliers"
   ]
  },
  {
   "cell_type": "code",
   "execution_count": 20,
   "id": "01f8211b",
   "metadata": {
    "execution": {
     "iopub.execute_input": "2024-11-28T13:10:35.363178Z",
     "iopub.status.busy": "2024-11-28T13:10:35.362401Z",
     "iopub.status.idle": "2024-11-28T13:10:35.368942Z",
     "shell.execute_reply": "2024-11-28T13:10:35.367991Z"
    },
    "papermill": {
     "duration": 0.029593,
     "end_time": "2024-11-28T13:10:35.370840",
     "exception": false,
     "start_time": "2024-11-28T13:10:35.341247",
     "status": "completed"
    },
    "tags": []
   },
   "outputs": [],
   "source": [
    "\n",
    "def removal_outliers(df):\n",
    "    for col in df.columns:\n",
    "        if (((df[col].dtype)==\"float64\") | ((df[col].dtype)==\"int64\")):\n",
    "            print(\"Removing outlier of\", col)\n",
    "            percentile_low = df[col].quantile(0.1) \n",
    "            percentile_upper = df[col].quantile(0.75)\n",
    "            iqr = percentile_upper - percentile_low\n",
    "            upper_limit = percentile_upper + 1.5 * iqr\n",
    "            lower_limit = percentile_low - 1.5 * iqr \n",
    "            df[col] = df[col][((df.loc[:, col]< upper_limit) & (df.loc[:, col]> lower_limit))]\n",
    "            \n",
    "        else:\n",
    "            print(col, \"Column is an object type\")\n",
    "            df[col]=df[col]\n",
    "    return df"
   ]
  },
  {
   "cell_type": "code",
   "execution_count": 21,
   "id": "a3b20457",
   "metadata": {
    "execution": {
     "iopub.execute_input": "2024-11-28T13:10:35.413803Z",
     "iopub.status.busy": "2024-11-28T13:10:35.412898Z",
     "iopub.status.idle": "2024-11-28T13:10:35.433043Z",
     "shell.execute_reply": "2024-11-28T13:10:35.431996Z"
    },
    "papermill": {
     "duration": 0.043974,
     "end_time": "2024-11-28T13:10:35.435404",
     "exception": false,
     "start_time": "2024-11-28T13:10:35.391430",
     "status": "completed"
    },
    "tags": []
   },
   "outputs": [
    {
     "name": "stdout",
     "output_type": "stream",
     "text": [
      "Removing outlier of Survived\n",
      "Removing outlier of Pclass\n",
      "Name Column is an object type\n",
      "Sex Column is an object type\n",
      "Removing outlier of Age\n",
      "Removing outlier of SibSp\n",
      "Removing outlier of Parch\n",
      "Ticket Column is an object type\n",
      "Removing outlier of Fare\n",
      "Embarked Column is an object type\n"
     ]
    }
   ],
   "source": [
    "final_train = removal_outliers(train_data)"
   ]
  },
  {
   "cell_type": "code",
   "execution_count": 22,
   "id": "2fd62f24",
   "metadata": {
    "execution": {
     "iopub.execute_input": "2024-11-28T13:10:35.478331Z",
     "iopub.status.busy": "2024-11-28T13:10:35.477583Z",
     "iopub.status.idle": "2024-11-28T13:10:35.501393Z",
     "shell.execute_reply": "2024-11-28T13:10:35.500382Z"
    },
    "papermill": {
     "duration": 0.04747,
     "end_time": "2024-11-28T13:10:35.503535",
     "exception": false,
     "start_time": "2024-11-28T13:10:35.456065",
     "status": "completed"
    },
    "tags": []
   },
   "outputs": [
    {
     "data": {
      "text/html": [
       "<div>\n",
       "<style scoped>\n",
       "    .dataframe tbody tr th:only-of-type {\n",
       "        vertical-align: middle;\n",
       "    }\n",
       "\n",
       "    .dataframe tbody tr th {\n",
       "        vertical-align: top;\n",
       "    }\n",
       "\n",
       "    .dataframe thead th {\n",
       "        text-align: right;\n",
       "    }\n",
       "</style>\n",
       "<table border=\"1\" class=\"dataframe\">\n",
       "  <thead>\n",
       "    <tr style=\"text-align: right;\">\n",
       "      <th></th>\n",
       "      <th>Survived</th>\n",
       "      <th>Pclass</th>\n",
       "      <th>Age</th>\n",
       "      <th>SibSp</th>\n",
       "      <th>Parch</th>\n",
       "      <th>Fare</th>\n",
       "    </tr>\n",
       "  </thead>\n",
       "  <tbody>\n",
       "    <tr>\n",
       "      <th>count</th>\n",
       "      <td>712.000000</td>\n",
       "      <td>712.000000</td>\n",
       "      <td>710.00000</td>\n",
       "      <td>677.000000</td>\n",
       "      <td>697.000000</td>\n",
       "      <td>617.000000</td>\n",
       "    </tr>\n",
       "    <tr>\n",
       "      <th>mean</th>\n",
       "      <td>0.404494</td>\n",
       "      <td>2.240169</td>\n",
       "      <td>29.50869</td>\n",
       "      <td>0.344165</td>\n",
       "      <td>0.352941</td>\n",
       "      <td>19.026803</td>\n",
       "    </tr>\n",
       "    <tr>\n",
       "      <th>std</th>\n",
       "      <td>0.491139</td>\n",
       "      <td>0.836854</td>\n",
       "      <td>14.29223</td>\n",
       "      <td>0.547735</td>\n",
       "      <td>0.651233</td>\n",
       "      <td>14.282146</td>\n",
       "    </tr>\n",
       "    <tr>\n",
       "      <th>min</th>\n",
       "      <td>0.000000</td>\n",
       "      <td>1.000000</td>\n",
       "      <td>0.42000</td>\n",
       "      <td>0.000000</td>\n",
       "      <td>0.000000</td>\n",
       "      <td>0.000000</td>\n",
       "    </tr>\n",
       "    <tr>\n",
       "      <th>25%</th>\n",
       "      <td>0.000000</td>\n",
       "      <td>1.000000</td>\n",
       "      <td>20.00000</td>\n",
       "      <td>0.000000</td>\n",
       "      <td>0.000000</td>\n",
       "      <td>7.925000</td>\n",
       "    </tr>\n",
       "    <tr>\n",
       "      <th>50%</th>\n",
       "      <td>0.000000</td>\n",
       "      <td>2.000000</td>\n",
       "      <td>28.00000</td>\n",
       "      <td>0.000000</td>\n",
       "      <td>0.000000</td>\n",
       "      <td>13.000000</td>\n",
       "    </tr>\n",
       "    <tr>\n",
       "      <th>75%</th>\n",
       "      <td>1.000000</td>\n",
       "      <td>3.000000</td>\n",
       "      <td>38.00000</td>\n",
       "      <td>1.000000</td>\n",
       "      <td>1.000000</td>\n",
       "      <td>26.283300</td>\n",
       "    </tr>\n",
       "    <tr>\n",
       "      <th>max</th>\n",
       "      <td>1.000000</td>\n",
       "      <td>3.000000</td>\n",
       "      <td>71.00000</td>\n",
       "      <td>2.000000</td>\n",
       "      <td>2.000000</td>\n",
       "      <td>69.300000</td>\n",
       "    </tr>\n",
       "  </tbody>\n",
       "</table>\n",
       "</div>"
      ],
      "text/plain": [
       "         Survived      Pclass        Age       SibSp       Parch        Fare\n",
       "count  712.000000  712.000000  710.00000  677.000000  697.000000  617.000000\n",
       "mean     0.404494    2.240169   29.50869    0.344165    0.352941   19.026803\n",
       "std      0.491139    0.836854   14.29223    0.547735    0.651233   14.282146\n",
       "min      0.000000    1.000000    0.42000    0.000000    0.000000    0.000000\n",
       "25%      0.000000    1.000000   20.00000    0.000000    0.000000    7.925000\n",
       "50%      0.000000    2.000000   28.00000    0.000000    0.000000   13.000000\n",
       "75%      1.000000    3.000000   38.00000    1.000000    1.000000   26.283300\n",
       "max      1.000000    3.000000   71.00000    2.000000    2.000000   69.300000"
      ]
     },
     "execution_count": 22,
     "metadata": {},
     "output_type": "execute_result"
    }
   ],
   "source": [
    "final_train.describe()"
   ]
  },
  {
   "cell_type": "code",
   "execution_count": 23,
   "id": "f72f1dfa",
   "metadata": {
    "execution": {
     "iopub.execute_input": "2024-11-28T13:10:35.546819Z",
     "iopub.status.busy": "2024-11-28T13:10:35.546478Z",
     "iopub.status.idle": "2024-11-28T13:10:35.814091Z",
     "shell.execute_reply": "2024-11-28T13:10:35.813099Z"
    },
    "papermill": {
     "duration": 0.292038,
     "end_time": "2024-11-28T13:10:35.816366",
     "exception": false,
     "start_time": "2024-11-28T13:10:35.524328",
     "status": "completed"
    },
    "tags": []
   },
   "outputs": [
    {
     "data": {
      "image/png": "[encoded data removed]",
      "text/plain": [
       "<Figure size 640x480 with 1 Axes>"
      ]
     },
     "metadata": {},
     "output_type": "display_data"
    }
   ],
   "source": [
    "sns.boxplot(data=final_train[non_category_column])\n",
    "plt.title('Box plot for numerical category column without outliers')\n",
    "plt.xlabel('Numerical categorical column')\n",
    "plt.show()"
   ]
  },
  {
   "cell_type": "code",
   "execution_count": 24,
   "id": "cc830045",
   "metadata": {
    "execution": {
     "iopub.execute_input": "2024-11-28T13:10:35.860289Z",
     "iopub.status.busy": "2024-11-28T13:10:35.859877Z",
     "iopub.status.idle": "2024-11-28T13:10:35.872160Z",
     "shell.execute_reply": "2024-11-28T13:10:35.870992Z"
    },
    "papermill": {
     "duration": 0.036732,
     "end_time": "2024-11-28T13:10:35.874334",
     "exception": false,
     "start_time": "2024-11-28T13:10:35.837602",
     "status": "completed"
    },
    "tags": []
   },
   "outputs": [
    {
     "name": "stdout",
     "output_type": "stream",
     "text": [
      "<class 'pandas.core.frame.DataFrame'>\n",
      "Index: 712 entries, 1 to 891\n",
      "Data columns (total 10 columns):\n",
      " #   Column    Non-Null Count  Dtype  \n",
      "---  ------    --------------  -----  \n",
      " 0   Survived  712 non-null    int64  \n",
      " 1   Pclass    712 non-null    int64  \n",
      " 2   Name      712 non-null    object \n",
      " 3   Sex       712 non-null    object \n",
      " 4   Age       710 non-null    float64\n",
      " 5   SibSp     677 non-null    float64\n",
      " 6   Parch     697 non-null    float64\n",
      " 7   Ticket    712 non-null    object \n",
      " 8   Fare      617 non-null    float64\n",
      " 9   Embarked  712 non-null    object \n",
      "dtypes: float64(4), int64(2), object(4)\n",
      "memory usage: 61.2+ KB\n"
     ]
    }
   ],
   "source": [
    "final_train.info()"
   ]
  },
  {
   "cell_type": "code",
   "execution_count": 25,
   "id": "f4e3c3e1",
   "metadata": {
    "execution": {
     "iopub.execute_input": "2024-11-28T13:10:35.917884Z",
     "iopub.status.busy": "2024-11-28T13:10:35.917505Z",
     "iopub.status.idle": "2024-11-28T13:10:35.926855Z",
     "shell.execute_reply": "2024-11-28T13:10:35.925928Z"
    },
    "papermill": {
     "duration": 0.0334,
     "end_time": "2024-11-28T13:10:35.928883",
     "exception": false,
     "start_time": "2024-11-28T13:10:35.895483",
     "status": "completed"
    },
    "tags": []
   },
   "outputs": [
    {
     "data": {
      "text/plain": [
       "Survived     0.0000\n",
       "Pclass       0.0000\n",
       "Name         0.0000\n",
       "Sex          0.0000\n",
       "Age          0.2809\n",
       "SibSp        4.9157\n",
       "Parch        2.1067\n",
       "Ticket       0.0000\n",
       "Fare        13.3427\n",
       "Embarked     0.0000\n",
       "dtype: float64"
      ]
     },
     "execution_count": 25,
     "metadata": {},
     "output_type": "execute_result"
    }
   ],
   "source": [
    "round(((final_train.isnull().sum())/len(train_data.index))*100,4)"
   ]
  },
  {
   "cell_type": "markdown",
   "id": "6f680ba3",
   "metadata": {
    "papermill": {
     "duration": 0.020961,
     "end_time": "2024-11-28T13:10:35.971061",
     "exception": false,
     "start_time": "2024-11-28T13:10:35.950100",
     "status": "completed"
    },
    "tags": []
   },
   "source": [
    "## replacing Nan values with respective median of the column"
   ]
  },
  {
   "cell_type": "code",
   "execution_count": 26,
   "id": "8ffbddbc",
   "metadata": {
    "execution": {
     "iopub.execute_input": "2024-11-28T13:10:36.014638Z",
     "iopub.status.busy": "2024-11-28T13:10:36.014275Z",
     "iopub.status.idle": "2024-11-28T13:10:36.029730Z",
     "shell.execute_reply": "2024-11-28T13:10:36.028696Z"
    },
    "papermill": {
     "duration": 0.039937,
     "end_time": "2024-11-28T13:10:36.032042",
     "exception": false,
     "start_time": "2024-11-28T13:10:35.992105",
     "status": "completed"
    },
    "tags": []
   },
   "outputs": [
    {
     "data": {
      "text/plain": [
       "Survived    0.0\n",
       "Pclass      0.0\n",
       "Name        0.0\n",
       "Sex         0.0\n",
       "Age         0.0\n",
       "SibSp       0.0\n",
       "Parch       0.0\n",
       "Ticket      0.0\n",
       "Fare        0.0\n",
       "Embarked    0.0\n",
       "dtype: float64"
      ]
     },
     "execution_count": 26,
     "metadata": {},
     "output_type": "execute_result"
    }
   ],
   "source": [
    "for col in final_train.columns:\n",
    "    if final_train[col].isnull().sum()> 0:\n",
    "        val_to_replace = final_train[col].median()\n",
    "        final_train.fillna({col: val_to_replace}, inplace=True)\n",
    "# checking for nan values\n",
    "round(((final_train.isnull().sum())/len(train_data.index))*100,4)"
   ]
  },
  {
   "cell_type": "code",
   "execution_count": 27,
   "id": "abb0c28d",
   "metadata": {
    "execution": {
     "iopub.execute_input": "2024-11-28T13:10:36.077270Z",
     "iopub.status.busy": "2024-11-28T13:10:36.076310Z",
     "iopub.status.idle": "2024-11-28T13:10:36.081718Z",
     "shell.execute_reply": "2024-11-28T13:10:36.080902Z"
    },
    "papermill": {
     "duration": 0.02994,
     "end_time": "2024-11-28T13:10:36.083732",
     "exception": false,
     "start_time": "2024-11-28T13:10:36.053792",
     "status": "completed"
    },
    "tags": []
   },
   "outputs": [],
   "source": [
    "# Removing column \"Name\" as PassengerId is tagged along \n",
    "final_train.drop(['Name', 'Ticket'],axis=1,inplace=True)"
   ]
  },
  {
   "cell_type": "code",
   "execution_count": 28,
   "id": "181be491",
   "metadata": {
    "execution": {
     "iopub.execute_input": "2024-11-28T13:10:36.128277Z",
     "iopub.status.busy": "2024-11-28T13:10:36.127521Z",
     "iopub.status.idle": "2024-11-28T13:10:36.134432Z",
     "shell.execute_reply": "2024-11-28T13:10:36.133614Z"
    },
    "papermill": {
     "duration": 0.031354,
     "end_time": "2024-11-28T13:10:36.136431",
     "exception": false,
     "start_time": "2024-11-28T13:10:36.105077",
     "status": "completed"
    },
    "tags": []
   },
   "outputs": [],
   "source": [
    "final_train.replace([np.inf, -np.inf], np.nan, inplace=True)"
   ]
  },
  {
   "cell_type": "markdown",
   "id": "1f8c407c",
   "metadata": {
    "papermill": {
     "duration": 0.021045,
     "end_time": "2024-11-28T13:10:36.178833",
     "exception": false,
     "start_time": "2024-11-28T13:10:36.157788",
     "status": "completed"
    },
    "tags": []
   },
   "source": [
    "##  Univariate Analysis\n",
    "* Categorical Variables\n",
    "  1. Unordered - rank frequency variable\n",
    "  2. Ordered - histogram, bar"
   ]
  },
  {
   "cell_type": "markdown",
   "id": "c830d5f8",
   "metadata": {
    "papermill": {
     "duration": 0.021326,
     "end_time": "2024-11-28T13:10:36.221180",
     "exception": false,
     "start_time": "2024-11-28T13:10:36.199854",
     "status": "completed"
    },
    "tags": []
   },
   "source": [
    "Plotting graph with Survived "
   ]
  },
  {
   "cell_type": "code",
   "execution_count": 29,
   "id": "81fe6a65",
   "metadata": {
    "execution": {
     "iopub.execute_input": "2024-11-28T13:10:36.265961Z",
     "iopub.status.busy": "2024-11-28T13:10:36.265032Z",
     "iopub.status.idle": "2024-11-28T13:10:36.271411Z",
     "shell.execute_reply": "2024-11-28T13:10:36.270405Z"
    },
    "papermill": {
     "duration": 0.030906,
     "end_time": "2024-11-28T13:10:36.273342",
     "exception": false,
     "start_time": "2024-11-28T13:10:36.242436",
     "status": "completed"
    },
    "tags": []
   },
   "outputs": [],
   "source": [
    "def plot_with_y(df, var):\n",
    "    for col in var:\n",
    "        # Create a figure with 1 row and 2 columns for barplot and histplot\n",
    "        fig, axes = plt.subplots(1, 2, figsize=(10, 4))\n",
    "        \n",
    "        # Barplot on the first subplot\n",
    "        sns.barplot(x='Survived', y=col, data=df, ax=axes[0], hue='Survived')\n",
    "        axes[0].set_title(f'{col} vs Survived')\n",
    "\n",
    "        sns.histplot(df[col], kde=True, ax=axes[1])  # KDE for distribution curve\n",
    "        axes[1].set_title(f'{col} Distribution')\n",
    "        \n",
    "        plt.show()"
   ]
  },
  {
   "cell_type": "code",
   "execution_count": 30,
   "id": "3ec12899",
   "metadata": {
    "execution": {
     "iopub.execute_input": "2024-11-28T13:10:36.318131Z",
     "iopub.status.busy": "2024-11-28T13:10:36.317324Z",
     "iopub.status.idle": "2024-11-28T13:10:39.881097Z",
     "shell.execute_reply": "2024-11-28T13:10:39.880085Z"
    },
    "papermill": {
     "duration": 3.58944,
     "end_time": "2024-11-28T13:10:39.884065",
     "exception": false,
     "start_time": "2024-11-28T13:10:36.294625",
     "status": "completed"
    },
    "tags": []
   },
   "outputs": [
    {
     "name": "stderr",
     "output_type": "stream",
     "text": [
      "/opt/conda/lib/python3.10/site-packages/seaborn/_oldcore.py:1119: FutureWarning: use_inf_as_na option is deprecated and will be removed in a future version. Convert inf values to NaN before operating instead.\n",
      "  with pd.option_context('mode.use_inf_as_na', True):\n"
     ]
    },
    {
     "data": {
      "image/png": "[encoded data removed]",
      "text/plain": [
       "<Figure size 1000x400 with 2 Axes>"
      ]
     },
     "metadata": {},
     "output_type": "display_data"
    },
    {
     "name": "stderr",
     "output_type": "stream",
     "text": [
      "/opt/conda/lib/python3.10/site-packages/seaborn/_oldcore.py:1119: FutureWarning: use_inf_as_na option is deprecated and will be removed in a future version. Convert inf values to NaN before operating instead.\n",
      "  with pd.option_context('mode.use_inf_as_na', True):\n"
     ]
    },
    {
     "data": {
      "image/png": "[encoded data removed]",
      "text/plain": [
       "<Figure size 1000x400 with 2 Axes>"
      ]
     },
     "metadata": {},
     "output_type": "display_data"
    },
    {
     "name": "stderr",
     "output_type": "stream",
     "text": [
      "/opt/conda/lib/python3.10/site-packages/seaborn/_oldcore.py:1119: FutureWarning: use_inf_as_na option is deprecated and will be removed in a future version. Convert inf values to NaN before operating instead.\n",
      "  with pd.option_context('mode.use_inf_as_na', True):\n"
     ]
    },
    {
     "data": {
      "image/png": "[encoded data removed]",
      "text/plain": [
       "<Figure size 1000x400 with 2 Axes>"
      ]
     },
     "metadata": {},
     "output_type": "display_data"
    },
    {
     "name": "stderr",
     "output_type": "stream",
     "text": [
      "/opt/conda/lib/python3.10/site-packages/seaborn/_oldcore.py:1119: FutureWarning: use_inf_as_na option is deprecated and will be removed in a future version. Convert inf values to NaN before operating instead.\n",
      "  with pd.option_context('mode.use_inf_as_na', True):\n"
     ]
    },
    {
     "data": {
      "image/png": "[encoded data removed]",
      "text/plain": [
       "<Figure size 1000x400 with 2 Axes>"
      ]
     },
     "metadata": {},
     "output_type": "display_data"
    },
    {
     "name": "stderr",
     "output_type": "stream",
     "text": [
      "/opt/conda/lib/python3.10/site-packages/seaborn/_oldcore.py:1119: FutureWarning: use_inf_as_na option is deprecated and will be removed in a future version. Convert inf values to NaN before operating instead.\n",
      "  with pd.option_context('mode.use_inf_as_na', True):\n"
     ]
    },
    {
     "data": {
      "image/png": "[encoded data removed]",
      "text/plain": [
       "<Figure size 1000x400 with 2 Axes>"
      ]
     },
     "metadata": {},
     "output_type": "display_data"
    },
    {
     "name": "stderr",
     "output_type": "stream",
     "text": [
      "/opt/conda/lib/python3.10/site-packages/seaborn/_oldcore.py:1119: FutureWarning: use_inf_as_na option is deprecated and will be removed in a future version. Convert inf values to NaN before operating instead.\n",
      "  with pd.option_context('mode.use_inf_as_na', True):\n"
     ]
    },
    {
     "data": {
      "image/png": "[encoded data removed]",
      "text/plain": [
       "<Figure size 1000x400 with 2 Axes>"
      ]
     },
     "metadata": {},
     "output_type": "display_data"
    },
    {
     "name": "stderr",
     "output_type": "stream",
     "text": [
      "/opt/conda/lib/python3.10/site-packages/seaborn/_oldcore.py:1119: FutureWarning: use_inf_as_na option is deprecated and will be removed in a future version. Convert inf values to NaN before operating instead.\n",
      "  with pd.option_context('mode.use_inf_as_na', True):\n"
     ]
    },
    {
     "data": {
      "image/png": "[encoded data removed]",
      "text/plain": [
       "<Figure size 1000x400 with 2 Axes>"
      ]
     },
     "metadata": {},
     "output_type": "display_data"
    }
   ],
   "source": [
    "variable = list(final_train.columns)\n",
    "variable.remove('Survived')\n",
    "plot_with_y(final_train, variable)"
   ]
  },
  {
   "cell_type": "markdown",
   "id": "13d0d85c",
   "metadata": {
    "papermill": {
     "duration": 0.026062,
     "end_time": "2024-11-28T13:10:39.941552",
     "exception": false,
     "start_time": "2024-11-28T13:10:39.915490",
     "status": "completed"
    },
    "tags": []
   },
   "source": [
    "## Bivariate Analysis"
   ]
  },
  {
   "cell_type": "code",
   "execution_count": 31,
   "id": "f91082d0",
   "metadata": {
    "execution": {
     "iopub.execute_input": "2024-11-28T13:10:39.996244Z",
     "iopub.status.busy": "2024-11-28T13:10:39.995313Z",
     "iopub.status.idle": "2024-11-28T13:10:40.365963Z",
     "shell.execute_reply": "2024-11-28T13:10:40.364973Z"
    },
    "papermill": {
     "duration": 0.401247,
     "end_time": "2024-11-28T13:10:40.368664",
     "exception": false,
     "start_time": "2024-11-28T13:10:39.967417",
     "status": "completed"
    },
    "tags": []
   },
   "outputs": [
    {
     "data": {
      "text/plain": [
       "Text(0.5, 1.0, 'Box plot of Sex Vs Fare ')"
      ]
     },
     "execution_count": 31,
     "metadata": {},
     "output_type": "execute_result"
    },
    {
     "data": {
      "image/png": "[encoded data removed]",
      "text/plain": [
       "<Figure size 640x480 with 1 Axes>"
      ]
     },
     "metadata": {},
     "output_type": "display_data"
    }
   ],
   "source": [
    "# categorical and continous\n",
    "sns.boxplot(data = final_train, x='Sex', y='Fare', hue=\"Survived\")\n",
    "plt.title(\"Box plot of Sex Vs Fare \")"
   ]
  },
  {
   "cell_type": "code",
   "execution_count": 32,
   "id": "8b1c640f",
   "metadata": {
    "execution": {
     "iopub.execute_input": "2024-11-28T13:10:40.440137Z",
     "iopub.status.busy": "2024-11-28T13:10:40.438962Z",
     "iopub.status.idle": "2024-11-28T13:10:40.471583Z",
     "shell.execute_reply": "2024-11-28T13:10:40.470450Z"
    },
    "papermill": {
     "duration": 0.063703,
     "end_time": "2024-11-28T13:10:40.474466",
     "exception": false,
     "start_time": "2024-11-28T13:10:40.410763",
     "status": "completed"
    },
    "tags": []
   },
   "outputs": [
    {
     "data": {
      "text/html": [
       "<div>\n",
       "<style scoped>\n",
       "    .dataframe tbody tr th:only-of-type {\n",
       "        vertical-align: middle;\n",
       "    }\n",
       "\n",
       "    .dataframe tbody tr th {\n",
       "        vertical-align: top;\n",
       "    }\n",
       "\n",
       "    .dataframe thead tr th {\n",
       "        text-align: left;\n",
       "    }\n",
       "\n",
       "    .dataframe thead tr:last-of-type th {\n",
       "        text-align: right;\n",
       "    }\n",
       "</style>\n",
       "<table border=\"1\" class=\"dataframe\">\n",
       "  <thead>\n",
       "    <tr>\n",
       "      <th></th>\n",
       "      <th colspan=\"3\" halign=\"left\">Age</th>\n",
       "      <th colspan=\"3\" halign=\"left\">Fare</th>\n",
       "      <th colspan=\"3\" halign=\"left\">Parch</th>\n",
       "      <th colspan=\"3\" halign=\"left\">Pclass</th>\n",
       "      <th colspan=\"3\" halign=\"left\">SibSp</th>\n",
       "      <th colspan=\"3\" halign=\"left\">Survived</th>\n",
       "    </tr>\n",
       "    <tr>\n",
       "      <th>Embarked</th>\n",
       "      <th>C</th>\n",
       "      <th>Q</th>\n",
       "      <th>S</th>\n",
       "      <th>C</th>\n",
       "      <th>Q</th>\n",
       "      <th>S</th>\n",
       "      <th>C</th>\n",
       "      <th>Q</th>\n",
       "      <th>S</th>\n",
       "      <th>C</th>\n",
       "      <th>Q</th>\n",
       "      <th>S</th>\n",
       "      <th>C</th>\n",
       "      <th>Q</th>\n",
       "      <th>S</th>\n",
       "      <th>C</th>\n",
       "      <th>Q</th>\n",
       "      <th>S</th>\n",
       "    </tr>\n",
       "    <tr>\n",
       "      <th>Sex</th>\n",
       "      <th></th>\n",
       "      <th></th>\n",
       "      <th></th>\n",
       "      <th></th>\n",
       "      <th></th>\n",
       "      <th></th>\n",
       "      <th></th>\n",
       "      <th></th>\n",
       "      <th></th>\n",
       "      <th></th>\n",
       "      <th></th>\n",
       "      <th></th>\n",
       "      <th></th>\n",
       "      <th></th>\n",
       "      <th></th>\n",
       "      <th></th>\n",
       "      <th></th>\n",
       "      <th></th>\n",
       "    </tr>\n",
       "  </thead>\n",
       "  <tbody>\n",
       "    <tr>\n",
       "      <th>female</th>\n",
       "      <td>61</td>\n",
       "      <td>12</td>\n",
       "      <td>186</td>\n",
       "      <td>61</td>\n",
       "      <td>12</td>\n",
       "      <td>186</td>\n",
       "      <td>61</td>\n",
       "      <td>12</td>\n",
       "      <td>186</td>\n",
       "      <td>61</td>\n",
       "      <td>12</td>\n",
       "      <td>186</td>\n",
       "      <td>61</td>\n",
       "      <td>12</td>\n",
       "      <td>186</td>\n",
       "      <td>61</td>\n",
       "      <td>12</td>\n",
       "      <td>186</td>\n",
       "    </tr>\n",
       "    <tr>\n",
       "      <th>male</th>\n",
       "      <td>69</td>\n",
       "      <td>16</td>\n",
       "      <td>368</td>\n",
       "      <td>69</td>\n",
       "      <td>16</td>\n",
       "      <td>368</td>\n",
       "      <td>69</td>\n",
       "      <td>16</td>\n",
       "      <td>368</td>\n",
       "      <td>69</td>\n",
       "      <td>16</td>\n",
       "      <td>368</td>\n",
       "      <td>69</td>\n",
       "      <td>16</td>\n",
       "      <td>368</td>\n",
       "      <td>69</td>\n",
       "      <td>16</td>\n",
       "      <td>368</td>\n",
       "    </tr>\n",
       "  </tbody>\n",
       "</table>\n",
       "</div>"
      ],
      "text/plain": [
       "         Age          Fare          Parch          Pclass          SibSp      \\\n",
       "Embarked   C   Q    S    C   Q    S     C   Q    S      C   Q    S     C   Q   \n",
       "Sex                                                                            \n",
       "female    61  12  186   61  12  186    61  12  186     61  12  186    61  12   \n",
       "male      69  16  368   69  16  368    69  16  368     69  16  368    69  16   \n",
       "\n",
       "              Survived           \n",
       "Embarked    S        C   Q    S  \n",
       "Sex                              \n",
       "female    186       61  12  186  \n",
       "male      368       69  16  368  "
      ]
     },
     "execution_count": 32,
     "metadata": {},
     "output_type": "execute_result"
    }
   ],
   "source": [
    "# summarize complete dataset wrt sex and Embarked\n",
    "final_train.pivot_table(index=\"Sex\", columns=[\"Embarked\"], aggfunc=\"count\")"
   ]
  },
  {
   "cell_type": "code",
   "execution_count": 33,
   "id": "65dd0dba",
   "metadata": {
    "execution": {
     "iopub.execute_input": "2024-11-28T13:10:40.537057Z",
     "iopub.status.busy": "2024-11-28T13:10:40.535982Z",
     "iopub.status.idle": "2024-11-28T13:10:40.558083Z",
     "shell.execute_reply": "2024-11-28T13:10:40.557121Z"
    },
    "papermill": {
     "duration": 0.052681,
     "end_time": "2024-11-28T13:10:40.560382",
     "exception": false,
     "start_time": "2024-11-28T13:10:40.507701",
     "status": "completed"
    },
    "tags": []
   },
   "outputs": [],
   "source": [
    "cross1 = pd.crosstab(index=[final_train.Parch], columns=final_train.SibSp,values=final_train.Fare,\n",
    "                             aggfunc='mean')\n",
    "cross2 = pd.crosstab(index=[final_train.Parch], columns=final_train.SibSp,values=final_train.Age,\n",
    "                             aggfunc='mean')"
   ]
  },
  {
   "cell_type": "code",
   "execution_count": 34,
   "id": "d2285fad",
   "metadata": {
    "execution": {
     "iopub.execute_input": "2024-11-28T13:10:40.616901Z",
     "iopub.status.busy": "2024-11-28T13:10:40.616514Z",
     "iopub.status.idle": "2024-11-28T13:10:40.841340Z",
     "shell.execute_reply": "2024-11-28T13:10:40.840299Z"
    },
    "papermill": {
     "duration": 0.254557,
     "end_time": "2024-11-28T13:10:40.843268",
     "exception": false,
     "start_time": "2024-11-28T13:10:40.588711",
     "status": "completed"
    },
    "tags": []
   },
   "outputs": [
    {
     "data": {
      "image/png": "[encoded data removed]",
      "text/plain": [
       "<Figure size 640x480 with 2 Axes>"
      ]
     },
     "metadata": {},
     "output_type": "display_data"
    }
   ],
   "source": [
    "sns.heatmap(cross1, annot=True)\n",
    "plt.title('Fare mean by Parch, SibSp')\n",
    "plt.xlabel(\"Number of Siblings/Spouses (SibSp)\")\n",
    "plt.ylabel(\"Number of Parents/Children (Parch)\")\n",
    "plt.show()"
   ]
  },
  {
   "cell_type": "markdown",
   "id": "6b100a46",
   "metadata": {
    "papermill": {
     "duration": 0.026051,
     "end_time": "2024-11-28T13:10:40.895767",
     "exception": false,
     "start_time": "2024-11-28T13:10:40.869716",
     "status": "completed"
    },
    "tags": []
   },
   "source": [
    "Fare minimum for no parents/children or sibblings and maximum for 2 parents and siblings/spouse on board"
   ]
  },
  {
   "cell_type": "code",
   "execution_count": 35,
   "id": "14d6e548",
   "metadata": {
    "execution": {
     "iopub.execute_input": "2024-11-28T13:10:40.951058Z",
     "iopub.status.busy": "2024-11-28T13:10:40.950368Z",
     "iopub.status.idle": "2024-11-28T13:10:41.162129Z",
     "shell.execute_reply": "2024-11-28T13:10:41.161122Z"
    },
    "papermill": {
     "duration": 0.241921,
     "end_time": "2024-11-28T13:10:41.164263",
     "exception": false,
     "start_time": "2024-11-28T13:10:40.922342",
     "status": "completed"
    },
    "tags": []
   },
   "outputs": [
    {
     "data": {
      "image/png": "[encoded data removed]",
      "text/plain": [
       "<Figure size 640x480 with 2 Axes>"
      ]
     },
     "metadata": {},
     "output_type": "display_data"
    }
   ],
   "source": [
    "sns.heatmap(cross2, annot=True)\n",
    "plt.title('Age mean by Parch, SibSp')\n",
    "plt.xlabel(\"Number of Siblings/Spouses (SibSp)\")\n",
    "plt.ylabel(\"Number of Parents/Children (Parch)\")\n",
    "plt.show()"
   ]
  },
  {
   "cell_type": "markdown",
   "id": "7589b77d",
   "metadata": {
    "papermill": {
     "duration": 0.027284,
     "end_time": "2024-11-28T13:10:41.218617",
     "exception": false,
     "start_time": "2024-11-28T13:10:41.191333",
     "status": "completed"
    },
    "tags": []
   },
   "source": [
    "Maximum mean age of no Parents/children and minimum mean age of 1 parents/children and 2 siblings/spouses"
   ]
  },
  {
   "cell_type": "code",
   "execution_count": 36,
   "id": "f14a80cf",
   "metadata": {
    "execution": {
     "iopub.execute_input": "2024-11-28T13:10:41.274840Z",
     "iopub.status.busy": "2024-11-28T13:10:41.273901Z",
     "iopub.status.idle": "2024-11-28T13:10:41.290292Z",
     "shell.execute_reply": "2024-11-28T13:10:41.289490Z"
    },
    "papermill": {
     "duration": 0.046611,
     "end_time": "2024-11-28T13:10:41.292270",
     "exception": false,
     "start_time": "2024-11-28T13:10:41.245659",
     "status": "completed"
    },
    "tags": []
   },
   "outputs": [],
   "source": [
    "train_crosstab = pd.crosstab(index=[final_train.Pclass, final_train.Parch],\n",
    "                             columns=final_train.SibSp,\n",
    "                             values=final_train.Fare,\n",
    "                             aggfunc='mean')\n",
    "train_crosstab1 = pd.crosstab(index=[final_train.Pclass, final_train.Parch],\n",
    "                             columns=final_train.SibSp,\n",
    "                             values=final_train.Age,\n",
    "                             aggfunc='mean')"
   ]
  },
  {
   "cell_type": "code",
   "execution_count": 37,
   "id": "947ac0d6",
   "metadata": {
    "execution": {
     "iopub.execute_input": "2024-11-28T13:10:41.348405Z",
     "iopub.status.busy": "2024-11-28T13:10:41.347618Z",
     "iopub.status.idle": "2024-11-28T13:10:41.689450Z",
     "shell.execute_reply": "2024-11-28T13:10:41.688412Z"
    },
    "papermill": {
     "duration": 0.372359,
     "end_time": "2024-11-28T13:10:41.691531",
     "exception": false,
     "start_time": "2024-11-28T13:10:41.319172",
     "status": "completed"
    },
    "tags": []
   },
   "outputs": [
    {
     "data": {
      "image/png": "[encoded data removed]",
      "text/plain": [
       "<Figure size 640x480 with 2 Axes>"
      ]
     },
     "metadata": {},
     "output_type": "display_data"
    }
   ],
   "source": [
    "sns.heatmap(train_crosstab, annot=True)\n",
    "plt.title(\"Fare Mean by Pclass, SibSp, Parch\")\n",
    "plt.xlabel(\"Siblings/Spouses (SibSp)\")\n",
    "plt.ylabel(\"Ticket Class (Pclass) and Number of Parents/Children (Parch)\")\n",
    "plt.show()"
   ]
  },
  {
   "cell_type": "markdown",
   "id": "32db1976",
   "metadata": {
    "papermill": {
     "duration": 0.028241,
     "end_time": "2024-11-28T13:10:41.748185",
     "exception": false,
     "start_time": "2024-11-28T13:10:41.719944",
     "status": "completed"
    },
    "tags": []
   },
   "source": [
    "Mean Fare maximum for second class and 2 parents, minimum for 3rd class and no parents"
   ]
  },
  {
   "cell_type": "code",
   "execution_count": 38,
   "id": "170b92f2",
   "metadata": {
    "execution": {
     "iopub.execute_input": "2024-11-28T13:10:41.807971Z",
     "iopub.status.busy": "2024-11-28T13:10:41.807228Z",
     "iopub.status.idle": "2024-11-28T13:10:42.137961Z",
     "shell.execute_reply": "2024-11-28T13:10:42.136932Z"
    },
    "papermill": {
     "duration": 0.364267,
     "end_time": "2024-11-28T13:10:42.140136",
     "exception": false,
     "start_time": "2024-11-28T13:10:41.775869",
     "status": "completed"
    },
    "tags": []
   },
   "outputs": [
    {
     "data": {
      "image/png": "[encoded data removed]",
      "text/plain": [
       "<Figure size 640x480 with 2 Axes>"
      ]
     },
     "metadata": {},
     "output_type": "display_data"
    }
   ],
   "source": [
    "sns.heatmap(train_crosstab1, annot=True)\n",
    "plt.title(\"Age Mean by Pclass, SibSp, Parch\")\n",
    "plt.xlabel(\"Siblings/Spouses (SibSp)\")\n",
    "plt.ylabel(\"Ticket Class (Pclass) and Number of Parents/Children (Parch)\")\n",
    "plt.show()"
   ]
  },
  {
   "cell_type": "markdown",
   "id": "8641ced3",
   "metadata": {
    "papermill": {
     "duration": 0.028404,
     "end_time": "2024-11-28T13:10:42.197081",
     "exception": false,
     "start_time": "2024-11-28T13:10:42.168677",
     "status": "completed"
    },
    "tags": []
   },
   "source": [
    "Maximum Age mean for first class and no parents/children, minimum for third class and 1 parent/children on board"
   ]
  },
  {
   "cell_type": "markdown",
   "id": "d5e13ff7",
   "metadata": {
    "papermill": {
     "duration": 0.028388,
     "end_time": "2024-11-28T13:10:42.254050",
     "exception": false,
     "start_time": "2024-11-28T13:10:42.225662",
     "status": "completed"
    },
    "tags": []
   },
   "source": [
    "# [](http://)Data preparation"
   ]
  },
  {
   "cell_type": "code",
   "execution_count": 39,
   "id": "5ce876a2",
   "metadata": {
    "execution": {
     "iopub.execute_input": "2024-11-28T13:10:42.313100Z",
     "iopub.status.busy": "2024-11-28T13:10:42.312703Z",
     "iopub.status.idle": "2024-11-28T13:10:42.322040Z",
     "shell.execute_reply": "2024-11-28T13:10:42.320966Z"
    },
    "papermill": {
     "duration": 0.041751,
     "end_time": "2024-11-28T13:10:42.324031",
     "exception": false,
     "start_time": "2024-11-28T13:10:42.282280",
     "status": "completed"
    },
    "tags": []
   },
   "outputs": [
    {
     "name": "stdout",
     "output_type": "stream",
     "text": [
      "False\n"
     ]
    }
   ],
   "source": [
    "# check yes/no in the dataset\n",
    "# APPLYMAP IS MAP \n",
    "yes_no_present = final_train.map(lambda x : x in ['yes','no']).any().any()\n",
    "print(yes_no_present)\n",
    "\n",
    "# If present check for column \n",
    "# also keep in mind for case sensitive"
   ]
  },
  {
   "cell_type": "code",
   "execution_count": 40,
   "id": "b050b7ec",
   "metadata": {
    "execution": {
     "iopub.execute_input": "2024-11-28T13:10:42.384152Z",
     "iopub.status.busy": "2024-11-28T13:10:42.383456Z",
     "iopub.status.idle": "2024-11-28T13:10:42.399887Z",
     "shell.execute_reply": "2024-11-28T13:10:42.398861Z"
    },
    "papermill": {
     "duration": 0.048986,
     "end_time": "2024-11-28T13:10:42.401888",
     "exception": false,
     "start_time": "2024-11-28T13:10:42.352902",
     "status": "completed"
    },
    "tags": []
   },
   "outputs": [
    {
     "name": "stdout",
     "output_type": "stream",
     "text": [
      "Index([], dtype='object')\n"
     ]
    }
   ],
   "source": [
    "# column name with yes or no\n",
    "columns_with_yes_no = final_train.columns[final_train.apply(lambda col: col.astype(str).str.lower().isin(['yes','no'])).all()]\n",
    "print(columns_with_yes_no)"
   ]
  },
  {
   "cell_type": "code",
   "execution_count": 41,
   "id": "62351253",
   "metadata": {
    "execution": {
     "iopub.execute_input": "2024-11-28T13:10:42.461511Z",
     "iopub.status.busy": "2024-11-28T13:10:42.461121Z",
     "iopub.status.idle": "2024-11-28T13:10:42.467719Z",
     "shell.execute_reply": "2024-11-28T13:10:42.466800Z"
    },
    "papermill": {
     "duration": 0.038774,
     "end_time": "2024-11-28T13:10:42.469802",
     "exception": false,
     "start_time": "2024-11-28T13:10:42.431028",
     "status": "completed"
    },
    "tags": []
   },
   "outputs": [],
   "source": [
    "# convert male to 0 and female to 1\n",
    "final_train['Sex'] = final_train['Sex'].map({'male':0, 'female':1})"
   ]
  },
  {
   "cell_type": "code",
   "execution_count": 42,
   "id": "d3f80f6d",
   "metadata": {
    "execution": {
     "iopub.execute_input": "2024-11-28T13:10:42.529297Z",
     "iopub.status.busy": "2024-11-28T13:10:42.528347Z",
     "iopub.status.idle": "2024-11-28T13:10:42.534453Z",
     "shell.execute_reply": "2024-11-28T13:10:42.533482Z"
    },
    "papermill": {
     "duration": 0.037743,
     "end_time": "2024-11-28T13:10:42.536380",
     "exception": false,
     "start_time": "2024-11-28T13:10:42.498637",
     "status": "completed"
    },
    "tags": []
   },
   "outputs": [],
   "source": [
    "# convert to binary\n",
    "# C = Cherbourg, Q = Queenstown, S = Southampton\n",
    "# 0 = c, 1 = Q, 2 = S\n",
    "final_train['Embarked'] = final_train['Embarked'].map({'C':0, 'Q':1, 'S':2})"
   ]
  },
  {
   "cell_type": "code",
   "execution_count": 43,
   "id": "708e17ae",
   "metadata": {
    "execution": {
     "iopub.execute_input": "2024-11-28T13:10:42.596414Z",
     "iopub.status.busy": "2024-11-28T13:10:42.595616Z",
     "iopub.status.idle": "2024-11-28T13:10:42.606677Z",
     "shell.execute_reply": "2024-11-28T13:10:42.605558Z"
    },
    "papermill": {
     "duration": 0.043205,
     "end_time": "2024-11-28T13:10:42.608951",
     "exception": false,
     "start_time": "2024-11-28T13:10:42.565746",
     "status": "completed"
    },
    "tags": []
   },
   "outputs": [
    {
     "name": "stdout",
     "output_type": "stream",
     "text": [
      "<class 'pandas.core.frame.DataFrame'>\n",
      "Index: 712 entries, 1 to 891\n",
      "Data columns (total 8 columns):\n",
      " #   Column    Non-Null Count  Dtype  \n",
      "---  ------    --------------  -----  \n",
      " 0   Survived  712 non-null    int64  \n",
      " 1   Pclass    712 non-null    int64  \n",
      " 2   Sex       712 non-null    int64  \n",
      " 3   Age       712 non-null    float64\n",
      " 4   SibSp     712 non-null    float64\n",
      " 5   Parch     712 non-null    float64\n",
      " 6   Fare      712 non-null    float64\n",
      " 7   Embarked  712 non-null    int64  \n",
      "dtypes: float64(4), int64(4)\n",
      "memory usage: 50.1 KB\n"
     ]
    }
   ],
   "source": [
    "final_train.info()"
   ]
  },
  {
   "cell_type": "markdown",
   "id": "bfb74cd4",
   "metadata": {
    "papermill": {
     "duration": 0.02857,
     "end_time": "2024-11-28T13:10:42.667079",
     "exception": false,
     "start_time": "2024-11-28T13:10:42.638509",
     "status": "completed"
    },
    "tags": []
   },
   "source": [
    "## Train Test Split"
   ]
  },
  {
   "cell_type": "code",
   "execution_count": 44,
   "id": "4ce05003",
   "metadata": {
    "execution": {
     "iopub.execute_input": "2024-11-28T13:10:42.726546Z",
     "iopub.status.busy": "2024-11-28T13:10:42.726128Z",
     "iopub.status.idle": "2024-11-28T13:10:42.959724Z",
     "shell.execute_reply": "2024-11-28T13:10:42.958816Z"
    },
    "papermill": {
     "duration": 0.266055,
     "end_time": "2024-11-28T13:10:42.962088",
     "exception": false,
     "start_time": "2024-11-28T13:10:42.696033",
     "status": "completed"
    },
    "tags": []
   },
   "outputs": [],
   "source": [
    "from sklearn.model_selection import train_test_split"
   ]
  },
  {
   "cell_type": "code",
   "execution_count": 45,
   "id": "50507649",
   "metadata": {
    "execution": {
     "iopub.execute_input": "2024-11-28T13:10:43.021650Z",
     "iopub.status.busy": "2024-11-28T13:10:43.020886Z",
     "iopub.status.idle": "2024-11-28T13:10:43.035846Z",
     "shell.execute_reply": "2024-11-28T13:10:43.034686Z"
    },
    "papermill": {
     "duration": 0.047392,
     "end_time": "2024-11-28T13:10:43.038164",
     "exception": false,
     "start_time": "2024-11-28T13:10:42.990772",
     "status": "completed"
    },
    "tags": []
   },
   "outputs": [
    {
     "data": {
      "text/html": [
       "<div>\n",
       "<style scoped>\n",
       "    .dataframe tbody tr th:only-of-type {\n",
       "        vertical-align: middle;\n",
       "    }\n",
       "\n",
       "    .dataframe tbody tr th {\n",
       "        vertical-align: top;\n",
       "    }\n",
       "\n",
       "    .dataframe thead th {\n",
       "        text-align: right;\n",
       "    }\n",
       "</style>\n",
       "<table border=\"1\" class=\"dataframe\">\n",
       "  <thead>\n",
       "    <tr style=\"text-align: right;\">\n",
       "      <th></th>\n",
       "      <th>Pclass</th>\n",
       "      <th>Sex</th>\n",
       "      <th>Age</th>\n",
       "      <th>SibSp</th>\n",
       "      <th>Parch</th>\n",
       "      <th>Fare</th>\n",
       "      <th>Embarked</th>\n",
       "    </tr>\n",
       "    <tr>\n",
       "      <th>PassengerId</th>\n",
       "      <th></th>\n",
       "      <th></th>\n",
       "      <th></th>\n",
       "      <th></th>\n",
       "      <th></th>\n",
       "      <th></th>\n",
       "      <th></th>\n",
       "    </tr>\n",
       "  </thead>\n",
       "  <tbody>\n",
       "    <tr>\n",
       "      <th>1</th>\n",
       "      <td>3</td>\n",
       "      <td>0</td>\n",
       "      <td>22.0</td>\n",
       "      <td>1.0</td>\n",
       "      <td>0.0</td>\n",
       "      <td>7.250</td>\n",
       "      <td>2</td>\n",
       "    </tr>\n",
       "    <tr>\n",
       "      <th>2</th>\n",
       "      <td>1</td>\n",
       "      <td>1</td>\n",
       "      <td>38.0</td>\n",
       "      <td>1.0</td>\n",
       "      <td>0.0</td>\n",
       "      <td>13.000</td>\n",
       "      <td>0</td>\n",
       "    </tr>\n",
       "    <tr>\n",
       "      <th>3</th>\n",
       "      <td>3</td>\n",
       "      <td>1</td>\n",
       "      <td>26.0</td>\n",
       "      <td>0.0</td>\n",
       "      <td>0.0</td>\n",
       "      <td>7.925</td>\n",
       "      <td>2</td>\n",
       "    </tr>\n",
       "    <tr>\n",
       "      <th>4</th>\n",
       "      <td>1</td>\n",
       "      <td>1</td>\n",
       "      <td>35.0</td>\n",
       "      <td>1.0</td>\n",
       "      <td>0.0</td>\n",
       "      <td>53.100</td>\n",
       "      <td>2</td>\n",
       "    </tr>\n",
       "    <tr>\n",
       "      <th>5</th>\n",
       "      <td>3</td>\n",
       "      <td>0</td>\n",
       "      <td>35.0</td>\n",
       "      <td>0.0</td>\n",
       "      <td>0.0</td>\n",
       "      <td>8.050</td>\n",
       "      <td>2</td>\n",
       "    </tr>\n",
       "  </tbody>\n",
       "</table>\n",
       "</div>"
      ],
      "text/plain": [
       "             Pclass  Sex   Age  SibSp  Parch    Fare  Embarked\n",
       "PassengerId                                                   \n",
       "1                 3    0  22.0    1.0    0.0   7.250         2\n",
       "2                 1    1  38.0    1.0    0.0  13.000         0\n",
       "3                 3    1  26.0    0.0    0.0   7.925         2\n",
       "4                 1    1  35.0    1.0    0.0  53.100         2\n",
       "5                 3    0  35.0    0.0    0.0   8.050         2"
      ]
     },
     "execution_count": 45,
     "metadata": {},
     "output_type": "execute_result"
    }
   ],
   "source": [
    "# putting feature variable to X\n",
    "X = final_train.drop(['Survived'], axis=1)\n",
    "X.head()"
   ]
  },
  {
   "cell_type": "code",
   "execution_count": 46,
   "id": "b5887c80",
   "metadata": {
    "execution": {
     "iopub.execute_input": "2024-11-28T13:10:43.099068Z",
     "iopub.status.busy": "2024-11-28T13:10:43.098099Z",
     "iopub.status.idle": "2024-11-28T13:10:43.102650Z",
     "shell.execute_reply": "2024-11-28T13:10:43.101745Z"
    },
    "papermill": {
     "duration": 0.037181,
     "end_time": "2024-11-28T13:10:43.104690",
     "exception": false,
     "start_time": "2024-11-28T13:10:43.067509",
     "status": "completed"
    },
    "tags": []
   },
   "outputs": [],
   "source": [
    "# putting output variable to y\n",
    "y = final_train['Survived']"
   ]
  },
  {
   "cell_type": "code",
   "execution_count": 47,
   "id": "90d1e2b4",
   "metadata": {
    "execution": {
     "iopub.execute_input": "2024-11-28T13:10:43.165258Z",
     "iopub.status.busy": "2024-11-28T13:10:43.164674Z",
     "iopub.status.idle": "2024-11-28T13:10:43.172433Z",
     "shell.execute_reply": "2024-11-28T13:10:43.171357Z"
    },
    "papermill": {
     "duration": 0.040002,
     "end_time": "2024-11-28T13:10:43.174490",
     "exception": false,
     "start_time": "2024-11-28T13:10:43.134488",
     "status": "completed"
    },
    "tags": []
   },
   "outputs": [],
   "source": [
    "# spitting the data into train test \n",
    "X_train, X_test, y_train, y_test = train_test_split(X, y, train_size=0.7, test_size=0.3, random_state=100)"
   ]
  },
  {
   "cell_type": "code",
   "execution_count": 48,
   "id": "888a8b75",
   "metadata": {
    "execution": {
     "iopub.execute_input": "2024-11-28T13:10:43.234463Z",
     "iopub.status.busy": "2024-11-28T13:10:43.233707Z",
     "iopub.status.idle": "2024-11-28T13:10:43.246643Z",
     "shell.execute_reply": "2024-11-28T13:10:43.245573Z"
    },
    "papermill": {
     "duration": 0.045298,
     "end_time": "2024-11-28T13:10:43.248644",
     "exception": false,
     "start_time": "2024-11-28T13:10:43.203346",
     "status": "completed"
    },
    "tags": []
   },
   "outputs": [
    {
     "data": {
      "text/html": [
       "<div>\n",
       "<style scoped>\n",
       "    .dataframe tbody tr th:only-of-type {\n",
       "        vertical-align: middle;\n",
       "    }\n",
       "\n",
       "    .dataframe tbody tr th {\n",
       "        vertical-align: top;\n",
       "    }\n",
       "\n",
       "    .dataframe thead th {\n",
       "        text-align: right;\n",
       "    }\n",
       "</style>\n",
       "<table border=\"1\" class=\"dataframe\">\n",
       "  <thead>\n",
       "    <tr style=\"text-align: right;\">\n",
       "      <th></th>\n",
       "      <th>Pclass</th>\n",
       "      <th>Sex</th>\n",
       "      <th>Age</th>\n",
       "      <th>SibSp</th>\n",
       "      <th>Parch</th>\n",
       "      <th>Fare</th>\n",
       "      <th>Embarked</th>\n",
       "    </tr>\n",
       "    <tr>\n",
       "      <th>PassengerId</th>\n",
       "      <th></th>\n",
       "      <th></th>\n",
       "      <th></th>\n",
       "      <th></th>\n",
       "      <th></th>\n",
       "      <th></th>\n",
       "      <th></th>\n",
       "    </tr>\n",
       "  </thead>\n",
       "  <tbody>\n",
       "    <tr>\n",
       "      <th>520</th>\n",
       "      <td>3</td>\n",
       "      <td>0</td>\n",
       "      <td>32.0</td>\n",
       "      <td>0.0</td>\n",
       "      <td>0.0</td>\n",
       "      <td>7.8958</td>\n",
       "      <td>2</td>\n",
       "    </tr>\n",
       "    <tr>\n",
       "      <th>890</th>\n",
       "      <td>1</td>\n",
       "      <td>0</td>\n",
       "      <td>26.0</td>\n",
       "      <td>0.0</td>\n",
       "      <td>0.0</td>\n",
       "      <td>30.0000</td>\n",
       "      <td>0</td>\n",
       "    </tr>\n",
       "    <tr>\n",
       "      <th>622</th>\n",
       "      <td>1</td>\n",
       "      <td>0</td>\n",
       "      <td>42.0</td>\n",
       "      <td>1.0</td>\n",
       "      <td>0.0</td>\n",
       "      <td>52.5542</td>\n",
       "      <td>2</td>\n",
       "    </tr>\n",
       "    <tr>\n",
       "      <th>142</th>\n",
       "      <td>3</td>\n",
       "      <td>1</td>\n",
       "      <td>22.0</td>\n",
       "      <td>0.0</td>\n",
       "      <td>0.0</td>\n",
       "      <td>7.7500</td>\n",
       "      <td>2</td>\n",
       "    </tr>\n",
       "    <tr>\n",
       "      <th>716</th>\n",
       "      <td>3</td>\n",
       "      <td>0</td>\n",
       "      <td>19.0</td>\n",
       "      <td>0.0</td>\n",
       "      <td>0.0</td>\n",
       "      <td>7.6500</td>\n",
       "      <td>2</td>\n",
       "    </tr>\n",
       "  </tbody>\n",
       "</table>\n",
       "</div>"
      ],
      "text/plain": [
       "             Pclass  Sex   Age  SibSp  Parch     Fare  Embarked\n",
       "PassengerId                                                    \n",
       "520               3    0  32.0    0.0    0.0   7.8958         2\n",
       "890               1    0  26.0    0.0    0.0  30.0000         0\n",
       "622               1    0  42.0    1.0    0.0  52.5542         2\n",
       "142               3    1  22.0    0.0    0.0   7.7500         2\n",
       "716               3    0  19.0    0.0    0.0   7.6500         2"
      ]
     },
     "execution_count": 48,
     "metadata": {},
     "output_type": "execute_result"
    }
   ],
   "source": [
    "X_train.head()"
   ]
  },
  {
   "cell_type": "markdown",
   "id": "a7bf69a9",
   "metadata": {
    "papermill": {
     "duration": 0.029443,
     "end_time": "2024-11-28T13:10:43.307297",
     "exception": false,
     "start_time": "2024-11-28T13:10:43.277854",
     "status": "completed"
    },
    "tags": []
   },
   "source": [
    "## Feature Scaling"
   ]
  },
  {
   "cell_type": "code",
   "execution_count": 49,
   "id": "cedc626c",
   "metadata": {
    "execution": {
     "iopub.execute_input": "2024-11-28T13:10:43.368264Z",
     "iopub.status.busy": "2024-11-28T13:10:43.367366Z",
     "iopub.status.idle": "2024-11-28T13:10:43.371883Z",
     "shell.execute_reply": "2024-11-28T13:10:43.370861Z"
    },
    "papermill": {
     "duration": 0.037304,
     "end_time": "2024-11-28T13:10:43.373846",
     "exception": false,
     "start_time": "2024-11-28T13:10:43.336542",
     "status": "completed"
    },
    "tags": []
   },
   "outputs": [],
   "source": [
    "from sklearn.preprocessing import StandardScaler"
   ]
  },
  {
   "cell_type": "code",
   "execution_count": 50,
   "id": "c4c81b78",
   "metadata": {
    "execution": {
     "iopub.execute_input": "2024-11-28T13:10:43.434404Z",
     "iopub.status.busy": "2024-11-28T13:10:43.433487Z",
     "iopub.status.idle": "2024-11-28T13:10:43.452127Z",
     "shell.execute_reply": "2024-11-28T13:10:43.450977Z"
    },
    "papermill": {
     "duration": 0.051071,
     "end_time": "2024-11-28T13:10:43.454248",
     "exception": false,
     "start_time": "2024-11-28T13:10:43.403177",
     "status": "completed"
    },
    "tags": []
   },
   "outputs": [
    {
     "data": {
      "text/html": [
       "<div>\n",
       "<style scoped>\n",
       "    .dataframe tbody tr th:only-of-type {\n",
       "        vertical-align: middle;\n",
       "    }\n",
       "\n",
       "    .dataframe tbody tr th {\n",
       "        vertical-align: top;\n",
       "    }\n",
       "\n",
       "    .dataframe thead th {\n",
       "        text-align: right;\n",
       "    }\n",
       "</style>\n",
       "<table border=\"1\" class=\"dataframe\">\n",
       "  <thead>\n",
       "    <tr style=\"text-align: right;\">\n",
       "      <th></th>\n",
       "      <th>Pclass</th>\n",
       "      <th>Sex</th>\n",
       "      <th>Age</th>\n",
       "      <th>SibSp</th>\n",
       "      <th>Parch</th>\n",
       "      <th>Fare</th>\n",
       "      <th>Embarked</th>\n",
       "    </tr>\n",
       "    <tr>\n",
       "      <th>PassengerId</th>\n",
       "      <th></th>\n",
       "      <th></th>\n",
       "      <th></th>\n",
       "      <th></th>\n",
       "      <th></th>\n",
       "      <th></th>\n",
       "      <th></th>\n",
       "    </tr>\n",
       "  </thead>\n",
       "  <tbody>\n",
       "    <tr>\n",
       "      <th>520</th>\n",
       "      <td>0.906512</td>\n",
       "      <td>-0.745822</td>\n",
       "      <td>0.206227</td>\n",
       "      <td>-0.606017</td>\n",
       "      <td>-0.523238</td>\n",
       "      <td>-0.765974</td>\n",
       "      <td>0.523236</td>\n",
       "    </tr>\n",
       "    <tr>\n",
       "      <th>890</th>\n",
       "      <td>-1.450893</td>\n",
       "      <td>-0.745822</td>\n",
       "      <td>-0.221721</td>\n",
       "      <td>-0.606017</td>\n",
       "      <td>-0.523238</td>\n",
       "      <td>0.874535</td>\n",
       "      <td>-2.043971</td>\n",
       "    </tr>\n",
       "    <tr>\n",
       "      <th>622</th>\n",
       "      <td>-1.450893</td>\n",
       "      <td>-0.745822</td>\n",
       "      <td>0.919473</td>\n",
       "      <td>1.212034</td>\n",
       "      <td>-0.523238</td>\n",
       "      <td>2.548441</td>\n",
       "      <td>0.523236</td>\n",
       "    </tr>\n",
       "    <tr>\n",
       "      <th>142</th>\n",
       "      <td>0.906512</td>\n",
       "      <td>1.340803</td>\n",
       "      <td>-0.507019</td>\n",
       "      <td>-0.606017</td>\n",
       "      <td>-0.523238</td>\n",
       "      <td>-0.776794</td>\n",
       "      <td>0.523236</td>\n",
       "    </tr>\n",
       "    <tr>\n",
       "      <th>716</th>\n",
       "      <td>0.906512</td>\n",
       "      <td>-0.745822</td>\n",
       "      <td>-0.720993</td>\n",
       "      <td>-0.606017</td>\n",
       "      <td>-0.523238</td>\n",
       "      <td>-0.784216</td>\n",
       "      <td>0.523236</td>\n",
       "    </tr>\n",
       "  </tbody>\n",
       "</table>\n",
       "</div>"
      ],
      "text/plain": [
       "               Pclass       Sex       Age     SibSp     Parch      Fare  \\\n",
       "PassengerId                                                               \n",
       "520          0.906512 -0.745822  0.206227 -0.606017 -0.523238 -0.765974   \n",
       "890         -1.450893 -0.745822 -0.221721 -0.606017 -0.523238  0.874535   \n",
       "622         -1.450893 -0.745822  0.919473  1.212034 -0.523238  2.548441   \n",
       "142          0.906512  1.340803 -0.507019 -0.606017 -0.523238 -0.776794   \n",
       "716          0.906512 -0.745822 -0.720993 -0.606017 -0.523238 -0.784216   \n",
       "\n",
       "             Embarked  \n",
       "PassengerId            \n",
       "520          0.523236  \n",
       "890         -2.043971  \n",
       "622          0.523236  \n",
       "142          0.523236  \n",
       "716          0.523236  "
      ]
     },
     "execution_count": 50,
     "metadata": {},
     "output_type": "execute_result"
    }
   ],
   "source": [
    "scaler = StandardScaler()\n",
    "\n",
    "# Select only numeric columns (int and float types)\n",
    "numeric_cols = X_train.select_dtypes(include=['float64', 'int64']).columns\n",
    "\n",
    "# apply fit.transform only to selected columns only\n",
    "X_train[numeric_cols] = scaler.fit_transform(X_train[numeric_cols])\n",
    "\n",
    "X_train.head()"
   ]
  },
  {
   "cell_type": "markdown",
   "id": "5115a65a",
   "metadata": {
    "papermill": {
     "duration": 0.02906,
     "end_time": "2024-11-28T13:10:43.512654",
     "exception": false,
     "start_time": "2024-11-28T13:10:43.483594",
     "status": "completed"
    },
    "tags": []
   },
   "source": [
    "## Corelation Matrix"
   ]
  },
  {
   "cell_type": "code",
   "execution_count": 51,
   "id": "940fd9be",
   "metadata": {
    "execution": {
     "iopub.execute_input": "2024-11-28T13:10:43.573622Z",
     "iopub.status.busy": "2024-11-28T13:10:43.572724Z",
     "iopub.status.idle": "2024-11-28T13:10:43.578506Z",
     "shell.execute_reply": "2024-11-28T13:10:43.577443Z"
    },
    "papermill": {
     "duration": 0.038593,
     "end_time": "2024-11-28T13:10:43.580647",
     "exception": false,
     "start_time": "2024-11-28T13:10:43.542054",
     "status": "completed"
    },
    "tags": []
   },
   "outputs": [],
   "source": [
    "# Importing matplotlib and seaborn\n",
    "import matplotlib.pyplot as plt\n",
    "import seaborn as sns\n",
    "%matplotlib inline"
   ]
  },
  {
   "cell_type": "code",
   "execution_count": 52,
   "id": "c03026d3",
   "metadata": {
    "execution": {
     "iopub.execute_input": "2024-11-28T13:10:43.641880Z",
     "iopub.status.busy": "2024-11-28T13:10:43.641499Z",
     "iopub.status.idle": "2024-11-28T13:10:44.038065Z",
     "shell.execute_reply": "2024-11-28T13:10:44.036998Z"
    },
    "papermill": {
     "duration": 0.430154,
     "end_time": "2024-11-28T13:10:44.040613",
     "exception": false,
     "start_time": "2024-11-28T13:10:43.610459",
     "status": "completed"
    },
    "tags": []
   },
   "outputs": [
    {
     "data": {
      "image/png": "[encoded data removed]",
      "text/plain": [
       "<Figure size 2000x1000 with 2 Axes>"
      ]
     },
     "metadata": {},
     "output_type": "display_data"
    }
   ],
   "source": [
    "# Let's see the correlation matrix \n",
    "plt.figure(figsize = (20,10))        # Size of the figure\n",
    "sns.heatmap(X_train[numeric_cols].corr(),annot = True)\n",
    "plt.show()"
   ]
  },
  {
   "cell_type": "markdown",
   "id": "b0a1bf37",
   "metadata": {
    "papermill": {
     "duration": 0.031459,
     "end_time": "2024-11-28T13:10:44.102932",
     "exception": false,
     "start_time": "2024-11-28T13:10:44.071473",
     "status": "completed"
    },
    "tags": []
   },
   "source": [
    "No highly corealated variables"
   ]
  },
  {
   "cell_type": "markdown",
   "id": "e3171c7d",
   "metadata": {
    "papermill": {
     "duration": 0.0305,
     "end_time": "2024-11-28T13:10:44.164285",
     "exception": false,
     "start_time": "2024-11-28T13:10:44.133785",
     "status": "completed"
    },
    "tags": []
   },
   "source": [
    "# [](http://)Model"
   ]
  },
  {
   "cell_type": "markdown",
   "id": "f3f74725",
   "metadata": {
    "papermill": {
     "duration": 0.03069,
     "end_time": "2024-11-28T13:10:44.226498",
     "exception": false,
     "start_time": "2024-11-28T13:10:44.195808",
     "status": "completed"
    },
    "tags": []
   },
   "source": [
    "## statsmodel\n"
   ]
  },
  {
   "cell_type": "code",
   "execution_count": 53,
   "id": "20e1229a",
   "metadata": {
    "execution": {
     "iopub.execute_input": "2024-11-28T13:10:44.290117Z",
     "iopub.status.busy": "2024-11-28T13:10:44.289345Z",
     "iopub.status.idle": "2024-11-28T13:10:45.785102Z",
     "shell.execute_reply": "2024-11-28T13:10:45.784206Z"
    },
    "papermill": {
     "duration": 1.530192,
     "end_time": "2024-11-28T13:10:45.787370",
     "exception": false,
     "start_time": "2024-11-28T13:10:44.257178",
     "status": "completed"
    },
    "tags": []
   },
   "outputs": [],
   "source": [
    "import statsmodels.api as sm"
   ]
  },
  {
   "cell_type": "code",
   "execution_count": 54,
   "id": "cda7b718",
   "metadata": {
    "execution": {
     "iopub.execute_input": "2024-11-28T13:10:45.854992Z",
     "iopub.status.busy": "2024-11-28T13:10:45.854420Z",
     "iopub.status.idle": "2024-11-28T13:10:45.880779Z",
     "shell.execute_reply": "2024-11-28T13:10:45.878741Z"
    },
    "papermill": {
     "duration": 0.063357,
     "end_time": "2024-11-28T13:10:45.883494",
     "exception": false,
     "start_time": "2024-11-28T13:10:45.820137",
     "status": "completed"
    },
    "tags": []
   },
   "outputs": [
    {
     "name": "stdout",
     "output_type": "stream",
     "text": [
      "Optimization terminated successfully.\n",
      "         Current function value: 0.442645\n",
      "         Iterations 6\n"
     ]
    },
    {
     "data": {
      "text/plain": [
       "const      -0.587020\n",
       "Pclass     -1.193989\n",
       "Sex         1.204921\n",
       "Age        -0.480262\n",
       "SibSp       0.077578\n",
       "Parch      -0.070614\n",
       "Fare       -0.041363\n",
       "Embarked   -0.086719\n",
       "dtype: float64"
      ]
     },
     "execution_count": 54,
     "metadata": {},
     "output_type": "execute_result"
    }
   ],
   "source": [
    "# Add a constant to get an intercept\n",
    "X_train_sm = sm.add_constant(X_train)\n",
    "# Fit the regression Model by GLM\n",
    "lr_1 = sm.Logit(y_train, X_train_sm)\n",
    "lr_model_1 = lr_1.fit()\n",
    "lr_model_1.params"
   ]
  },
  {
   "cell_type": "code",
   "execution_count": 55,
   "id": "34cc62ec",
   "metadata": {
    "execution": {
     "iopub.execute_input": "2024-11-28T13:10:45.998812Z",
     "iopub.status.busy": "2024-11-28T13:10:45.997971Z",
     "iopub.status.idle": "2024-11-28T13:10:46.019003Z",
     "shell.execute_reply": "2024-11-28T13:10:46.017775Z"
    },
    "papermill": {
     "duration": 0.079111,
     "end_time": "2024-11-28T13:10:46.021117",
     "exception": false,
     "start_time": "2024-11-28T13:10:45.942006",
     "status": "completed"
    },
    "tags": []
   },
   "outputs": [
    {
     "name": "stdout",
     "output_type": "stream",
     "text": [
      "                           Logit Regression Results                           \n",
      "==============================================================================\n",
      "Dep. Variable:               Survived   No. Observations:                  498\n",
      "Model:                          Logit   Df Residuals:                      490\n",
      "Method:                           MLE   Df Model:                            7\n",
      "Date:                Thu, 28 Nov 2024   Pseudo R-squ.:                  0.3413\n",
      "Time:                        13:10:46   Log-Likelihood:                -220.44\n",
      "converged:                       True   LL-Null:                       -334.67\n",
      "Covariance Type:            nonrobust   LLR p-value:                 1.054e-45\n",
      "==============================================================================\n",
      "                 coef    std err          z      P>|z|      [0.025      0.975]\n",
      "------------------------------------------------------------------------------\n",
      "const         -0.5870      0.122     -4.825      0.000      -0.825      -0.349\n",
      "Pclass        -1.1940      0.161     -7.420      0.000      -1.509      -0.879\n",
      "Sex            1.2049      0.126      9.570      0.000       0.958       1.452\n",
      "Age           -0.4803      0.147     -3.277      0.001      -0.767      -0.193\n",
      "SibSp          0.0776      0.119      0.649      0.516      -0.157       0.312\n",
      "Parch         -0.0706      0.133     -0.531      0.595      -0.331       0.190\n",
      "Fare          -0.0414      0.136     -0.304      0.761      -0.308       0.225\n",
      "Embarked      -0.0867      0.122     -0.713      0.476      -0.325       0.152\n",
      "==============================================================================\n"
     ]
    }
   ],
   "source": [
    "print(lr_model_1.summary())"
   ]
  },
  {
   "cell_type": "markdown",
   "id": "a2b57bf4",
   "metadata": {
    "papermill": {
     "duration": 0.030296,
     "end_time": "2024-11-28T13:10:46.082333",
     "exception": false,
     "start_time": "2024-11-28T13:10:46.052037",
     "status": "completed"
    },
    "tags": []
   },
   "source": [
    "1. R square and F-statistic low\n",
    "2. p value more for SibSp, Parch, Fare, Embarked\n",
    "3. p value zer for Pclass, Sex, Age\n",
    "4. R square is 0.4, meaninf 40% of variance in Survived explained\n",
    "5. Intercept (const): The baseline survival rate (when all other variables are zero) is about 0.398, highly significant (p < 0.001).\n",
    "6. Pclass(0,1,2) coef is negative , increasing class decreases chances of survival\n",
    "7. Sex(0(male), female(1))- coef is positive 0 being less survival female being more chance\n",
    "8. Age- increasing age decreasing survival rate\n"
   ]
  },
  {
   "cell_type": "code",
   "execution_count": 56,
   "id": "05527d37",
   "metadata": {
    "execution": {
     "iopub.execute_input": "2024-11-28T13:10:46.145811Z",
     "iopub.status.busy": "2024-11-28T13:10:46.145087Z",
     "iopub.status.idle": "2024-11-28T13:10:46.157728Z",
     "shell.execute_reply": "2024-11-28T13:10:46.156954Z"
    },
    "papermill": {
     "duration": 0.046996,
     "end_time": "2024-11-28T13:10:46.159762",
     "exception": false,
     "start_time": "2024-11-28T13:10:46.112766",
     "status": "completed"
    },
    "tags": []
   },
   "outputs": [],
   "source": [
    "#checking vifs\n",
    "from statsmodels.stats.outliers_influence import variance_inflation_factor"
   ]
  },
  {
   "cell_type": "markdown",
   "id": "ad07aea4",
   "metadata": {
    "papermill": {
     "duration": 0.030743,
     "end_time": "2024-11-28T13:10:46.221283",
     "exception": false,
     "start_time": "2024-11-28T13:10:46.190540",
     "status": "completed"
    },
    "tags": []
   },
   "source": [
    "Dropping variables\n",
    "1. high p value & high vif\n",
    "2. high p value anf low vif\n",
    "3. low p value and high vifgh VIF."
   ]
  },
  {
   "cell_type": "markdown",
   "id": "650b9224",
   "metadata": {
    "papermill": {
     "duration": 0.031199,
     "end_time": "2024-11-28T13:10:46.283741",
     "exception": false,
     "start_time": "2024-11-28T13:10:46.252542",
     "status": "completed"
    },
    "tags": []
   },
   "source": [
    "VIF ELIMINATION\n",
    "1. VIF > 10, then we should definitely eliminate the variable.\n",
    "2. VIF > 5, We need to inspect the variable before eliminating it.\n",
    "3. VIF < 5, is definitely a good variable and we should not eliminate it.\n",
    "4. p value> 0.05 highpeat\r\n"
   ]
  },
  {
   "cell_type": "code",
   "execution_count": 57,
   "id": "6b8e5788",
   "metadata": {
    "execution": {
     "iopub.execute_input": "2024-11-28T13:10:46.347474Z",
     "iopub.status.busy": "2024-11-28T13:10:46.347088Z",
     "iopub.status.idle": "2024-11-28T13:10:46.374105Z",
     "shell.execute_reply": "2024-11-28T13:10:46.373151Z"
    },
    "papermill": {
     "duration": 0.061476,
     "end_time": "2024-11-28T13:10:46.376097",
     "exception": false,
     "start_time": "2024-11-28T13:10:46.314621",
     "status": "completed"
    },
    "tags": []
   },
   "outputs": [
    {
     "data": {
      "text/html": [
       "<div>\n",
       "<style scoped>\n",
       "    .dataframe tbody tr th:only-of-type {\n",
       "        vertical-align: middle;\n",
       "    }\n",
       "\n",
       "    .dataframe tbody tr th {\n",
       "        vertical-align: top;\n",
       "    }\n",
       "\n",
       "    .dataframe thead th {\n",
       "        text-align: right;\n",
       "    }\n",
       "</style>\n",
       "<table border=\"1\" class=\"dataframe\">\n",
       "  <thead>\n",
       "    <tr style=\"text-align: right;\">\n",
       "      <th></th>\n",
       "      <th>Features</th>\n",
       "      <th>VIF</th>\n",
       "    </tr>\n",
       "  </thead>\n",
       "  <tbody>\n",
       "    <tr>\n",
       "      <th>0</th>\n",
       "      <td>Pclass</td>\n",
       "      <td>1.60</td>\n",
       "    </tr>\n",
       "    <tr>\n",
       "      <th>2</th>\n",
       "      <td>Age</td>\n",
       "      <td>1.44</td>\n",
       "    </tr>\n",
       "    <tr>\n",
       "      <th>5</th>\n",
       "      <td>Fare</td>\n",
       "      <td>1.32</td>\n",
       "    </tr>\n",
       "    <tr>\n",
       "      <th>4</th>\n",
       "      <td>Parch</td>\n",
       "      <td>1.31</td>\n",
       "    </tr>\n",
       "    <tr>\n",
       "      <th>1</th>\n",
       "      <td>Sex</td>\n",
       "      <td>1.12</td>\n",
       "    </tr>\n",
       "    <tr>\n",
       "      <th>3</th>\n",
       "      <td>SibSp</td>\n",
       "      <td>1.10</td>\n",
       "    </tr>\n",
       "    <tr>\n",
       "      <th>6</th>\n",
       "      <td>Embarked</td>\n",
       "      <td>1.08</td>\n",
       "    </tr>\n",
       "  </tbody>\n",
       "</table>\n",
       "</div>"
      ],
      "text/plain": [
       "   Features   VIF\n",
       "0    Pclass  1.60\n",
       "2       Age  1.44\n",
       "5      Fare  1.32\n",
       "4     Parch  1.31\n",
       "1       Sex  1.12\n",
       "3     SibSp  1.10\n",
       "6  Embarked  1.08"
      ]
     },
     "execution_count": 57,
     "metadata": {},
     "output_type": "execute_result"
    }
   ],
   "source": [
    "vif = pd.DataFrame()\n",
    "vif['Features'] = X_train.columns\n",
    "vif['VIF'] = [variance_inflation_factor(X_train.values, i) for i in range (X_train.shape[1])]\n",
    "vif['VIF'] = round(vif['VIF'], 2)\n",
    "vif = vif.sort_values(by = \"VIF\", ascending = False)\n",
    "vif"
   ]
  },
  {
   "cell_type": "code",
   "execution_count": 58,
   "id": "a10afedb",
   "metadata": {
    "execution": {
     "iopub.execute_input": "2024-11-28T13:10:46.440788Z",
     "iopub.status.busy": "2024-11-28T13:10:46.440016Z",
     "iopub.status.idle": "2024-11-28T13:10:46.445218Z",
     "shell.execute_reply": "2024-11-28T13:10:46.444295Z"
    },
    "papermill": {
     "duration": 0.039989,
     "end_time": "2024-11-28T13:10:46.447220",
     "exception": false,
     "start_time": "2024-11-28T13:10:46.407231",
     "status": "completed"
    },
    "tags": []
   },
   "outputs": [],
   "source": [
    "# dropping variables with high p-values FARE wiht 0.68 , LOW VIF 1.32\n",
    "X_lr = X_train.drop('Fare', axis=1)"
   ]
  },
  {
   "cell_type": "code",
   "execution_count": 59,
   "id": "f3458d97",
   "metadata": {
    "execution": {
     "iopub.execute_input": "2024-11-28T13:10:46.512120Z",
     "iopub.status.busy": "2024-11-28T13:10:46.511713Z",
     "iopub.status.idle": "2024-11-28T13:10:46.544258Z",
     "shell.execute_reply": "2024-11-28T13:10:46.542257Z"
    },
    "papermill": {
     "duration": 0.068458,
     "end_time": "2024-11-28T13:10:46.547108",
     "exception": false,
     "start_time": "2024-11-28T13:10:46.478650",
     "status": "completed"
    },
    "tags": []
   },
   "outputs": [
    {
     "name": "stdout",
     "output_type": "stream",
     "text": [
      "Optimization terminated successfully.\n",
      "         Current function value: 0.442738\n",
      "         Iterations 6\n",
      "                           Logit Regression Results                           \n",
      "==============================================================================\n",
      "Dep. Variable:               Survived   No. Observations:                  498\n",
      "Model:                          Logit   Df Residuals:                      491\n",
      "Method:                           MLE   Df Model:                            6\n",
      "Date:                Thu, 28 Nov 2024   Pseudo R-squ.:                  0.3412\n",
      "Time:                        13:10:46   Log-Likelihood:                -220.48\n",
      "converged:                       True   LL-Null:                       -334.67\n",
      "Covariance Type:            nonrobust   LLR p-value:                 1.708e-46\n",
      "==============================================================================\n",
      "                 coef    std err          z      P>|z|      [0.025      0.975]\n",
      "------------------------------------------------------------------------------\n",
      "const         -0.5891      0.122     -4.848      0.000      -0.827      -0.351\n",
      "Pclass        -1.1767      0.150     -7.837      0.000      -1.471      -0.882\n",
      "Sex            1.2046      0.126      9.577      0.000       0.958       1.451\n",
      "Age           -0.4792      0.146     -3.271      0.001      -0.766      -0.192\n",
      "SibSp          0.0716      0.118      0.607      0.544      -0.160       0.303\n",
      "Parch         -0.0790      0.130     -0.608      0.543      -0.333       0.176\n",
      "Embarked      -0.0889      0.121     -0.732      0.464      -0.327       0.149\n",
      "==============================================================================\n"
     ]
    }
   ],
   "source": [
    "# Build a second fitted model\n",
    "\n",
    "# Add a constant to get an intercept\n",
    "X_train_sm = sm.add_constant(X_lr)\n",
    "# Fit the regression Model\n",
    "lr_2 = sm.Logit(y_train, X_train_sm)\n",
    "lr_model_2 = lr_2.fit()\n",
    "# summary of the model\n",
    "print(lr_model_2.summary())"
   ]
  },
  {
   "cell_type": "code",
   "execution_count": 60,
   "id": "2b2482a7",
   "metadata": {
    "execution": {
     "iopub.execute_input": "2024-11-28T13:10:46.657696Z",
     "iopub.status.busy": "2024-11-28T13:10:46.656787Z",
     "iopub.status.idle": "2024-11-28T13:10:46.673510Z",
     "shell.execute_reply": "2024-11-28T13:10:46.672585Z"
    },
    "papermill": {
     "duration": 0.069013,
     "end_time": "2024-11-28T13:10:46.675538",
     "exception": false,
     "start_time": "2024-11-28T13:10:46.606525",
     "status": "completed"
    },
    "tags": []
   },
   "outputs": [
    {
     "data": {
      "text/html": [
       "<div>\n",
       "<style scoped>\n",
       "    .dataframe tbody tr th:only-of-type {\n",
       "        vertical-align: middle;\n",
       "    }\n",
       "\n",
       "    .dataframe tbody tr th {\n",
       "        vertical-align: top;\n",
       "    }\n",
       "\n",
       "    .dataframe thead th {\n",
       "        text-align: right;\n",
       "    }\n",
       "</style>\n",
       "<table border=\"1\" class=\"dataframe\">\n",
       "  <thead>\n",
       "    <tr style=\"text-align: right;\">\n",
       "      <th></th>\n",
       "      <th>Features</th>\n",
       "      <th>VIF</th>\n",
       "    </tr>\n",
       "  </thead>\n",
       "  <tbody>\n",
       "    <tr>\n",
       "      <th>2</th>\n",
       "      <td>Age</td>\n",
       "      <td>1.43</td>\n",
       "    </tr>\n",
       "    <tr>\n",
       "      <th>0</th>\n",
       "      <td>Pclass</td>\n",
       "      <td>1.37</td>\n",
       "    </tr>\n",
       "    <tr>\n",
       "      <th>4</th>\n",
       "      <td>Parch</td>\n",
       "      <td>1.27</td>\n",
       "    </tr>\n",
       "    <tr>\n",
       "      <th>1</th>\n",
       "      <td>Sex</td>\n",
       "      <td>1.12</td>\n",
       "    </tr>\n",
       "    <tr>\n",
       "      <th>3</th>\n",
       "      <td>SibSp</td>\n",
       "      <td>1.08</td>\n",
       "    </tr>\n",
       "    <tr>\n",
       "      <th>5</th>\n",
       "      <td>Embarked</td>\n",
       "      <td>1.08</td>\n",
       "    </tr>\n",
       "  </tbody>\n",
       "</table>\n",
       "</div>"
      ],
      "text/plain": [
       "   Features   VIF\n",
       "2       Age  1.43\n",
       "0    Pclass  1.37\n",
       "4     Parch  1.27\n",
       "1       Sex  1.12\n",
       "3     SibSp  1.08\n",
       "5  Embarked  1.08"
      ]
     },
     "execution_count": 60,
     "metadata": {},
     "output_type": "execute_result"
    }
   ],
   "source": [
    "vif = pd.DataFrame()\n",
    "vif['Features'] = X_lr.columns\n",
    "vif['VIF'] = [variance_inflation_factor(X_lr.values, i) for i in range (X_lr.shape[1])]\n",
    "vif['VIF'] = round(vif['VIF'], 2)\n",
    "vif = vif.sort_values(by = \"VIF\", ascending = False)\n",
    "vif"
   ]
  },
  {
   "cell_type": "code",
   "execution_count": 61,
   "id": "1d13c4b3",
   "metadata": {
    "execution": {
     "iopub.execute_input": "2024-11-28T13:10:46.740773Z",
     "iopub.status.busy": "2024-11-28T13:10:46.740394Z",
     "iopub.status.idle": "2024-11-28T13:10:46.746022Z",
     "shell.execute_reply": "2024-11-28T13:10:46.745005Z"
    },
    "papermill": {
     "duration": 0.040539,
     "end_time": "2024-11-28T13:10:46.747855",
     "exception": false,
     "start_time": "2024-11-28T13:10:46.707316",
     "status": "completed"
    },
    "tags": []
   },
   "outputs": [],
   "source": [
    "# dropping SibSp high p value (0.566) and low vif (1.08)\n",
    "X_lr_1= X_lr.drop('SibSp', axis=1)"
   ]
  },
  {
   "cell_type": "code",
   "execution_count": 62,
   "id": "81bf9c6f",
   "metadata": {
    "execution": {
     "iopub.execute_input": "2024-11-28T13:10:46.813730Z",
     "iopub.status.busy": "2024-11-28T13:10:46.813367Z",
     "iopub.status.idle": "2024-11-28T13:10:46.842371Z",
     "shell.execute_reply": "2024-11-28T13:10:46.840575Z"
    },
    "papermill": {
     "duration": 0.065816,
     "end_time": "2024-11-28T13:10:46.845468",
     "exception": false,
     "start_time": "2024-11-28T13:10:46.779652",
     "status": "completed"
    },
    "tags": []
   },
   "outputs": [
    {
     "name": "stdout",
     "output_type": "stream",
     "text": [
      "Optimization terminated successfully.\n",
      "         Current function value: 0.443107\n",
      "         Iterations 6\n",
      "                           Logit Regression Results                           \n",
      "==============================================================================\n",
      "Dep. Variable:               Survived   No. Observations:                  498\n",
      "Model:                          Logit   Df Residuals:                      492\n",
      "Method:                           MLE   Df Model:                            5\n",
      "Date:                Thu, 28 Nov 2024   Pseudo R-squ.:                  0.3406\n",
      "Time:                        13:10:46   Log-Likelihood:                -220.67\n",
      "converged:                       True   LL-Null:                       -334.67\n",
      "Covariance Type:            nonrobust   LLR p-value:                 2.870e-47\n",
      "==============================================================================\n",
      "                 coef    std err          z      P>|z|      [0.025      0.975]\n",
      "------------------------------------------------------------------------------\n",
      "const         -0.5868      0.121     -4.836      0.000      -0.825      -0.349\n",
      "Pclass        -1.1884      0.149     -7.976      0.000      -1.480      -0.896\n",
      "Sex            1.2107      0.125      9.648      0.000       0.965       1.457\n",
      "Age           -0.4779      0.146     -3.269      0.001      -0.764      -0.191\n",
      "Parch         -0.0714      0.129     -0.551      0.581      -0.325       0.182\n",
      "Embarked      -0.0918      0.121     -0.757      0.449      -0.329       0.146\n",
      "==============================================================================\n"
     ]
    }
   ],
   "source": [
    "# Build a thrid fitted model\n",
    "\n",
    "# Add a constant to get an intercept\n",
    "X_train_sm = sm.add_constant(X_lr_1)\n",
    "# Fit the regression Model by OLS\n",
    "lr_3 = sm.Logit(y_train, X_train_sm)\n",
    "lr_model_3 = lr_3.fit()\n",
    "# summary of the model\n",
    "print(lr_model_3.summary())"
   ]
  },
  {
   "cell_type": "code",
   "execution_count": 63,
   "id": "ace04345",
   "metadata": {
    "execution": {
     "iopub.execute_input": "2024-11-28T13:10:46.955318Z",
     "iopub.status.busy": "2024-11-28T13:10:46.954617Z",
     "iopub.status.idle": "2024-11-28T13:10:46.971208Z",
     "shell.execute_reply": "2024-11-28T13:10:46.970246Z"
    },
    "papermill": {
     "duration": 0.069597,
     "end_time": "2024-11-28T13:10:46.973094",
     "exception": false,
     "start_time": "2024-11-28T13:10:46.903497",
     "status": "completed"
    },
    "tags": []
   },
   "outputs": [
    {
     "data": {
      "text/html": [
       "<div>\n",
       "<style scoped>\n",
       "    .dataframe tbody tr th:only-of-type {\n",
       "        vertical-align: middle;\n",
       "    }\n",
       "\n",
       "    .dataframe tbody tr th {\n",
       "        vertical-align: top;\n",
       "    }\n",
       "\n",
       "    .dataframe thead th {\n",
       "        text-align: right;\n",
       "    }\n",
       "</style>\n",
       "<table border=\"1\" class=\"dataframe\">\n",
       "  <thead>\n",
       "    <tr style=\"text-align: right;\">\n",
       "      <th></th>\n",
       "      <th>Features</th>\n",
       "      <th>VIF</th>\n",
       "    </tr>\n",
       "  </thead>\n",
       "  <tbody>\n",
       "    <tr>\n",
       "      <th>2</th>\n",
       "      <td>Age</td>\n",
       "      <td>1.43</td>\n",
       "    </tr>\n",
       "    <tr>\n",
       "      <th>0</th>\n",
       "      <td>Pclass</td>\n",
       "      <td>1.33</td>\n",
       "    </tr>\n",
       "    <tr>\n",
       "      <th>3</th>\n",
       "      <td>Parch</td>\n",
       "      <td>1.25</td>\n",
       "    </tr>\n",
       "    <tr>\n",
       "      <th>1</th>\n",
       "      <td>Sex</td>\n",
       "      <td>1.11</td>\n",
       "    </tr>\n",
       "    <tr>\n",
       "      <th>4</th>\n",
       "      <td>Embarked</td>\n",
       "      <td>1.08</td>\n",
       "    </tr>\n",
       "  </tbody>\n",
       "</table>\n",
       "</div>"
      ],
      "text/plain": [
       "   Features   VIF\n",
       "2       Age  1.43\n",
       "0    Pclass  1.33\n",
       "3     Parch  1.25\n",
       "1       Sex  1.11\n",
       "4  Embarked  1.08"
      ]
     },
     "execution_count": 63,
     "metadata": {},
     "output_type": "execute_result"
    }
   ],
   "source": [
    "vif = pd.DataFrame()\n",
    "vif['Features'] = X_lr_1.columns\n",
    "vif['VIF'] = [variance_inflation_factor(X_lr_1.values, i) for i in range (X_lr_1.shape[1])]\n",
    "vif['VIF'] = round(vif['VIF'], 2)\n",
    "vif = vif.sort_values(by = \"VIF\", ascending = False)\n",
    "vif"
   ]
  },
  {
   "cell_type": "code",
   "execution_count": 64,
   "id": "9c1e99c4",
   "metadata": {
    "execution": {
     "iopub.execute_input": "2024-11-28T13:10:47.038895Z",
     "iopub.status.busy": "2024-11-28T13:10:47.038532Z",
     "iopub.status.idle": "2024-11-28T13:10:47.043902Z",
     "shell.execute_reply": "2024-11-28T13:10:47.042964Z"
    },
    "papermill": {
     "duration": 0.040502,
     "end_time": "2024-11-28T13:10:47.045749",
     "exception": false,
     "start_time": "2024-11-28T13:10:47.005247",
     "status": "completed"
    },
    "tags": []
   },
   "outputs": [],
   "source": [
    "# drop Parch as high p value 0.581 anf low vif 1.25\n",
    "X_lr_2= X_lr_1.drop('Parch', axis=1)"
   ]
  },
  {
   "cell_type": "code",
   "execution_count": 65,
   "id": "fd0f76ae",
   "metadata": {
    "execution": {
     "iopub.execute_input": "2024-11-28T13:10:47.110645Z",
     "iopub.status.busy": "2024-11-28T13:10:47.109833Z",
     "iopub.status.idle": "2024-11-28T13:10:47.139000Z",
     "shell.execute_reply": "2024-11-28T13:10:47.137275Z"
    },
    "papermill": {
     "duration": 0.064771,
     "end_time": "2024-11-28T13:10:47.142071",
     "exception": false,
     "start_time": "2024-11-28T13:10:47.077300",
     "status": "completed"
    },
    "tags": []
   },
   "outputs": [
    {
     "name": "stdout",
     "output_type": "stream",
     "text": [
      "Optimization terminated successfully.\n",
      "         Current function value: 0.443413\n",
      "         Iterations 6\n",
      "                           Logit Regression Results                           \n",
      "==============================================================================\n",
      "Dep. Variable:               Survived   No. Observations:                  498\n",
      "Model:                          Logit   Df Residuals:                      493\n",
      "Method:                           MLE   Df Model:                            4\n",
      "Date:                Thu, 28 Nov 2024   Pseudo R-squ.:                  0.3402\n",
      "Time:                        13:10:47   Log-Likelihood:                -220.82\n",
      "converged:                       True   LL-Null:                       -334.67\n",
      "Covariance Type:            nonrobust   LLR p-value:                 4.138e-48\n",
      "==============================================================================\n",
      "                 coef    std err          z      P>|z|      [0.025      0.975]\n",
      "------------------------------------------------------------------------------\n",
      "const         -0.5879      0.121     -4.847      0.000      -0.826      -0.350\n",
      "Pclass        -1.1754      0.147     -8.000      0.000      -1.463      -0.887\n",
      "Sex            1.1966      0.122      9.772      0.000       0.957       1.437\n",
      "Age           -0.4460      0.134     -3.339      0.001      -0.708      -0.184\n",
      "Embarked      -0.0935      0.121     -0.773      0.440      -0.331       0.144\n",
      "==============================================================================\n"
     ]
    }
   ],
   "source": [
    "# Build a fourth fitted model\n",
    "\n",
    "# Add a constant to get an intercept\n",
    "X_train_sm = sm.add_constant(X_lr_2)\n",
    "# Fit the regression Model by OLS\n",
    "lr_4 = sm.Logit(y_train, X_train_sm)\n",
    "lr_model_4 = lr_4.fit()\n",
    "# summary of the model\n",
    "print(lr_model_4.summary())"
   ]
  },
  {
   "cell_type": "code",
   "execution_count": 66,
   "id": "508044eb",
   "metadata": {
    "execution": {
     "iopub.execute_input": "2024-11-28T13:10:47.254524Z",
     "iopub.status.busy": "2024-11-28T13:10:47.254145Z",
     "iopub.status.idle": "2024-11-28T13:10:47.269955Z",
     "shell.execute_reply": "2024-11-28T13:10:47.268964Z"
    },
    "papermill": {
     "duration": 0.069972,
     "end_time": "2024-11-28T13:10:47.272089",
     "exception": false,
     "start_time": "2024-11-28T13:10:47.202117",
     "status": "completed"
    },
    "tags": []
   },
   "outputs": [
    {
     "data": {
      "text/html": [
       "<div>\n",
       "<style scoped>\n",
       "    .dataframe tbody tr th:only-of-type {\n",
       "        vertical-align: middle;\n",
       "    }\n",
       "\n",
       "    .dataframe tbody tr th {\n",
       "        vertical-align: top;\n",
       "    }\n",
       "\n",
       "    .dataframe thead th {\n",
       "        text-align: right;\n",
       "    }\n",
       "</style>\n",
       "<table border=\"1\" class=\"dataframe\">\n",
       "  <thead>\n",
       "    <tr style=\"text-align: right;\">\n",
       "      <th></th>\n",
       "      <th>Features</th>\n",
       "      <th>VIF</th>\n",
       "    </tr>\n",
       "  </thead>\n",
       "  <tbody>\n",
       "    <tr>\n",
       "      <th>0</th>\n",
       "      <td>Pclass</td>\n",
       "      <td>1.30</td>\n",
       "    </tr>\n",
       "    <tr>\n",
       "      <th>2</th>\n",
       "      <td>Age</td>\n",
       "      <td>1.22</td>\n",
       "    </tr>\n",
       "    <tr>\n",
       "      <th>3</th>\n",
       "      <td>Embarked</td>\n",
       "      <td>1.08</td>\n",
       "    </tr>\n",
       "    <tr>\n",
       "      <th>1</th>\n",
       "      <td>Sex</td>\n",
       "      <td>1.06</td>\n",
       "    </tr>\n",
       "  </tbody>\n",
       "</table>\n",
       "</div>"
      ],
      "text/plain": [
       "   Features   VIF\n",
       "0    Pclass  1.30\n",
       "2       Age  1.22\n",
       "3  Embarked  1.08\n",
       "1       Sex  1.06"
      ]
     },
     "execution_count": 66,
     "metadata": {},
     "output_type": "execute_result"
    }
   ],
   "source": [
    "vif = pd.DataFrame()\n",
    "vif['Features'] = X_lr_2.columns\n",
    "vif['VIF'] = [variance_inflation_factor(X_lr_2.values, i) for i in range (X_lr_2.shape[1])]\n",
    "vif['VIF'] = round(vif['VIF'], 2)\n",
    "vif = vif.sort_values(by = \"VIF\", ascending = False)\n",
    "vif"
   ]
  },
  {
   "cell_type": "code",
   "execution_count": 67,
   "id": "58c82bc6",
   "metadata": {
    "execution": {
     "iopub.execute_input": "2024-11-28T13:10:47.338227Z",
     "iopub.status.busy": "2024-11-28T13:10:47.337460Z",
     "iopub.status.idle": "2024-11-28T13:10:47.342820Z",
     "shell.execute_reply": "2024-11-28T13:10:47.341868Z"
    },
    "papermill": {
     "duration": 0.040576,
     "end_time": "2024-11-28T13:10:47.344711",
     "exception": false,
     "start_time": "2024-11-28T13:10:47.304135",
     "status": "completed"
    },
    "tags": []
   },
   "outputs": [],
   "source": [
    "# drop Embarked as high p value 0.440 anf low vif 1.08\n",
    "X_lr_3= X_lr_2.drop('Embarked', axis=1)"
   ]
  },
  {
   "cell_type": "code",
   "execution_count": 68,
   "id": "6359c85a",
   "metadata": {
    "execution": {
     "iopub.execute_input": "2024-11-28T13:10:47.410472Z",
     "iopub.status.busy": "2024-11-28T13:10:47.410093Z",
     "iopub.status.idle": "2024-11-28T13:10:47.439014Z",
     "shell.execute_reply": "2024-11-28T13:10:47.436652Z"
    },
    "papermill": {
     "duration": 0.065062,
     "end_time": "2024-11-28T13:10:47.442105",
     "exception": false,
     "start_time": "2024-11-28T13:10:47.377043",
     "status": "completed"
    },
    "tags": []
   },
   "outputs": [
    {
     "name": "stdout",
     "output_type": "stream",
     "text": [
      "Optimization terminated successfully.\n",
      "         Current function value: 0.444012\n",
      "         Iterations 6\n",
      "                           Logit Regression Results                           \n",
      "==============================================================================\n",
      "Dep. Variable:               Survived   No. Observations:                  498\n",
      "Model:                          Logit   Df Residuals:                      494\n",
      "Method:                           MLE   Df Model:                            3\n",
      "Date:                Thu, 28 Nov 2024   Pseudo R-squ.:                  0.3393\n",
      "Time:                        13:10:47   Log-Likelihood:                -221.12\n",
      "converged:                       True   LL-Null:                       -334.67\n",
      "Covariance Type:            nonrobust   LLR p-value:                 5.864e-49\n",
      "==============================================================================\n",
      "                 coef    std err          z      P>|z|      [0.025      0.975]\n",
      "------------------------------------------------------------------------------\n",
      "const         -0.5910      0.121     -4.877      0.000      -0.829      -0.353\n",
      "Pclass        -1.2002      0.144     -8.337      0.000      -1.482      -0.918\n",
      "Sex            1.2038      0.122      9.848      0.000       0.964       1.443\n",
      "Age           -0.4570      0.133     -3.439      0.001      -0.718      -0.197\n",
      "==============================================================================\n"
     ]
    }
   ],
   "source": [
    "# Build a fifth fitted model\n",
    "\n",
    "# Add a constant to get an intercept\n",
    "X_train_sm = sm.add_constant(X_lr_3)\n",
    "# Fit the regression Model by OLS\n",
    "lr_5 = sm.Logit(y_train, X_train_sm)\n",
    "lr_model_5 = lr_5.fit()\n",
    "# summary of the model\n",
    "print(lr_model_5.summary())"
   ]
  },
  {
   "cell_type": "code",
   "execution_count": 69,
   "id": "6d539782",
   "metadata": {
    "execution": {
     "iopub.execute_input": "2024-11-28T13:10:47.553893Z",
     "iopub.status.busy": "2024-11-28T13:10:47.553522Z",
     "iopub.status.idle": "2024-11-28T13:10:47.769300Z",
     "shell.execute_reply": "2024-11-28T13:10:47.768317Z"
    },
    "papermill": {
     "duration": 0.269972,
     "end_time": "2024-11-28T13:10:47.771644",
     "exception": false,
     "start_time": "2024-11-28T13:10:47.501672",
     "status": "completed"
    },
    "tags": []
   },
   "outputs": [
    {
     "data": {
      "image/png": "[encoded data removed]",
      "text/plain": [
       "<Figure size 640x480 with 1 Axes>"
      ]
     },
     "metadata": {},
     "output_type": "display_data"
    }
   ],
   "source": [
    "# Add constant to X_lr_3 for prediction\n",
    "X_lr_3_with_const = sm.add_constant(X_lr_3)\n",
    "\n",
    "# Predict probabilities using the trained model\n",
    "y_train_pred_prob = lr_model_5.predict(X_lr_3_with_const)\n",
    "\n",
    "# Calculate residuals\n",
    "train_residuals = y_train - y_train_pred_prob\n",
    "\n",
    "# Plot residuals\n",
    "import matplotlib.pyplot as plt\n",
    "plt.scatter(y_train_pred_prob, train_residuals, alpha=0.7)\n",
    "plt.axhline(0, color=\"red\", linestyle=\"--\")\n",
    "plt.title(\"Residuals vs Predicted Values (Training Set)\")\n",
    "plt.xlabel(\"Predicted Probabilities\")\n",
    "plt.ylabel(\"Residuals\")\n",
    "plt.show()"
   ]
  },
  {
   "cell_type": "markdown",
   "id": "219f2c3e",
   "metadata": {
    "papermill": {
     "duration": 0.03298,
     "end_time": "2024-11-28T13:10:47.839944",
     "exception": false,
     "start_time": "2024-11-28T13:10:47.806964",
     "status": "completed"
    },
    "tags": []
   },
   "source": [
    "Residuals ranging from -1 to 1 and forming a funnel shape due to heteroscedasticity. The two distinct bands reflect the binary nature of the target variable. There may be room to improve the model by addressing potential issues like multicollinearity, missing interactions, or non-linear relationships."
   ]
  },
  {
   "cell_type": "code",
   "execution_count": 70,
   "id": "b8fa2364",
   "metadata": {
    "execution": {
     "iopub.execute_input": "2024-11-28T13:10:47.907539Z",
     "iopub.status.busy": "2024-11-28T13:10:47.906765Z",
     "iopub.status.idle": "2024-11-28T13:10:48.277266Z",
     "shell.execute_reply": "2024-11-28T13:10:48.276247Z"
    },
    "papermill": {
     "duration": 0.40675,
     "end_time": "2024-11-28T13:10:48.279349",
     "exception": false,
     "start_time": "2024-11-28T13:10:47.872599",
     "status": "completed"
    },
    "tags": []
   },
   "outputs": [
    {
     "name": "stderr",
     "output_type": "stream",
     "text": [
      "/opt/conda/lib/python3.10/site-packages/seaborn/_oldcore.py:1119: FutureWarning: use_inf_as_na option is deprecated and will be removed in a future version. Convert inf values to NaN before operating instead.\n",
      "  with pd.option_context('mode.use_inf_as_na', True):\n"
     ]
    },
    {
     "data": {
      "image/png": "[encoded data removed]",
      "text/plain": [
       "<Figure size 500x500 with 1 Axes>"
      ]
     },
     "metadata": {},
     "output_type": "display_data"
    }
   ],
   "source": [
    "sns.displot(train_residuals, kde=True)\n",
    "plt.show()"
   ]
  },
  {
   "cell_type": "markdown",
   "id": "e15081d4",
   "metadata": {
    "papermill": {
     "duration": 0.033126,
     "end_time": "2024-11-28T13:10:48.345874",
     "exception": false,
     "start_time": "2024-11-28T13:10:48.312748",
     "status": "completed"
    },
    "tags": []
   },
   "source": [
    "The histogram with a KDE overlay visualizes the distribution of residuals for the training set. Key points:\n",
    "\n",
    "    Centered Residuals: The residuals are centered around 0, indicating no significant bias in predictions.\n",
    "    Symmetry: The distribution appears approximately symmetric, which is expected in a well-behaved logistic regression model.\n",
    "    Outliers: There are residuals near -1 and 1, reflecting potential extreme predictions or misclassifications."
   ]
  },
  {
   "cell_type": "code",
   "execution_count": 71,
   "id": "c19cfd31",
   "metadata": {
    "execution": {
     "iopub.execute_input": "2024-11-28T13:10:48.415314Z",
     "iopub.status.busy": "2024-11-28T13:10:48.414456Z",
     "iopub.status.idle": "2024-11-28T13:10:48.419691Z",
     "shell.execute_reply": "2024-11-28T13:10:48.418726Z"
    },
    "papermill": {
     "duration": 0.041953,
     "end_time": "2024-11-28T13:10:48.421686",
     "exception": false,
     "start_time": "2024-11-28T13:10:48.379733",
     "status": "completed"
    },
    "tags": []
   },
   "outputs": [],
   "source": [
    "y_train_pred_binary = (y_train_pred_prob >= 0.5).astype(int)"
   ]
  },
  {
   "cell_type": "code",
   "execution_count": 72,
   "id": "fa91ced3",
   "metadata": {
    "execution": {
     "iopub.execute_input": "2024-11-28T13:10:48.490281Z",
     "iopub.status.busy": "2024-11-28T13:10:48.489468Z",
     "iopub.status.idle": "2024-11-28T13:10:48.502779Z",
     "shell.execute_reply": "2024-11-28T13:10:48.501637Z"
    },
    "papermill": {
     "duration": 0.049922,
     "end_time": "2024-11-28T13:10:48.504879",
     "exception": false,
     "start_time": "2024-11-28T13:10:48.454957",
     "status": "completed"
    },
    "tags": []
   },
   "outputs": [
    {
     "name": "stdout",
     "output_type": "stream",
     "text": [
      "              precision    recall  f1-score   support\n",
      "\n",
      "           0       0.83      0.84      0.84       300\n",
      "           1       0.76      0.74      0.75       198\n",
      "\n",
      "    accuracy                           0.80       498\n",
      "   macro avg       0.79      0.79      0.79       498\n",
      "weighted avg       0.80      0.80      0.80       498\n",
      "\n"
     ]
    }
   ],
   "source": [
    "from sklearn.metrics import classification_report\n",
    "\n",
    "print(classification_report(y_train, y_train_pred_binary))"
   ]
  },
  {
   "cell_type": "markdown",
   "id": "bec66d6f",
   "metadata": {
    "papermill": {
     "duration": 0.033378,
     "end_time": "2024-11-28T13:10:48.571992",
     "exception": false,
     "start_time": "2024-11-28T13:10:48.538614",
     "status": "completed"
    },
    "tags": []
   },
   "source": [
    "The model performs better on Class 0 than Class 1, as indicated by higher precision, recall, and F1-score for Class 0.\n",
    "The overall accuracy of 80% is reasonable but might be improved, especially for Class 1."
   ]
  },
  {
   "cell_type": "markdown",
   "id": "2971e147",
   "metadata": {
    "papermill": {
     "duration": 0.033158,
     "end_time": "2024-11-28T13:10:48.638887",
     "exception": false,
     "start_time": "2024-11-28T13:10:48.605729",
     "status": "completed"
    },
    "tags": []
   },
   "source": [
    "## Prediction on X_test"
   ]
  },
  {
   "cell_type": "code",
   "execution_count": 73,
   "id": "1ce70cdb",
   "metadata": {
    "execution": {
     "iopub.execute_input": "2024-11-28T13:10:48.707855Z",
     "iopub.status.busy": "2024-11-28T13:10:48.706851Z",
     "iopub.status.idle": "2024-11-28T13:10:48.712293Z",
     "shell.execute_reply": "2024-11-28T13:10:48.711291Z"
    },
    "papermill": {
     "duration": 0.04206,
     "end_time": "2024-11-28T13:10:48.714209",
     "exception": false,
     "start_time": "2024-11-28T13:10:48.672149",
     "status": "completed"
    },
    "tags": []
   },
   "outputs": [],
   "source": [
    "# Precprocess X_Test\n",
    "selected_feature = X_lr_3.columns\n",
    "X_test = X_test[selected_feature]"
   ]
  },
  {
   "cell_type": "code",
   "execution_count": 74,
   "id": "dd9a6aa0",
   "metadata": {
    "execution": {
     "iopub.execute_input": "2024-11-28T13:10:48.787025Z",
     "iopub.status.busy": "2024-11-28T13:10:48.786368Z",
     "iopub.status.idle": "2024-11-28T13:10:48.796049Z",
     "shell.execute_reply": "2024-11-28T13:10:48.795120Z"
    },
    "papermill": {
     "duration": 0.047885,
     "end_time": "2024-11-28T13:10:48.797931",
     "exception": false,
     "start_time": "2024-11-28T13:10:48.750046",
     "status": "completed"
    },
    "tags": []
   },
   "outputs": [],
   "source": [
    "scaler = StandardScaler()\n",
    "\n",
    "# Select only numeric columns (int and float types)\n",
    "numeric_cols = X_test.select_dtypes(include=['float64', 'int64']).columns\n",
    "\n",
    "# apply fit.transform only to selected columns only\n",
    "X_test[numeric_cols] = scaler.fit_transform(X_test[numeric_cols])"
   ]
  },
  {
   "cell_type": "code",
   "execution_count": 75,
   "id": "212bd5d2",
   "metadata": {
    "execution": {
     "iopub.execute_input": "2024-11-28T13:10:48.872463Z",
     "iopub.status.busy": "2024-11-28T13:10:48.871815Z",
     "iopub.status.idle": "2024-11-28T13:10:48.891494Z",
     "shell.execute_reply": "2024-11-28T13:10:48.889886Z"
    },
    "papermill": {
     "duration": 0.061361,
     "end_time": "2024-11-28T13:10:48.894178",
     "exception": false,
     "start_time": "2024-11-28T13:10:48.832817",
     "status": "completed"
    },
    "tags": []
   },
   "outputs": [
    {
     "data": {
      "text/html": [
       "<div>\n",
       "<style scoped>\n",
       "    .dataframe tbody tr th:only-of-type {\n",
       "        vertical-align: middle;\n",
       "    }\n",
       "\n",
       "    .dataframe tbody tr th {\n",
       "        vertical-align: top;\n",
       "    }\n",
       "\n",
       "    .dataframe thead th {\n",
       "        text-align: right;\n",
       "    }\n",
       "</style>\n",
       "<table border=\"1\" class=\"dataframe\">\n",
       "  <thead>\n",
       "    <tr style=\"text-align: right;\">\n",
       "      <th></th>\n",
       "      <th>const</th>\n",
       "      <th>Pclass</th>\n",
       "      <th>Sex</th>\n",
       "      <th>Age</th>\n",
       "    </tr>\n",
       "    <tr>\n",
       "      <th>PassengerId</th>\n",
       "      <th></th>\n",
       "      <th></th>\n",
       "      <th></th>\n",
       "      <th></th>\n",
       "    </tr>\n",
       "  </thead>\n",
       "  <tbody>\n",
       "    <tr>\n",
       "      <th>721</th>\n",
       "      <td>1.0</td>\n",
       "      <td>-0.324290</td>\n",
       "      <td>1.281396</td>\n",
       "      <td>-1.653850</td>\n",
       "    </tr>\n",
       "    <tr>\n",
       "      <th>880</th>\n",
       "      <td>1.0</td>\n",
       "      <td>-1.563543</td>\n",
       "      <td>1.281396</td>\n",
       "      <td>1.731634</td>\n",
       "    </tr>\n",
       "    <tr>\n",
       "      <th>361</th>\n",
       "      <td>1.0</td>\n",
       "      <td>0.914962</td>\n",
       "      <td>-0.780399</td>\n",
       "      <td>0.648279</td>\n",
       "    </tr>\n",
       "    <tr>\n",
       "      <th>193</th>\n",
       "      <td>1.0</td>\n",
       "      <td>0.914962</td>\n",
       "      <td>1.281396</td>\n",
       "      <td>-0.773624</td>\n",
       "    </tr>\n",
       "    <tr>\n",
       "      <th>771</th>\n",
       "      <td>1.0</td>\n",
       "      <td>0.914962</td>\n",
       "      <td>-0.780399</td>\n",
       "      <td>-0.435076</td>\n",
       "    </tr>\n",
       "    <tr>\n",
       "      <th>...</th>\n",
       "      <td>...</td>\n",
       "      <td>...</td>\n",
       "      <td>...</td>\n",
       "      <td>...</td>\n",
       "    </tr>\n",
       "    <tr>\n",
       "      <th>161</th>\n",
       "      <td>1.0</td>\n",
       "      <td>0.914962</td>\n",
       "      <td>-0.780399</td>\n",
       "      <td>0.919118</td>\n",
       "    </tr>\n",
       "    <tr>\n",
       "      <th>831</th>\n",
       "      <td>1.0</td>\n",
       "      <td>0.914962</td>\n",
       "      <td>1.281396</td>\n",
       "      <td>-1.044463</td>\n",
       "    </tr>\n",
       "    <tr>\n",
       "      <th>95</th>\n",
       "      <td>1.0</td>\n",
       "      <td>0.914962</td>\n",
       "      <td>-0.780399</td>\n",
       "      <td>1.934763</td>\n",
       "    </tr>\n",
       "    <tr>\n",
       "      <th>334</th>\n",
       "      <td>1.0</td>\n",
       "      <td>0.914962</td>\n",
       "      <td>-0.780399</td>\n",
       "      <td>-0.976753</td>\n",
       "    </tr>\n",
       "    <tr>\n",
       "      <th>442</th>\n",
       "      <td>1.0</td>\n",
       "      <td>0.914962</td>\n",
       "      <td>-0.780399</td>\n",
       "      <td>-0.705915</td>\n",
       "    </tr>\n",
       "  </tbody>\n",
       "</table>\n",
       "<p>214 rows × 4 columns</p>\n",
       "</div>"
      ],
      "text/plain": [
       "             const    Pclass       Sex       Age\n",
       "PassengerId                                     \n",
       "721            1.0 -0.324290  1.281396 -1.653850\n",
       "880            1.0 -1.563543  1.281396  1.731634\n",
       "361            1.0  0.914962 -0.780399  0.648279\n",
       "193            1.0  0.914962  1.281396 -0.773624\n",
       "771            1.0  0.914962 -0.780399 -0.435076\n",
       "...            ...       ...       ...       ...\n",
       "161            1.0  0.914962 -0.780399  0.919118\n",
       "831            1.0  0.914962  1.281396 -1.044463\n",
       "95             1.0  0.914962 -0.780399  1.934763\n",
       "334            1.0  0.914962 -0.780399 -0.976753\n",
       "442            1.0  0.914962 -0.780399 -0.705915\n",
       "\n",
       "[214 rows x 4 columns]"
      ]
     },
     "execution_count": 75,
     "metadata": {},
     "output_type": "execute_result"
    }
   ],
   "source": [
    "# prediction on X_test\n",
    "X_test_sm = sm.add_constant(X_test)\n",
    "X_test_sm"
   ]
  },
  {
   "cell_type": "code",
   "execution_count": 76,
   "id": "ef0fef82",
   "metadata": {
    "execution": {
     "iopub.execute_input": "2024-11-28T13:10:48.974806Z",
     "iopub.status.busy": "2024-11-28T13:10:48.974031Z",
     "iopub.status.idle": "2024-11-28T13:10:49.177382Z",
     "shell.execute_reply": "2024-11-28T13:10:49.176378Z"
    },
    "papermill": {
     "duration": 0.241608,
     "end_time": "2024-11-28T13:10:49.179292",
     "exception": false,
     "start_time": "2024-11-28T13:10:48.937684",
     "status": "completed"
    },
    "tags": []
   },
   "outputs": [
    {
     "data": {
      "image/png": "[encoded data removed]",
      "text/plain": [
       "<Figure size 640x480 with 1 Axes>"
      ]
     },
     "metadata": {},
     "output_type": "display_data"
    }
   ],
   "source": [
    "# prediction on train set\n",
    "y_test_pred = lr_model_5.predict(X_test_sm)\n",
    "\n",
    "# Calculate residuals\n",
    "test_residuals = y_test - y_test_pred\n",
    "\n",
    "# Plot residuals\n",
    "import matplotlib.pyplot as plt\n",
    "plt.scatter(y_test_pred, test_residuals, alpha=0.7)\n",
    "plt.axhline(0, color=\"red\", linestyle=\"--\")\n",
    "plt.title(\"Residuals vs Predicted Values (Test Set)\")\n",
    "plt.xlabel(\"Predicted Probabilities\")\n",
    "plt.ylabel(\"Residuals\")\n",
    "plt.show()"
   ]
  },
  {
   "cell_type": "code",
   "execution_count": 77,
   "id": "4a0afc63",
   "metadata": {
    "execution": {
     "iopub.execute_input": "2024-11-28T13:10:49.250426Z",
     "iopub.status.busy": "2024-11-28T13:10:49.249700Z",
     "iopub.status.idle": "2024-11-28T13:10:49.552434Z",
     "shell.execute_reply": "2024-11-28T13:10:49.551140Z"
    },
    "papermill": {
     "duration": 0.340594,
     "end_time": "2024-11-28T13:10:49.554363",
     "exception": false,
     "start_time": "2024-11-28T13:10:49.213769",
     "status": "completed"
    },
    "tags": []
   },
   "outputs": [
    {
     "name": "stderr",
     "output_type": "stream",
     "text": [
      "/opt/conda/lib/python3.10/site-packages/seaborn/_oldcore.py:1119: FutureWarning: use_inf_as_na option is deprecated and will be removed in a future version. Convert inf values to NaN before operating instead.\n",
      "  with pd.option_context('mode.use_inf_as_na', True):\n"
     ]
    },
    {
     "data": {
      "image/png": "[encoded data removed]",
      "text/plain": [
       "<Figure size 500x500 with 1 Axes>"
      ]
     },
     "metadata": {},
     "output_type": "display_data"
    }
   ],
   "source": [
    "sns.displot(train_residuals, kde=True)\n",
    "plt.show()"
   ]
  },
  {
   "cell_type": "code",
   "execution_count": 78,
   "id": "b7d9a4de",
   "metadata": {
    "execution": {
     "iopub.execute_input": "2024-11-28T13:10:49.626768Z",
     "iopub.status.busy": "2024-11-28T13:10:49.625837Z",
     "iopub.status.idle": "2024-11-28T13:10:49.638481Z",
     "shell.execute_reply": "2024-11-28T13:10:49.637461Z"
    },
    "papermill": {
     "duration": 0.051368,
     "end_time": "2024-11-28T13:10:49.640512",
     "exception": false,
     "start_time": "2024-11-28T13:10:49.589144",
     "status": "completed"
    },
    "tags": []
   },
   "outputs": [
    {
     "name": "stdout",
     "output_type": "stream",
     "text": [
      "              precision    recall  f1-score   support\n",
      "\n",
      "           0       0.80      0.86      0.83       124\n",
      "           1       0.79      0.70      0.74        90\n",
      "\n",
      "    accuracy                           0.79       214\n",
      "   macro avg       0.79      0.78      0.79       214\n",
      "weighted avg       0.79      0.79      0.79       214\n",
      "\n"
     ]
    }
   ],
   "source": [
    "y_test_pred_binary = (y_test_pred >= 0.5).astype(int)\n",
    "print(classification_report(y_test, y_test_pred_binary))"
   ]
  },
  {
   "cell_type": "markdown",
   "id": "9e4c5d82",
   "metadata": {
    "papermill": {
     "duration": 0.035082,
     "end_time": "2024-11-28T13:10:49.710697",
     "exception": false,
     "start_time": "2024-11-28T13:10:49.675615",
     "status": "completed"
    },
    "tags": []
   },
   "source": [
    "## Test Data"
   ]
  },
  {
   "cell_type": "code",
   "execution_count": 79,
   "id": "305b49d6",
   "metadata": {
    "execution": {
     "iopub.execute_input": "2024-11-28T13:10:49.783827Z",
     "iopub.status.busy": "2024-11-28T13:10:49.782901Z",
     "iopub.status.idle": "2024-11-28T13:10:49.796973Z",
     "shell.execute_reply": "2024-11-28T13:10:49.795885Z"
    },
    "papermill": {
     "duration": 0.052855,
     "end_time": "2024-11-28T13:10:49.798840",
     "exception": false,
     "start_time": "2024-11-28T13:10:49.745985",
     "status": "completed"
    },
    "tags": []
   },
   "outputs": [
    {
     "data": {
      "text/html": [
       "<div>\n",
       "<style scoped>\n",
       "    .dataframe tbody tr th:only-of-type {\n",
       "        vertical-align: middle;\n",
       "    }\n",
       "\n",
       "    .dataframe tbody tr th {\n",
       "        vertical-align: top;\n",
       "    }\n",
       "\n",
       "    .dataframe thead th {\n",
       "        text-align: right;\n",
       "    }\n",
       "</style>\n",
       "<table border=\"1\" class=\"dataframe\">\n",
       "  <thead>\n",
       "    <tr style=\"text-align: right;\">\n",
       "      <th></th>\n",
       "      <th>PassengerId</th>\n",
       "      <th>Pclass</th>\n",
       "      <th>Name</th>\n",
       "      <th>Sex</th>\n",
       "      <th>Age</th>\n",
       "      <th>SibSp</th>\n",
       "      <th>Parch</th>\n",
       "      <th>Ticket</th>\n",
       "      <th>Fare</th>\n",
       "      <th>Cabin</th>\n",
       "      <th>Embarked</th>\n",
       "    </tr>\n",
       "  </thead>\n",
       "  <tbody>\n",
       "    <tr>\n",
       "      <th>0</th>\n",
       "      <td>892</td>\n",
       "      <td>3</td>\n",
       "      <td>Kelly, Mr. James</td>\n",
       "      <td>male</td>\n",
       "      <td>34.5</td>\n",
       "      <td>0</td>\n",
       "      <td>0</td>\n",
       "      <td>330911</td>\n",
       "      <td>7.8292</td>\n",
       "      <td>NaN</td>\n",
       "      <td>Q</td>\n",
       "    </tr>\n",
       "    <tr>\n",
       "      <th>1</th>\n",
       "      <td>893</td>\n",
       "      <td>3</td>\n",
       "      <td>Wilkes, Mrs. James (Ellen Needs)</td>\n",
       "      <td>female</td>\n",
       "      <td>47.0</td>\n",
       "      <td>1</td>\n",
       "      <td>0</td>\n",
       "      <td>363272</td>\n",
       "      <td>7.0000</td>\n",
       "      <td>NaN</td>\n",
       "      <td>S</td>\n",
       "    </tr>\n",
       "    <tr>\n",
       "      <th>2</th>\n",
       "      <td>894</td>\n",
       "      <td>2</td>\n",
       "      <td>Myles, Mr. Thomas Francis</td>\n",
       "      <td>male</td>\n",
       "      <td>62.0</td>\n",
       "      <td>0</td>\n",
       "      <td>0</td>\n",
       "      <td>240276</td>\n",
       "      <td>9.6875</td>\n",
       "      <td>NaN</td>\n",
       "      <td>Q</td>\n",
       "    </tr>\n",
       "    <tr>\n",
       "      <th>3</th>\n",
       "      <td>895</td>\n",
       "      <td>3</td>\n",
       "      <td>Wirz, Mr. Albert</td>\n",
       "      <td>male</td>\n",
       "      <td>27.0</td>\n",
       "      <td>0</td>\n",
       "      <td>0</td>\n",
       "      <td>315154</td>\n",
       "      <td>8.6625</td>\n",
       "      <td>NaN</td>\n",
       "      <td>S</td>\n",
       "    </tr>\n",
       "    <tr>\n",
       "      <th>4</th>\n",
       "      <td>896</td>\n",
       "      <td>3</td>\n",
       "      <td>Hirvonen, Mrs. Alexander (Helga E Lindqvist)</td>\n",
       "      <td>female</td>\n",
       "      <td>22.0</td>\n",
       "      <td>1</td>\n",
       "      <td>1</td>\n",
       "      <td>3101298</td>\n",
       "      <td>12.2875</td>\n",
       "      <td>NaN</td>\n",
       "      <td>S</td>\n",
       "    </tr>\n",
       "  </tbody>\n",
       "</table>\n",
       "</div>"
      ],
      "text/plain": [
       "   PassengerId  Pclass                                          Name     Sex  \\\n",
       "0          892       3                              Kelly, Mr. James    male   \n",
       "1          893       3              Wilkes, Mrs. James (Ellen Needs)  female   \n",
       "2          894       2                     Myles, Mr. Thomas Francis    male   \n",
       "3          895       3                              Wirz, Mr. Albert    male   \n",
       "4          896       3  Hirvonen, Mrs. Alexander (Helga E Lindqvist)  female   \n",
       "\n",
       "    Age  SibSp  Parch   Ticket     Fare Cabin Embarked  \n",
       "0  34.5      0      0   330911   7.8292   NaN        Q  \n",
       "1  47.0      1      0   363272   7.0000   NaN        S  \n",
       "2  62.0      0      0   240276   9.6875   NaN        Q  \n",
       "3  27.0      0      0   315154   8.6625   NaN        S  \n",
       "4  22.0      1      1  3101298  12.2875   NaN        S  "
      ]
     },
     "execution_count": 79,
     "metadata": {},
     "output_type": "execute_result"
    }
   ],
   "source": [
    "test_data.head()"
   ]
  },
  {
   "cell_type": "code",
   "execution_count": 80,
   "id": "11a6b1ff",
   "metadata": {
    "execution": {
     "iopub.execute_input": "2024-11-28T13:10:49.872884Z",
     "iopub.status.busy": "2024-11-28T13:10:49.872095Z",
     "iopub.status.idle": "2024-11-28T13:10:49.894490Z",
     "shell.execute_reply": "2024-11-28T13:10:49.893392Z"
    },
    "papermill": {
     "duration": 0.060986,
     "end_time": "2024-11-28T13:10:49.896573",
     "exception": false,
     "start_time": "2024-11-28T13:10:49.835587",
     "status": "completed"
    },
    "tags": []
   },
   "outputs": [
    {
     "data": {
      "text/html": [
       "<div>\n",
       "<style scoped>\n",
       "    .dataframe tbody tr th:only-of-type {\n",
       "        vertical-align: middle;\n",
       "    }\n",
       "\n",
       "    .dataframe tbody tr th {\n",
       "        vertical-align: top;\n",
       "    }\n",
       "\n",
       "    .dataframe thead th {\n",
       "        text-align: right;\n",
       "    }\n",
       "</style>\n",
       "<table border=\"1\" class=\"dataframe\">\n",
       "  <thead>\n",
       "    <tr style=\"text-align: right;\">\n",
       "      <th></th>\n",
       "      <th>Pclass</th>\n",
       "      <th>Name</th>\n",
       "      <th>Sex</th>\n",
       "      <th>Age</th>\n",
       "      <th>SibSp</th>\n",
       "      <th>Parch</th>\n",
       "      <th>Ticket</th>\n",
       "      <th>Fare</th>\n",
       "      <th>Cabin</th>\n",
       "      <th>Embarked</th>\n",
       "    </tr>\n",
       "    <tr>\n",
       "      <th>PassengerId</th>\n",
       "      <th></th>\n",
       "      <th></th>\n",
       "      <th></th>\n",
       "      <th></th>\n",
       "      <th></th>\n",
       "      <th></th>\n",
       "      <th></th>\n",
       "      <th></th>\n",
       "      <th></th>\n",
       "      <th></th>\n",
       "    </tr>\n",
       "  </thead>\n",
       "  <tbody>\n",
       "    <tr>\n",
       "      <th>892</th>\n",
       "      <td>0.873482</td>\n",
       "      <td>Kelly, Mr. James</td>\n",
       "      <td>-0.755929</td>\n",
       "      <td>0.298549</td>\n",
       "      <td>-0.499470</td>\n",
       "      <td>-0.400248</td>\n",
       "      <td>330911</td>\n",
       "      <td>-0.497811</td>\n",
       "      <td>NaN</td>\n",
       "      <td>Q</td>\n",
       "    </tr>\n",
       "    <tr>\n",
       "      <th>893</th>\n",
       "      <td>0.873482</td>\n",
       "      <td>Wilkes, Mrs. James (Ellen Needs)</td>\n",
       "      <td>1.322876</td>\n",
       "      <td>1.181328</td>\n",
       "      <td>0.616992</td>\n",
       "      <td>-0.400248</td>\n",
       "      <td>363272</td>\n",
       "      <td>-0.512660</td>\n",
       "      <td>NaN</td>\n",
       "      <td>S</td>\n",
       "    </tr>\n",
       "    <tr>\n",
       "      <th>894</th>\n",
       "      <td>-0.315819</td>\n",
       "      <td>Myles, Mr. Thomas Francis</td>\n",
       "      <td>-0.755929</td>\n",
       "      <td>2.240662</td>\n",
       "      <td>-0.499470</td>\n",
       "      <td>-0.400248</td>\n",
       "      <td>240276</td>\n",
       "      <td>-0.464532</td>\n",
       "      <td>NaN</td>\n",
       "      <td>Q</td>\n",
       "    </tr>\n",
       "    <tr>\n",
       "      <th>895</th>\n",
       "      <td>0.873482</td>\n",
       "      <td>Wirz, Mr. Albert</td>\n",
       "      <td>-0.755929</td>\n",
       "      <td>-0.231118</td>\n",
       "      <td>-0.499470</td>\n",
       "      <td>-0.400248</td>\n",
       "      <td>315154</td>\n",
       "      <td>-0.482888</td>\n",
       "      <td>NaN</td>\n",
       "      <td>S</td>\n",
       "    </tr>\n",
       "    <tr>\n",
       "      <th>896</th>\n",
       "      <td>0.873482</td>\n",
       "      <td>Hirvonen, Mrs. Alexander (Helga E Lindqvist)</td>\n",
       "      <td>1.322876</td>\n",
       "      <td>-0.584229</td>\n",
       "      <td>0.616992</td>\n",
       "      <td>0.619896</td>\n",
       "      <td>3101298</td>\n",
       "      <td>-0.417971</td>\n",
       "      <td>NaN</td>\n",
       "      <td>S</td>\n",
       "    </tr>\n",
       "  </tbody>\n",
       "</table>\n",
       "</div>"
      ],
      "text/plain": [
       "               Pclass                                          Name       Sex  \\\n",
       "PassengerId                                                                     \n",
       "892          0.873482                              Kelly, Mr. James -0.755929   \n",
       "893          0.873482              Wilkes, Mrs. James (Ellen Needs)  1.322876   \n",
       "894         -0.315819                     Myles, Mr. Thomas Francis -0.755929   \n",
       "895          0.873482                              Wirz, Mr. Albert -0.755929   \n",
       "896          0.873482  Hirvonen, Mrs. Alexander (Helga E Lindqvist)  1.322876   \n",
       "\n",
       "                  Age     SibSp     Parch   Ticket      Fare Cabin Embarked  \n",
       "PassengerId                                                                  \n",
       "892          0.298549 -0.499470 -0.400248   330911 -0.497811   NaN        Q  \n",
       "893          1.181328  0.616992 -0.400248   363272 -0.512660   NaN        S  \n",
       "894          2.240662 -0.499470 -0.400248   240276 -0.464532   NaN        Q  \n",
       "895         -0.231118 -0.499470 -0.400248   315154 -0.482888   NaN        S  \n",
       "896         -0.584229  0.616992  0.619896  3101298 -0.417971   NaN        S  "
      ]
     },
     "execution_count": 80,
     "metadata": {},
     "output_type": "execute_result"
    }
   ],
   "source": [
    "# making prediction using final model\n",
    "\n",
    "# applying scaling on test data\n",
    "# Select only numeric columns (int and float types)\n",
    "test_data_lr = test_data\n",
    "test_data_lr.set_index('PassengerId', inplace=True)\n",
    "\n",
    "# convert male to 0 and female to 1\n",
    "test_data_lr.loc[:,'Sex'] =test_data_lr.loc[:,'Sex'].map({'male':0, 'female':1})\n",
    "# Ensure the column's data type is float\n",
    "test_data_lr['Sex'] = test_data_lr['Sex'].astype(float)\n",
    "\n",
    "numeric_cols = test_data_lr.select_dtypes(include=['float64', 'int64']).columns\n",
    "\n",
    "# apply fit.transform only to selected columns only\n",
    "test_data_lr[numeric_cols] = scaler.fit_transform(test_data_lr[numeric_cols])\n",
    "\n",
    "test_data_lr.head()"
   ]
  },
  {
   "cell_type": "code",
   "execution_count": 81,
   "id": "17fd2f31",
   "metadata": {
    "execution": {
     "iopub.execute_input": "2024-11-28T13:10:49.969093Z",
     "iopub.status.busy": "2024-11-28T13:10:49.968227Z",
     "iopub.status.idle": "2024-11-28T13:10:49.973133Z",
     "shell.execute_reply": "2024-11-28T13:10:49.972258Z"
    },
    "papermill": {
     "duration": 0.042775,
     "end_time": "2024-11-28T13:10:49.974901",
     "exception": false,
     "start_time": "2024-11-28T13:10:49.932126",
     "status": "completed"
    },
    "tags": []
   },
   "outputs": [],
   "source": [
    "# selected feature\n",
    "test_data_lr = test_data_lr[selected_feature]"
   ]
  },
  {
   "cell_type": "code",
   "execution_count": 82,
   "id": "f2fe0343",
   "metadata": {
    "execution": {
     "iopub.execute_input": "2024-11-28T13:10:50.047076Z",
     "iopub.status.busy": "2024-11-28T13:10:50.046330Z",
     "iopub.status.idle": "2024-11-28T13:10:50.053126Z",
     "shell.execute_reply": "2024-11-28T13:10:50.052136Z"
    },
    "papermill": {
     "duration": 0.045347,
     "end_time": "2024-11-28T13:10:50.055073",
     "exception": false,
     "start_time": "2024-11-28T13:10:50.009726",
     "status": "completed"
    },
    "tags": []
   },
   "outputs": [],
   "source": [
    "# adding constant variable to test dataframe\n",
    "X_test_data = sm.add_constant(test_data_lr)"
   ]
  },
  {
   "cell_type": "code",
   "execution_count": null,
   "id": "c1e1c27b",
   "metadata": {
    "papermill": {
     "duration": 0.035095,
     "end_time": "2024-11-28T13:10:50.125710",
     "exception": false,
     "start_time": "2024-11-28T13:10:50.090615",
     "status": "completed"
    },
    "tags": []
   },
   "outputs": [],
   "source": []
  },
  {
   "cell_type": "code",
   "execution_count": 83,
   "id": "2e2a1a51",
   "metadata": {
    "execution": {
     "iopub.execute_input": "2024-11-28T13:10:50.198894Z",
     "iopub.status.busy": "2024-11-28T13:10:50.197989Z",
     "iopub.status.idle": "2024-11-28T13:10:50.209646Z",
     "shell.execute_reply": "2024-11-28T13:10:50.208639Z"
    },
    "papermill": {
     "duration": 0.050272,
     "end_time": "2024-11-28T13:10:50.211619",
     "exception": false,
     "start_time": "2024-11-28T13:10:50.161347",
     "status": "completed"
    },
    "tags": []
   },
   "outputs": [
    {
     "data": {
      "text/plain": [
       "const     0.0\n",
       "Pclass    0.0\n",
       "Sex       0.0\n",
       "Age       0.0\n",
       "dtype: float64"
      ]
     },
     "execution_count": 83,
     "metadata": {},
     "output_type": "execute_result"
    }
   ],
   "source": [
    "for col in X_test_data.columns:\n",
    "    if X_test_data[col].isnull().sum()> 0:\n",
    "        val_to_replace = X_test_data[col].median()\n",
    "        X_test_data.fillna({col: val_to_replace}, inplace=True)\n",
    "# checking for nan values\n",
    "round(((X_test_data.isnull().sum())/len(X_test_data.index))*100,4)"
   ]
  },
  {
   "cell_type": "code",
   "execution_count": 84,
   "id": "30a72678",
   "metadata": {
    "execution": {
     "iopub.execute_input": "2024-11-28T13:10:50.284526Z",
     "iopub.status.busy": "2024-11-28T13:10:50.284129Z",
     "iopub.status.idle": "2024-11-28T13:10:50.297044Z",
     "shell.execute_reply": "2024-11-28T13:10:50.296093Z"
    },
    "papermill": {
     "duration": 0.051585,
     "end_time": "2024-11-28T13:10:50.298874",
     "exception": false,
     "start_time": "2024-11-28T13:10:50.247289",
     "status": "completed"
    },
    "tags": []
   },
   "outputs": [
    {
     "data": {
      "text/html": [
       "<div>\n",
       "<style scoped>\n",
       "    .dataframe tbody tr th:only-of-type {\n",
       "        vertical-align: middle;\n",
       "    }\n",
       "\n",
       "    .dataframe tbody tr th {\n",
       "        vertical-align: top;\n",
       "    }\n",
       "\n",
       "    .dataframe thead th {\n",
       "        text-align: right;\n",
       "    }\n",
       "</style>\n",
       "<table border=\"1\" class=\"dataframe\">\n",
       "  <thead>\n",
       "    <tr style=\"text-align: right;\">\n",
       "      <th></th>\n",
       "      <th>const</th>\n",
       "      <th>Pclass</th>\n",
       "      <th>Sex</th>\n",
       "      <th>Age</th>\n",
       "    </tr>\n",
       "    <tr>\n",
       "      <th>PassengerId</th>\n",
       "      <th></th>\n",
       "      <th></th>\n",
       "      <th></th>\n",
       "      <th></th>\n",
       "    </tr>\n",
       "  </thead>\n",
       "  <tbody>\n",
       "    <tr>\n",
       "      <th>892</th>\n",
       "      <td>1.0</td>\n",
       "      <td>0.873482</td>\n",
       "      <td>-0.755929</td>\n",
       "      <td>0.298549</td>\n",
       "    </tr>\n",
       "    <tr>\n",
       "      <th>893</th>\n",
       "      <td>1.0</td>\n",
       "      <td>0.873482</td>\n",
       "      <td>1.322876</td>\n",
       "      <td>1.181328</td>\n",
       "    </tr>\n",
       "    <tr>\n",
       "      <th>894</th>\n",
       "      <td>1.0</td>\n",
       "      <td>-0.315819</td>\n",
       "      <td>-0.755929</td>\n",
       "      <td>2.240662</td>\n",
       "    </tr>\n",
       "    <tr>\n",
       "      <th>895</th>\n",
       "      <td>1.0</td>\n",
       "      <td>0.873482</td>\n",
       "      <td>-0.755929</td>\n",
       "      <td>-0.231118</td>\n",
       "    </tr>\n",
       "    <tr>\n",
       "      <th>896</th>\n",
       "      <td>1.0</td>\n",
       "      <td>0.873482</td>\n",
       "      <td>1.322876</td>\n",
       "      <td>-0.584229</td>\n",
       "    </tr>\n",
       "    <tr>\n",
       "      <th>...</th>\n",
       "      <td>...</td>\n",
       "      <td>...</td>\n",
       "      <td>...</td>\n",
       "      <td>...</td>\n",
       "    </tr>\n",
       "    <tr>\n",
       "      <th>1305</th>\n",
       "      <td>1.0</td>\n",
       "      <td>0.873482</td>\n",
       "      <td>-0.755929</td>\n",
       "      <td>-0.231118</td>\n",
       "    </tr>\n",
       "    <tr>\n",
       "      <th>1306</th>\n",
       "      <td>1.0</td>\n",
       "      <td>-1.505120</td>\n",
       "      <td>1.322876</td>\n",
       "      <td>0.616350</td>\n",
       "    </tr>\n",
       "    <tr>\n",
       "      <th>1307</th>\n",
       "      <td>1.0</td>\n",
       "      <td>0.873482</td>\n",
       "      <td>-0.755929</td>\n",
       "      <td>0.581038</td>\n",
       "    </tr>\n",
       "    <tr>\n",
       "      <th>1308</th>\n",
       "      <td>1.0</td>\n",
       "      <td>0.873482</td>\n",
       "      <td>-0.755929</td>\n",
       "      <td>-0.231118</td>\n",
       "    </tr>\n",
       "    <tr>\n",
       "      <th>1309</th>\n",
       "      <td>1.0</td>\n",
       "      <td>0.873482</td>\n",
       "      <td>-0.755929</td>\n",
       "      <td>-0.231118</td>\n",
       "    </tr>\n",
       "  </tbody>\n",
       "</table>\n",
       "<p>418 rows × 4 columns</p>\n",
       "</div>"
      ],
      "text/plain": [
       "             const    Pclass       Sex       Age\n",
       "PassengerId                                     \n",
       "892            1.0  0.873482 -0.755929  0.298549\n",
       "893            1.0  0.873482  1.322876  1.181328\n",
       "894            1.0 -0.315819 -0.755929  2.240662\n",
       "895            1.0  0.873482 -0.755929 -0.231118\n",
       "896            1.0  0.873482  1.322876 -0.584229\n",
       "...            ...       ...       ...       ...\n",
       "1305           1.0  0.873482 -0.755929 -0.231118\n",
       "1306           1.0 -1.505120  1.322876  0.616350\n",
       "1307           1.0  0.873482 -0.755929  0.581038\n",
       "1308           1.0  0.873482 -0.755929 -0.231118\n",
       "1309           1.0  0.873482 -0.755929 -0.231118\n",
       "\n",
       "[418 rows x 4 columns]"
      ]
     },
     "execution_count": 84,
     "metadata": {},
     "output_type": "execute_result"
    }
   ],
   "source": [
    "X_test_data"
   ]
  },
  {
   "cell_type": "code",
   "execution_count": 85,
   "id": "f3079951",
   "metadata": {
    "execution": {
     "iopub.execute_input": "2024-11-28T13:10:50.372138Z",
     "iopub.status.busy": "2024-11-28T13:10:50.371751Z",
     "iopub.status.idle": "2024-11-28T13:10:50.377484Z",
     "shell.execute_reply": "2024-11-28T13:10:50.376553Z"
    },
    "papermill": {
     "duration": 0.04475,
     "end_time": "2024-11-28T13:10:50.379752",
     "exception": false,
     "start_time": "2024-11-28T13:10:50.335002",
     "status": "completed"
    },
    "tags": []
   },
   "outputs": [
    {
     "name": "stdout",
     "output_type": "stream",
     "text": [
      "const     float64\n",
      "Pclass    float64\n",
      "Sex       float64\n",
      "Age       float64\n",
      "dtype: object\n"
     ]
    }
   ],
   "source": [
    "print(X_test_data.dtypes)"
   ]
  },
  {
   "cell_type": "code",
   "execution_count": 86,
   "id": "53cf29e8",
   "metadata": {
    "execution": {
     "iopub.execute_input": "2024-11-28T13:10:50.453608Z",
     "iopub.status.busy": "2024-11-28T13:10:50.453177Z",
     "iopub.status.idle": "2024-11-28T13:10:50.458258Z",
     "shell.execute_reply": "2024-11-28T13:10:50.457288Z"
    },
    "papermill": {
     "duration": 0.044433,
     "end_time": "2024-11-28T13:10:50.460135",
     "exception": false,
     "start_time": "2024-11-28T13:10:50.415702",
     "status": "completed"
    },
    "tags": []
   },
   "outputs": [],
   "source": [
    "#making prediction using fifth model\n",
    "y_pred = lr_model_5.predict(X_test_data)"
   ]
  },
  {
   "cell_type": "code",
   "execution_count": 87,
   "id": "ed374fbd",
   "metadata": {
    "execution": {
     "iopub.execute_input": "2024-11-28T13:10:50.533868Z",
     "iopub.status.busy": "2024-11-28T13:10:50.533488Z",
     "iopub.status.idle": "2024-11-28T13:10:50.539638Z",
     "shell.execute_reply": "2024-11-28T13:10:50.538608Z"
    },
    "papermill": {
     "duration": 0.045549,
     "end_time": "2024-11-28T13:10:50.541745",
     "exception": false,
     "start_time": "2024-11-28T13:10:50.496196",
     "status": "completed"
    },
    "tags": []
   },
   "outputs": [],
   "source": [
    "result = pd.concat([X_test_data, y_pred], axis=1)"
   ]
  },
  {
   "cell_type": "code",
   "execution_count": 88,
   "id": "8062f26a",
   "metadata": {
    "execution": {
     "iopub.execute_input": "2024-11-28T13:10:50.615415Z",
     "iopub.status.busy": "2024-11-28T13:10:50.614997Z",
     "iopub.status.idle": "2024-11-28T13:10:50.629532Z",
     "shell.execute_reply": "2024-11-28T13:10:50.628578Z"
    },
    "papermill": {
     "duration": 0.053708,
     "end_time": "2024-11-28T13:10:50.631542",
     "exception": false,
     "start_time": "2024-11-28T13:10:50.577834",
     "status": "completed"
    },
    "tags": []
   },
   "outputs": [
    {
     "data": {
      "text/html": [
       "<div>\n",
       "<style scoped>\n",
       "    .dataframe tbody tr th:only-of-type {\n",
       "        vertical-align: middle;\n",
       "    }\n",
       "\n",
       "    .dataframe tbody tr th {\n",
       "        vertical-align: top;\n",
       "    }\n",
       "\n",
       "    .dataframe thead th {\n",
       "        text-align: right;\n",
       "    }\n",
       "</style>\n",
       "<table border=\"1\" class=\"dataframe\">\n",
       "  <thead>\n",
       "    <tr style=\"text-align: right;\">\n",
       "      <th></th>\n",
       "      <th>const</th>\n",
       "      <th>Pclass</th>\n",
       "      <th>Sex</th>\n",
       "      <th>Age</th>\n",
       "      <th>Survived</th>\n",
       "    </tr>\n",
       "    <tr>\n",
       "      <th>PassengerId</th>\n",
       "      <th></th>\n",
       "      <th></th>\n",
       "      <th></th>\n",
       "      <th></th>\n",
       "      <th></th>\n",
       "    </tr>\n",
       "  </thead>\n",
       "  <tbody>\n",
       "    <tr>\n",
       "      <th>892</th>\n",
       "      <td>1.0</td>\n",
       "      <td>0.873482</td>\n",
       "      <td>-0.755929</td>\n",
       "      <td>0.298549</td>\n",
       "      <td>0.063816</td>\n",
       "    </tr>\n",
       "    <tr>\n",
       "      <th>893</th>\n",
       "      <td>1.0</td>\n",
       "      <td>0.873482</td>\n",
       "      <td>1.322876</td>\n",
       "      <td>1.181328</td>\n",
       "      <td>0.357360</td>\n",
       "    </tr>\n",
       "    <tr>\n",
       "      <th>894</th>\n",
       "      <td>1.0</td>\n",
       "      <td>-0.315819</td>\n",
       "      <td>-0.755929</td>\n",
       "      <td>2.240662</td>\n",
       "      <td>0.104709</td>\n",
       "    </tr>\n",
       "    <tr>\n",
       "      <th>895</th>\n",
       "      <td>1.0</td>\n",
       "      <td>0.873482</td>\n",
       "      <td>-0.755929</td>\n",
       "      <td>-0.231118</td>\n",
       "      <td>0.079899</td>\n",
       "    </tr>\n",
       "    <tr>\n",
       "      <th>896</th>\n",
       "      <td>1.0</td>\n",
       "      <td>0.873482</td>\n",
       "      <td>1.322876</td>\n",
       "      <td>-0.584229</td>\n",
       "      <td>0.554800</td>\n",
       "    </tr>\n",
       "    <tr>\n",
       "      <th>...</th>\n",
       "      <td>...</td>\n",
       "      <td>...</td>\n",
       "      <td>...</td>\n",
       "      <td>...</td>\n",
       "      <td>...</td>\n",
       "    </tr>\n",
       "    <tr>\n",
       "      <th>1305</th>\n",
       "      <td>1.0</td>\n",
       "      <td>0.873482</td>\n",
       "      <td>-0.755929</td>\n",
       "      <td>-0.231118</td>\n",
       "      <td>0.079899</td>\n",
       "    </tr>\n",
       "    <tr>\n",
       "      <th>1306</th>\n",
       "      <td>1.0</td>\n",
       "      <td>-1.505120</td>\n",
       "      <td>1.322876</td>\n",
       "      <td>0.616350</td>\n",
       "      <td>0.925964</td>\n",
       "    </tr>\n",
       "    <tr>\n",
       "      <th>1307</th>\n",
       "      <td>1.0</td>\n",
       "      <td>0.873482</td>\n",
       "      <td>-0.755929</td>\n",
       "      <td>0.581038</td>\n",
       "      <td>0.056524</td>\n",
       "    </tr>\n",
       "    <tr>\n",
       "      <th>1308</th>\n",
       "      <td>1.0</td>\n",
       "      <td>0.873482</td>\n",
       "      <td>-0.755929</td>\n",
       "      <td>-0.231118</td>\n",
       "      <td>0.079899</td>\n",
       "    </tr>\n",
       "    <tr>\n",
       "      <th>1309</th>\n",
       "      <td>1.0</td>\n",
       "      <td>0.873482</td>\n",
       "      <td>-0.755929</td>\n",
       "      <td>-0.231118</td>\n",
       "      <td>0.079899</td>\n",
       "    </tr>\n",
       "  </tbody>\n",
       "</table>\n",
       "<p>418 rows × 5 columns</p>\n",
       "</div>"
      ],
      "text/plain": [
       "             const    Pclass       Sex       Age  Survived\n",
       "PassengerId                                               \n",
       "892            1.0  0.873482 -0.755929  0.298549  0.063816\n",
       "893            1.0  0.873482  1.322876  1.181328  0.357360\n",
       "894            1.0 -0.315819 -0.755929  2.240662  0.104709\n",
       "895            1.0  0.873482 -0.755929 -0.231118  0.079899\n",
       "896            1.0  0.873482  1.322876 -0.584229  0.554800\n",
       "...            ...       ...       ...       ...       ...\n",
       "1305           1.0  0.873482 -0.755929 -0.231118  0.079899\n",
       "1306           1.0 -1.505120  1.322876  0.616350  0.925964\n",
       "1307           1.0  0.873482 -0.755929  0.581038  0.056524\n",
       "1308           1.0  0.873482 -0.755929 -0.231118  0.079899\n",
       "1309           1.0  0.873482 -0.755929 -0.231118  0.079899\n",
       "\n",
       "[418 rows x 5 columns]"
      ]
     },
     "execution_count": 88,
     "metadata": {},
     "output_type": "execute_result"
    }
   ],
   "source": [
    "result.rename(columns={result.columns[-1]:'Survived'}, inplace=True)\n",
    "result"
   ]
  },
  {
   "cell_type": "code",
   "execution_count": 89,
   "id": "5d33c149",
   "metadata": {
    "execution": {
     "iopub.execute_input": "2024-11-28T13:10:50.705950Z",
     "iopub.status.busy": "2024-11-28T13:10:50.705067Z",
     "iopub.status.idle": "2024-11-28T13:10:50.717948Z",
     "shell.execute_reply": "2024-11-28T13:10:50.716971Z"
    },
    "papermill": {
     "duration": 0.051955,
     "end_time": "2024-11-28T13:10:50.719932",
     "exception": false,
     "start_time": "2024-11-28T13:10:50.667977",
     "status": "completed"
    },
    "tags": []
   },
   "outputs": [
    {
     "data": {
      "text/html": [
       "<div>\n",
       "<style scoped>\n",
       "    .dataframe tbody tr th:only-of-type {\n",
       "        vertical-align: middle;\n",
       "    }\n",
       "\n",
       "    .dataframe tbody tr th {\n",
       "        vertical-align: top;\n",
       "    }\n",
       "\n",
       "    .dataframe thead th {\n",
       "        text-align: right;\n",
       "    }\n",
       "</style>\n",
       "<table border=\"1\" class=\"dataframe\">\n",
       "  <thead>\n",
       "    <tr style=\"text-align: right;\">\n",
       "      <th></th>\n",
       "      <th>const</th>\n",
       "      <th>Pclass</th>\n",
       "      <th>Sex</th>\n",
       "      <th>Age</th>\n",
       "      <th>Survived</th>\n",
       "    </tr>\n",
       "    <tr>\n",
       "      <th>PassengerId</th>\n",
       "      <th></th>\n",
       "      <th></th>\n",
       "      <th></th>\n",
       "      <th></th>\n",
       "      <th></th>\n",
       "    </tr>\n",
       "  </thead>\n",
       "  <tbody>\n",
       "    <tr>\n",
       "      <th>892</th>\n",
       "      <td>1.0</td>\n",
       "      <td>0.873482</td>\n",
       "      <td>-0.755929</td>\n",
       "      <td>0.298549</td>\n",
       "      <td>0</td>\n",
       "    </tr>\n",
       "    <tr>\n",
       "      <th>893</th>\n",
       "      <td>1.0</td>\n",
       "      <td>0.873482</td>\n",
       "      <td>1.322876</td>\n",
       "      <td>1.181328</td>\n",
       "      <td>0</td>\n",
       "    </tr>\n",
       "    <tr>\n",
       "      <th>894</th>\n",
       "      <td>1.0</td>\n",
       "      <td>-0.315819</td>\n",
       "      <td>-0.755929</td>\n",
       "      <td>2.240662</td>\n",
       "      <td>0</td>\n",
       "    </tr>\n",
       "    <tr>\n",
       "      <th>895</th>\n",
       "      <td>1.0</td>\n",
       "      <td>0.873482</td>\n",
       "      <td>-0.755929</td>\n",
       "      <td>-0.231118</td>\n",
       "      <td>0</td>\n",
       "    </tr>\n",
       "    <tr>\n",
       "      <th>896</th>\n",
       "      <td>1.0</td>\n",
       "      <td>0.873482</td>\n",
       "      <td>1.322876</td>\n",
       "      <td>-0.584229</td>\n",
       "      <td>1</td>\n",
       "    </tr>\n",
       "  </tbody>\n",
       "</table>\n",
       "</div>"
      ],
      "text/plain": [
       "             const    Pclass       Sex       Age  Survived\n",
       "PassengerId                                               \n",
       "892            1.0  0.873482 -0.755929  0.298549         0\n",
       "893            1.0  0.873482  1.322876  1.181328         0\n",
       "894            1.0 -0.315819 -0.755929  2.240662         0\n",
       "895            1.0  0.873482 -0.755929 -0.231118         0\n",
       "896            1.0  0.873482  1.322876 -0.584229         1"
      ]
     },
     "execution_count": 89,
     "metadata": {},
     "output_type": "execute_result"
    }
   ],
   "source": [
    "result['Survived'] = round(result['Survived'],1)\n",
    "result['Survived'] =(result['Survived']>=0.5).astype(int)\n",
    "result.head()"
   ]
  },
  {
   "cell_type": "code",
   "execution_count": 90,
   "id": "418f7d0b",
   "metadata": {
    "execution": {
     "iopub.execute_input": "2024-11-28T13:10:50.793957Z",
     "iopub.status.busy": "2024-11-28T13:10:50.793566Z",
     "iopub.status.idle": "2024-11-28T13:10:50.802683Z",
     "shell.execute_reply": "2024-11-28T13:10:50.801781Z"
    },
    "papermill": {
     "duration": 0.047887,
     "end_time": "2024-11-28T13:10:50.804570",
     "exception": false,
     "start_time": "2024-11-28T13:10:50.756683",
     "status": "completed"
    },
    "tags": []
   },
   "outputs": [
    {
     "data": {
      "text/html": [
       "<div>\n",
       "<style scoped>\n",
       "    .dataframe tbody tr th:only-of-type {\n",
       "        vertical-align: middle;\n",
       "    }\n",
       "\n",
       "    .dataframe tbody tr th {\n",
       "        vertical-align: top;\n",
       "    }\n",
       "\n",
       "    .dataframe thead th {\n",
       "        text-align: right;\n",
       "    }\n",
       "</style>\n",
       "<table border=\"1\" class=\"dataframe\">\n",
       "  <thead>\n",
       "    <tr style=\"text-align: right;\">\n",
       "      <th></th>\n",
       "      <th>Survived</th>\n",
       "    </tr>\n",
       "    <tr>\n",
       "      <th>PassengerId</th>\n",
       "      <th></th>\n",
       "    </tr>\n",
       "  </thead>\n",
       "  <tbody>\n",
       "    <tr>\n",
       "      <th>892</th>\n",
       "      <td>0</td>\n",
       "    </tr>\n",
       "    <tr>\n",
       "      <th>893</th>\n",
       "      <td>0</td>\n",
       "    </tr>\n",
       "    <tr>\n",
       "      <th>894</th>\n",
       "      <td>0</td>\n",
       "    </tr>\n",
       "    <tr>\n",
       "      <th>895</th>\n",
       "      <td>0</td>\n",
       "    </tr>\n",
       "    <tr>\n",
       "      <th>896</th>\n",
       "      <td>1</td>\n",
       "    </tr>\n",
       "  </tbody>\n",
       "</table>\n",
       "</div>"
      ],
      "text/plain": [
       "             Survived\n",
       "PassengerId          \n",
       "892                 0\n",
       "893                 0\n",
       "894                 0\n",
       "895                 0\n",
       "896                 1"
      ]
     },
     "execution_count": 90,
     "metadata": {},
     "output_type": "execute_result"
    }
   ],
   "source": [
    "final_result = result.drop(['const','Pclass','Sex','Age'], axis=1)\n",
    "final_result.head()"
   ]
  },
  {
   "cell_type": "code",
   "execution_count": 91,
   "id": "1cfc4caa",
   "metadata": {
    "execution": {
     "iopub.execute_input": "2024-11-28T13:10:50.881046Z",
     "iopub.status.busy": "2024-11-28T13:10:50.880636Z",
     "iopub.status.idle": "2024-11-28T13:10:50.890314Z",
     "shell.execute_reply": "2024-11-28T13:10:50.889345Z"
    },
    "papermill": {
     "duration": 0.049661,
     "end_time": "2024-11-28T13:10:50.892219",
     "exception": false,
     "start_time": "2024-11-28T13:10:50.842558",
     "status": "completed"
    },
    "tags": []
   },
   "outputs": [
    {
     "data": {
      "text/html": [
       "<div>\n",
       "<style scoped>\n",
       "    .dataframe tbody tr th:only-of-type {\n",
       "        vertical-align: middle;\n",
       "    }\n",
       "\n",
       "    .dataframe tbody tr th {\n",
       "        vertical-align: top;\n",
       "    }\n",
       "\n",
       "    .dataframe thead th {\n",
       "        text-align: right;\n",
       "    }\n",
       "</style>\n",
       "<table border=\"1\" class=\"dataframe\">\n",
       "  <thead>\n",
       "    <tr style=\"text-align: right;\">\n",
       "      <th></th>\n",
       "      <th>PassengerId</th>\n",
       "      <th>Survived</th>\n",
       "    </tr>\n",
       "  </thead>\n",
       "  <tbody>\n",
       "    <tr>\n",
       "      <th>0</th>\n",
       "      <td>892</td>\n",
       "      <td>0</td>\n",
       "    </tr>\n",
       "    <tr>\n",
       "      <th>1</th>\n",
       "      <td>893</td>\n",
       "      <td>0</td>\n",
       "    </tr>\n",
       "    <tr>\n",
       "      <th>2</th>\n",
       "      <td>894</td>\n",
       "      <td>0</td>\n",
       "    </tr>\n",
       "    <tr>\n",
       "      <th>3</th>\n",
       "      <td>895</td>\n",
       "      <td>0</td>\n",
       "    </tr>\n",
       "    <tr>\n",
       "      <th>4</th>\n",
       "      <td>896</td>\n",
       "      <td>1</td>\n",
       "    </tr>\n",
       "  </tbody>\n",
       "</table>\n",
       "</div>"
      ],
      "text/plain": [
       "   PassengerId  Survived\n",
       "0          892         0\n",
       "1          893         0\n",
       "2          894         0\n",
       "3          895         0\n",
       "4          896         1"
      ]
     },
     "execution_count": 91,
     "metadata": {},
     "output_type": "execute_result"
    }
   ],
   "source": [
    "final_result.reset_index(inplace=True)\n",
    "final_result.head()"
   ]
  },
  {
   "cell_type": "code",
   "execution_count": 92,
   "id": "49c03342",
   "metadata": {
    "execution": {
     "iopub.execute_input": "2024-11-28T13:10:50.967074Z",
     "iopub.status.busy": "2024-11-28T13:10:50.966652Z",
     "iopub.status.idle": "2024-11-28T13:10:50.975103Z",
     "shell.execute_reply": "2024-11-28T13:10:50.974018Z"
    },
    "papermill": {
     "duration": 0.048761,
     "end_time": "2024-11-28T13:10:50.977607",
     "exception": false,
     "start_time": "2024-11-28T13:10:50.928846",
     "status": "completed"
    },
    "tags": []
   },
   "outputs": [],
   "source": [
    "final_result.to_csv('submission_logit.csv', index=False)"
   ]
  },
  {
   "cell_type": "code",
   "execution_count": null,
   "id": "58437f00",
   "metadata": {
    "papermill": {
     "duration": 0.037768,
     "end_time": "2024-11-28T13:10:51.054030",
     "exception": false,
     "start_time": "2024-11-28T13:10:51.016262",
     "status": "completed"
    },
    "tags": []
   },
   "outputs": [],
   "source": []
  },
  {
   "cell_type": "code",
   "execution_count": null,
   "id": "2d91ded5",
   "metadata": {
    "papermill": {
     "duration": 0.036556,
     "end_time": "2024-11-28T13:10:51.129376",
     "exception": false,
     "start_time": "2024-11-28T13:10:51.092820",
     "status": "completed"
    },
    "tags": []
   },
   "outputs": [],
   "source": []
  }
 ],
 "metadata": {
  "kaggle": {
   "accelerator": "none",
   "dataSources": [
    {
     "databundleVersionId": 26502,
     "sourceId": 3136,
     "sourceType": "competition"
    }
   ],
   "dockerImageVersionId": 30786,
   "isGpuEnabled": false,
   "isInternetEnabled": true,
   "language": "python",
   "sourceType": "notebook"
  },
  "kernelspec": {
   "display_name": "Python 3",
   "language": "python",
   "name": "python3"
  },
  "language_info": {
   "codemirror_mode": {
    "name": "ipython",
    "version": 3
   },
   "file_extension": ".py",
   "mimetype": "text/x-python",
   "name": "python",
   "nbconvert_exporter": "python",
   "pygments_lexer": "ipython3",
   "version": "3.10.14"
  },
  "papermill": {
   "default_parameters": {},
   "duration": 23.029797,
   "end_time": "2024-11-28T13:10:51.886380",
   "environment_variables": {},
   "exception": null,
   "input_path": "__notebook__.ipynb",
   "output_path": "__notebook__.ipynb",
   "parameters": {},
   "start_time": "2024-11-28T13:10:28.856583",
   "version": "2.6.0"
  }
 },
 "nbformat": 4,
 "nbformat_minor": 5
}
